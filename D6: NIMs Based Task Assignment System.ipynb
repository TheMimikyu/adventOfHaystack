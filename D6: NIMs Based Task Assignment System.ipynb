{
  "cells": [
    {
      "cell_type": "markdown",
      "metadata": {
        "id": "VKJuDl_g9gwj"
      },
      "source": [
        "# Project: NIMs Based Task Assignment System\n",
        "\n",
        "## Overview\n",
        "\n",
        "This project implements an intelligent task assignment system using ranking models and embeddings to match tasks with performers based on their profiles and capabilities.\n",
        "\n",
        "## Key Components\n",
        "\n",
        "1. Task Assignment System\n",
        "    - Uses ranking models to evaluate task-performer compatibility\n",
        "    - Supports multiple assignments per task\n",
        "    - Based on skills and experience matching\n",
        "\n",
        "2. Multilingual Description Categorization \n",
        "    - Processes task descriptions in multiple languages\n",
        "    - Groups similar tasks using semantic similarity\n",
        "    - Implements embeddings and cosine similarity\n",
        "\n",
        "### Technical Components\n",
        "\n",
        "- [NvidiaRanker](https://docs.haystack.deepset.ai/docs/nvidiaranker) for task-performer matching\n",
        "- [NvidiaTextEmbedder](https://docs.haystack.deepset.ai/docs/nvidiatextembedder) for multilingual processing  \n",
        "- [DocumentMRREvaluator](https://docs.haystack.deepset.ai/docs/documentmrrevaluator) for performance metrics\n",
        "\n",
        "### Required Setup\n",
        "\n",
        "- NVIDIA AI Platform account\n",
        "- API key from NVIDIA\n",
        "- Python environment with required packages\n",
        "\n",
        "## Project Structure\n",
        "\n",
        "1. Task assignment implementation\n",
        "2. Performance evaluation\n",
        "3. Multilingual categorization\n",
        "4. Results analysis\n"
      ]
    },
    {
      "cell_type": "markdown",
      "metadata": {
        "id": "mWdt7W5FA_qP"
      },
      "source": [
        "## Pre-Requisites\n"
      ]
    },
    {
      "cell_type": "markdown",
      "metadata": {
        "id": "z7p2fscwBCiH"
      },
      "source": [
        "### Account Setup\n",
        "\n",
        "1. Create a free account at [NVIDIA AI Platform](https://build.nvidia.com/)\n",
        "2. Generate API key:\n",
        "    - Click any model\n",
        "    - Select \"Build this with NIM\"\n",
        "    - Copy generated API key\n"
      ]
    },
    {
      "cell_type": "markdown",
      "metadata": {
        "id": "53tGgcu4_lYG"
      },
      "source": [
        "## Environment Downloads\n"
      ]
    },
    {
      "cell_type": "code",
      "execution_count": 1,
      "metadata": {
        "collapsed": true,
        "id": "OZy7rMCt6bsS"
      },
      "outputs": [
        {
          "name": "stdout",
          "output_type": "stream",
          "text": [
            "\u001b[2mAudited \u001b[1m2 packages\u001b[0m \u001b[2min 40ms\u001b[0m\u001b[0m\n"
          ]
        }
      ],
      "source": [
        "!uv pip install nvidia-haystack gdown"
      ]
    },
    {
      "cell_type": "markdown",
      "metadata": {
        "id": "g9Tq_xGPzjfE"
      },
      "source": [
        "## Dataset Description\n"
      ]
    },
    {
      "cell_type": "markdown",
      "metadata": {
        "id": "AC0pL4g0znlO"
      },
      "source": [
        "1. `task1_elf_profiles.csv`: a short description of each elf's expertise, traits, and preferences\n",
        "2. `task1_descriptions.csv`: a description of what each task involves\n",
        "3. `task1_solution_key.csv`: the optimal elf-task assignment, to be used for evaluation.\n",
        "4. `task2_parent_notes.xlsx`: the messages that Santa got from the parents all over the world requesting to leave the gifts in specific places\n",
        "5. `task2_solution_key.xlsx`: the right assignment of messages-places, to be used for evaluation.\n"
      ]
    },
    {
      "cell_type": "code",
      "execution_count": 2,
      "metadata": {
        "collapsed": true,
        "id": "h8NcSFQbCEg3"
      },
      "outputs": [
        {
          "data": {
            "text/plain": [
              "['challenge_files/task1_descriptions.csv',\n",
              " 'challenge_files/task1_elf_profiles.csv',\n",
              " 'challenge_files/task1_solution_key.csv',\n",
              " 'challenge_files/task2_parent_notes.xlsx',\n",
              " 'challenge_files/task2_solution_key.xlsx']"
            ]
          },
          "execution_count": 2,
          "metadata": {},
          "output_type": "execute_result"
        }
      ],
      "source": [
        "import gdown\n",
        "\n",
        "url = \"https://drive.google.com/drive/folders/1Oxn9M7cpIeuDlQ4tn4wUvqAKVRW0bNTC?usp=sharing\"\n",
        "output_dir = \"challenge_files\"\n",
        "\n",
        "gdown.download_folder(url, quiet=True, output=output_dir)"
      ]
    },
    {
      "cell_type": "markdown",
      "metadata": {
        "id": "bmeAOQbPAjAx"
      },
      "source": [
        "## Add `API` key\n",
        "Choosing variable `NVIDIA_API_KEY`\n"
      ]
    },
    {
      "cell_type": "code",
      "execution_count": 3,
      "metadata": {
        "id": "jD1uyBiF-25I"
      },
      "outputs": [],
      "source": [
        "import os\n",
        "from getpass import getpass\n",
        "#from google.colab import userdata\n",
        "\n",
        "# os.environ[\"NVIDIA_API_KEY\"] = \"<YOUR_KEY_HERE>\"\n",
        "os.environ[\"NVIDIA_API_KEY\"] = getpass(\"Enter your NVIDIA API key: \")"
      ]
    },
    {
      "cell_type": "markdown",
      "metadata": {
        "id": "OhejYmyJfxOd"
      },
      "source": [
        "### **Task 1**\n",
        "\n",
        "> Reference for ranking model from [NVIDIA](https://build.nvidia.com/explore/retrieval)\n"
      ]
    },
    {
      "cell_type": "markdown",
      "metadata": {
        "id": "8E4P7a8YEPqf"
      },
      "source": [
        "### Data Loading\n"
      ]
    },
    {
      "cell_type": "code",
      "execution_count": 4,
      "metadata": {
        "id": "2qUmwn9n1PUf"
      },
      "outputs": [
        {
          "data": {
            "text/html": [
              "<div>\n",
              "<style scoped>\n",
              "    .dataframe tbody tr th:only-of-type {\n",
              "        vertical-align: middle;\n",
              "    }\n",
              "\n",
              "    .dataframe tbody tr th {\n",
              "        vertical-align: top;\n",
              "    }\n",
              "\n",
              "    .dataframe thead th {\n",
              "        text-align: right;\n",
              "    }\n",
              "</style>\n",
              "<table border=\"1\" class=\"dataframe\">\n",
              "  <thead>\n",
              "    <tr style=\"text-align: right;\">\n",
              "      <th></th>\n",
              "      <th>Elf Name</th>\n",
              "      <th>Profile Description</th>\n",
              "    </tr>\n",
              "  </thead>\n",
              "  <tbody>\n",
              "    <tr>\n",
              "      <th>0</th>\n",
              "      <td>Jack</td>\n",
              "      <td>Loves theatrics and excels at bringing magic t...</td>\n",
              "    </tr>\n",
              "    <tr>\n",
              "      <th>1</th>\n",
              "      <td>Sally</td>\n",
              "      <td>Fantastic at sewing and enjoys creating colorf...</td>\n",
              "    </tr>\n",
              "    <tr>\n",
              "      <th>2</th>\n",
              "      <td>Zero</td>\n",
              "      <td>Knows all about Christmas history and is very ...</td>\n",
              "    </tr>\n",
              "  </tbody>\n",
              "</table>\n",
              "</div>"
            ],
            "text/plain": [
              "  Elf Name                                Profile Description\n",
              "0     Jack  Loves theatrics and excels at bringing magic t...\n",
              "1    Sally  Fantastic at sewing and enjoys creating colorf...\n",
              "2     Zero  Knows all about Christmas history and is very ..."
            ]
          },
          "execution_count": 4,
          "metadata": {},
          "output_type": "execute_result"
        }
      ],
      "source": [
        "import pandas as pd\n",
        "\n",
        "elf_profiles_df = pd.read_csv(\"challenge_files/task1_elf_profiles.csv\")\n",
        "elf_profiles_df.head(3)"
      ]
    },
    {
      "cell_type": "code",
      "execution_count": 5,
      "metadata": {
        "id": "nO3oYQWlGX-0"
      },
      "outputs": [
        {
          "data": {
            "text/html": [
              "<div>\n",
              "<style scoped>\n",
              "    .dataframe tbody tr th:only-of-type {\n",
              "        vertical-align: middle;\n",
              "    }\n",
              "\n",
              "    .dataframe tbody tr th {\n",
              "        vertical-align: top;\n",
              "    }\n",
              "\n",
              "    .dataframe thead th {\n",
              "        text-align: right;\n",
              "    }\n",
              "</style>\n",
              "<table border=\"1\" class=\"dataframe\">\n",
              "  <thead>\n",
              "    <tr style=\"text-align: right;\">\n",
              "      <th></th>\n",
              "      <th>Task ID</th>\n",
              "      <th>Task Description</th>\n",
              "    </tr>\n",
              "  </thead>\n",
              "  <tbody>\n",
              "    <tr>\n",
              "      <th>0</th>\n",
              "      <td>1</td>\n",
              "      <td>Paint intricate details on 100 wooden toys.</td>\n",
              "    </tr>\n",
              "    <tr>\n",
              "      <th>1</th>\n",
              "      <td>2</td>\n",
              "      <td>Act as a tour guide for visitors to Christmas ...</td>\n",
              "    </tr>\n",
              "    <tr>\n",
              "      <th>2</th>\n",
              "      <td>3</td>\n",
              "      <td>Move heavy boxes of toys to the sleigh loading...</td>\n",
              "    </tr>\n",
              "  </tbody>\n",
              "</table>\n",
              "</div>"
            ],
            "text/plain": [
              "   Task ID                                   Task Description\n",
              "0        1        Paint intricate details on 100 wooden toys.\n",
              "1        2  Act as a tour guide for visitors to Christmas ...\n",
              "2        3  Move heavy boxes of toys to the sleigh loading..."
            ]
          },
          "execution_count": 5,
          "metadata": {},
          "output_type": "execute_result"
        }
      ],
      "source": [
        "task_descriptions_df = pd.read_csv(\"challenge_files/task1_descriptions.csv\")\n",
        "task_descriptions_df.head(3)"
      ]
    },
    {
      "cell_type": "code",
      "execution_count": 6,
      "metadata": {
        "id": "abrPyoJ-BtU8"
      },
      "outputs": [],
      "source": [
        "elf_profiles = elf_profiles_df.to_dict()\n",
        "\n",
        "elf_names = list(elf_profiles[\"Elf Name\"].values())\n",
        "elf_descriptions = list(elf_profiles[\"Profile Description\"].values())\n",
        "\n",
        "task_descriptions = task_descriptions_df.to_dict()\n",
        "task_descriptions = list(task_descriptions[\"Task Description\"].values())"
      ]
    },
    {
      "cell_type": "markdown",
      "metadata": {
        "id": "-S0HkChKESen"
      },
      "source": [
        "### Ranker Implementation"
      ]
    },
    {
      "cell_type": "markdown",
      "metadata": {},
      "source": [
        "> Ranker Reference: https://build.nvidia.com/explore/retrieval"
      ]
    },
    {
      "cell_type": "code",
      "execution_count": 7,
      "metadata": {
        "id": "Vp0-BgoG0Ylw"
      },
      "outputs": [],
      "source": [
        "from haystack_integrations.components.rankers.nvidia import NvidiaRanker\n",
        "from haystack import Document\n",
        "from haystack.utils import Secret\n",
        "\n",
        "tasks = []\n",
        "\n",
        "for idx, t in enumerate(task_descriptions):\n",
        "    tasks.append(Document(content=t, id=idx + 1))\n",
        "\n",
        "ranker = NvidiaRanker(\n",
        "    model=\"nvidia/nv-rerankqa-mistral-4b-v3\",\n",
        "    api_key=Secret.from_env_var(\"NVIDIA_API_KEY\"),\n",
        ")\n",
        "\n",
        "ranker.warm_up()\n",
        "\n",
        "all_elf_compatibility = []\n",
        "for i, elf in enumerate(elf_descriptions):\n",
        "    elf_compatibility = ranker.run(elf, tasks)\n",
        "\n",
        "    all_elf_compatibility.append(elf_compatibility)"
      ]
    },
    {
      "cell_type": "code",
      "execution_count": 8,
      "metadata": {
        "id": "awS2dwcQg2u9"
      },
      "outputs": [
        {
          "name": "stdout",
          "output_type": "stream",
          "text": [
            "The best task for elf Jack is Design and sew 100 elf uniforms for the holiday season.\n",
            "The best task for elf Sally is Design and sew 100 elf uniforms for the holiday season.\n",
            "The best task for elf Zero is Act as a tour guide for visitors to Christmas Village.\n",
            "The best task for elf Mayor is Carve and assemble 100 custom wooden trains.\n",
            "The best task for elf Oogie is Host storytime sessions for children visiting Christmas Village.\n",
            "The best task for elf Lock is Prepare and decorate 200 holiday cookies for Santa's snack station.\n",
            "The best task for elf Shock is Fix the glitchy conveyor belt in the toy assembly line.\n",
            "The best task for elf Barrel is Move heavy boxes of toys to the sleigh loading area.\n",
            "The best task for elf Finkelstein is Paint intricate details on 100 wooden toys.\n",
            "The best task for elf Sandy is Groom and care for Santa's reindeer, ensuring they're ready for the big night.\n"
          ]
        }
      ],
      "source": [
        "for i in range(len(all_elf_compatibility)):\n",
        "    print(\n",
        "        f\"The best task for elf {elf_names[i]} is {all_elf_compatibility[i]['documents'][0].content}\"\n",
        "    )"
      ]
    },
    {
      "cell_type": "code",
      "execution_count": 9,
      "metadata": {
        "id": "U9UcLMFJP-cp"
      },
      "outputs": [],
      "source": [
        "# Repeating the steps with an alternative ranker model in build.nvidia.com\n",
        "alternative_ranker = NvidiaRanker(\n",
        "    model=\"nvidia/llama-3.2-nv-rerankqa-1b-v1\",\n",
        "    api_key=Secret.from_env_var(\"NVIDIA_API_KEY\"),\n",
        ")\n",
        "\n",
        "alternative_ranker.warm_up()\n",
        "\n",
        "alternative_all_elf_compatibility = []\n",
        "for i, elf in enumerate(elf_descriptions):\n",
        "    elf_compatibility = ranker.run(elf, tasks)\n",
        "\n",
        "    alternative_all_elf_compatibility.append(elf_compatibility)"
      ]
    },
    {
      "cell_type": "code",
      "execution_count": 10,
      "metadata": {
        "id": "0VqmiwFFEAJj"
      },
      "outputs": [
        {
          "name": "stdout",
          "output_type": "stream",
          "text": [
            "The best task for elf Jack is Design and sew 100 elf uniforms for the holiday season.\n",
            "The best task for elf Sally is Design and sew 100 elf uniforms for the holiday season.\n",
            "The best task for elf Zero is Act as a tour guide for visitors to Christmas Village.\n",
            "The best task for elf Mayor is Carve and assemble 100 custom wooden trains.\n",
            "The best task for elf Oogie is Host storytime sessions for children visiting Christmas Village.\n",
            "The best task for elf Lock is Prepare and decorate 200 holiday cookies for Santa's snack station.\n",
            "The best task for elf Shock is Fix the glitchy conveyor belt in the toy assembly line.\n",
            "The best task for elf Barrel is Move heavy boxes of toys to the sleigh loading area.\n",
            "The best task for elf Finkelstein is Paint intricate details on 100 wooden toys.\n",
            "The best task for elf Sandy is Groom and care for Santa's reindeer, ensuring they're ready for the big night.\n"
          ]
        }
      ],
      "source": [
        "for i in range(len(alternative_all_elf_compatibility)):\n",
        "    print(\n",
        "        f\"The best task for elf {elf_names[i]} is {alternative_all_elf_compatibility[i]['documents'][0].content}\"\n",
        "    )"
      ]
    },
    {
      "cell_type": "markdown",
      "metadata": {
        "id": "DAetxO-WEZxk"
      },
      "source": [
        "### Ranker Performance Comparison\n"
      ]
    },
    {
      "cell_type": "code",
      "execution_count": 11,
      "metadata": {
        "id": "nEchnq-NQkBM"
      },
      "outputs": [],
      "source": [
        "from haystack.components.evaluators import DocumentMRREvaluator\n",
        "\n",
        "# Getting the ground truth: optimal task-elf placement\n",
        "ground_truth = pd.read_csv(\"challenge_files/task1_solution_key.csv\").to_dict()\n",
        "ground_truth = list(ground_truth[\"Task ID\"].values())\n",
        "\n",
        "# Getting the ranking and alternative_ranking actual results\n",
        "ranking = [\n",
        "    all_elf_compatibility[index][\"documents\"][0].id\n",
        "    for index in range(len(all_elf_compatibility))\n",
        "]\n",
        "alternative_ranking = [\n",
        "    alternative_all_elf_compatibility[index][\"documents\"][0].id\n",
        "    for index in range(len(alternative_all_elf_compatibility))\n",
        "]"
      ]
    },
    {
      "cell_type": "code",
      "execution_count": 12,
      "metadata": {
        "id": "dhlX1vUwEtjv"
      },
      "outputs": [
        {
          "name": "stdout",
          "output_type": "stream",
          "text": [
            "MRR for the first ranker is 0.9\n",
            "MRR for the second ranker is 0.9\n"
          ]
        }
      ],
      "source": [
        "# Comparing the results of the two ranker models using the Mean Reciprocal Rank (MRR) score. This is a ranking quality metric that only considers the position of the first relevant item in the ranked list.\n",
        "mrr_evaluator = DocumentMRREvaluator()\n",
        "\n",
        "ground_truth_documents = []\n",
        "ranking_documents = []\n",
        "alternative_ranking_documents = []\n",
        "\n",
        "for idx, gt in enumerate(ground_truth):\n",
        "  ground_truth_documents.append([Document(content=gt)])\n",
        "  ranking_documents.append([Document(content=ranking[idx])])\n",
        "  alternative_ranking_documents.append([Document(content=alternative_ranking[idx])])\n",
        "\n",
        "\n",
        "# Running the mrr_evaluator over the original and the alternative rankers' results\n",
        "result_ranker = mrr_evaluator.run(ground_truth_documents, ranking_documents)\n",
        "result_alternative_ranker = mrr_evaluator.run(ground_truth_documents, alternative_ranking_documents)\n",
        "\n",
        "print(f\"MRR for the first ranker is {result_ranker['score']}\")\n",
        "print(f\"MRR for the second ranker is {result_alternative_ranker['score']}\")"
      ]
    },
    {
      "cell_type": "markdown",
      "metadata": {
        "id": "7UsUI6NA3S76"
      },
      "source": [
        "## Task 2 - Santa's Workshop: Delivery Organiser\n",
        "\n",
        "Congratulations! With your help, elf Rita managed to assign the best task for each elf, making everyone happy and preserving the spirit of Christmas.\n",
        "\n",
        "Santa is very happy with this outcome. To reward elf Rita for doing a great job, he makes her responsible for more work (with the vague promise of a promotion in the near future).\n",
        "\n",
        "The new task is this: every year, Santa receives Christmas letters from children. On the backs of the letters, he gets notes from parents with instructions on where to leave the gifts. These notes, written in languages from all over the word, give indications of where best to leave the gifts. The options are:\n",
        "\n",
        "1. Under the Christmas Tree\n",
        "2. Under the Children's Beds\n",
        "3. Near the Fireplace\n",
        "4. In the Stockings\n",
        "\n",
        "Elf Rita does not know all the languages in the world - however, she knows AI!\n",
        "Help her by using a multilingual embedder and a cosine similarity algorithm to match the diverse descriptions to their categories.\n"
      ]
    },
    {
      "cell_type": "markdown",
      "metadata": {
        "id": "2U_NSV43iHKT"
      },
      "source": [
        "### **Task 2**\n"
      ]
    },
    {
      "cell_type": "markdown",
      "metadata": {
        "id": "m6NomM71iJfA"
      },
      "source": [
        "**Complete the code snippets below to use Haystack and a multilingual embedding model from [NVIDIA](https://build.nvidia.com/nvidia/llama-3_2-nv-embedqa-1b-v1) to group these notes based on their semantic meaning, regardless of the language they are written in.**<br>\n",
        "**Again, your tasks are marked with ### COMPLETE ### comments.**\n"
      ]
    },
    {
      "cell_type": "markdown",
      "metadata": {
        "id": "Ysc676rCFKBE"
      },
      "source": [
        "### Read the Task Data"
      ]
    },
    {
      "cell_type": "code",
      "execution_count": 13,
      "metadata": {
        "id": "QVqVZgrPV_tG"
      },
      "outputs": [
        {
          "data": {
            "text/html": [
              "<div>\n",
              "<style scoped>\n",
              "    .dataframe tbody tr th:only-of-type {\n",
              "        vertical-align: middle;\n",
              "    }\n",
              "\n",
              "    .dataframe tbody tr th {\n",
              "        vertical-align: top;\n",
              "    }\n",
              "\n",
              "    .dataframe thead th {\n",
              "        text-align: right;\n",
              "    }\n",
              "</style>\n",
              "<table border=\"1\" class=\"dataframe\">\n",
              "  <thead>\n",
              "    <tr style=\"text-align: right;\">\n",
              "      <th></th>\n",
              "      <th>Notes</th>\n",
              "    </tr>\n",
              "  </thead>\n",
              "  <tbody>\n",
              "    <tr>\n",
              "      <th>0</th>\n",
              "      <td>Just leave everything under the tree; it’s tra...</td>\n",
              "    </tr>\n",
              "    <tr>\n",
              "      <th>1</th>\n",
              "      <td>Mijn dochter zal het geweldig vinden om 's och...</td>\n",
              "    </tr>\n",
              "    <tr>\n",
              "      <th>2</th>\n",
              "      <td>Deja los regalos junto a la chimenea, por favor.</td>\n",
              "    </tr>\n",
              "  </tbody>\n",
              "</table>\n",
              "</div>"
            ],
            "text/plain": [
              "                                               Notes\n",
              "0  Just leave everything under the tree; it’s tra...\n",
              "1  Mijn dochter zal het geweldig vinden om 's och...\n",
              "2   Deja los regalos junto a la chimenea, por favor."
            ]
          },
          "execution_count": 13,
          "metadata": {},
          "output_type": "execute_result"
        }
      ],
      "source": [
        "parent_notes_df = pd.read_excel(\"challenge_files/task2_parent_notes.xlsx\")\n",
        "parent_notes_df.head(3)"
      ]
    },
    {
      "cell_type": "code",
      "execution_count": 14,
      "metadata": {
        "id": "5lkT1khTjn2f"
      },
      "outputs": [],
      "source": [
        "parent_notes = parent_notes_df.to_dict()\n",
        "parent_notes = list(parent_notes[\"Notes\"].values())\n",
        "\n",
        "# inputting the possible locations for the presents, based on the task description above.\n",
        "location_options = [\"Under the Christmas Tree\", \"Under the Children's Beds\", \"Near the Fireplace\", \"In the Stockings\"]"
      ]
    },
    {
      "cell_type": "markdown",
      "metadata": {
        "id": "WZ3PUUdFFqPX"
      },
      "source": [
        "### Embedding the text\n",
        "\n",
        "> Embedding model Reference: https://build.nvidia.com/explore/retrieval"
      ]
    },
    {
      "cell_type": "code",
      "execution_count": 15,
      "metadata": {
        "id": "kLKfsXYV-3zD"
      },
      "outputs": [],
      "source": [
        "from haystack_integrations.components.embedders.nvidia import NvidiaTextEmbedder\n",
        "\n",
        "embedder = NvidiaTextEmbedder(\n",
        "    model=\"nvidia/llama-3.2-nv-embedqa-1b-v2\",\n",
        "    api_url=\"https://integrate.api.nvidia.com/v1\",\n",
        "    api_key=Secret.from_env_var(\"NVIDIA_API_KEY\"),\n",
        ")\n",
        "\n",
        "embedder.warm_up()"
      ]
    },
    {
      "cell_type": "code",
      "execution_count": 16,
      "metadata": {
        "id": "zoBhV5WNBqrB"
      },
      "outputs": [],
      "source": [
        "embedded_notes = []\n",
        "for note in parent_notes:\n",
        "    embedded_notes.append(embedder.run(note))\n",
        "\n",
        "embedded_locations = []\n",
        "for l in location_options:\n",
        "    embedded_locations.append(embedder.run(l))"
      ]
    },
    {
      "cell_type": "markdown",
      "metadata": {
        "id": "3y2nkCvQFvVJ"
      },
      "source": [
        "### Computing the similarity between notes and location options\n"
      ]
    },
    {
      "cell_type": "code",
      "execution_count": 21,
      "metadata": {
        "id": "kSINayc-FXxw"
      },
      "outputs": [],
      "source": [
        "from sklearn.metrics.pairwise import cosine_similarity\n",
        "import numpy as np\n",
        "\n",
        "max_cos_similarity_per_note = []\n",
        "for i in range(len(embedded_notes)):\n",
        "  cos_similarity_per_note = []\n",
        "  for j in range(len(embedded_locations)):\n",
        "    # Using cosine_similarity to compute the similarity score between embedded_notes and embedded_locations\n",
        "    cos_similarity_per_note.append(cosine_similarity([embedded_notes[i][\"embedding\"]],[embedded_locations[j][\"embedding\"]])) # TODO\n",
        "\n",
        "  # Getting the best match with argmax\n",
        "  max_cos_similarity_per_note.append(np.argmax(cos_similarity_per_note))"
      ]
    },
    {
      "cell_type": "markdown",
      "metadata": {
        "id": "2CUiQCekGIux"
      },
      "source": [
        "### Embedder Performance Evaluation\n"
      ]
    },
    {
      "cell_type": "code",
      "execution_count": 25,
      "metadata": {
        "id": "adEFwlu7jPNY"
      },
      "outputs": [
        {
          "name": "stdout",
          "output_type": "stream",
          "text": [
            "[0, 0, 2, 3, 2, 2, 1, 1, 1, 2, 0, 2, 3, 3, 0, 1, 0, 1, 2, 2, 3, 1, 2, 1, 3, 0, 3, 3, 0, 0]\n",
            "[np.int64(0), np.int64(0), np.int64(2), np.int64(3), np.int64(2), np.int64(2), np.int64(0), np.int64(1), np.int64(0), np.int64(2), np.int64(0), np.int64(2), np.int64(3), np.int64(3), np.int64(0), np.int64(1), np.int64(0), np.int64(1), np.int64(2), np.int64(2), np.int64(3), np.int64(1), np.int64(2), np.int64(1), np.int64(2), np.int64(0), np.int64(3), np.int64(3), np.int64(0), np.int64(0)]\n"
          ]
        }
      ],
      "source": [
        "# Read the ground truth data\n",
        "ground_truth_data = pd.read_excel(\"challenge_files/task2_solution_key.xlsx\").to_dict()\n",
        "ground_truth_data = list(ground_truth_data[\"Key\"].values())\n",
        "\n",
        "print(ground_truth_data)\n",
        "print(max_cos_similarity_per_note)\n",
        "\n",
        "# Computing the accuracy of the solution by comparing max_cos_similarity_per_note to ground_truth_data\n",
        "\n",
        "correct_predictions = 0\n",
        "\n",
        "total_predictions = len(ground_truth_data)\n",
        "\n",
        "for predicted, actual in zip(max_cos_similarity_per_note, ground_truth_data):\n",
        "    if predicted == actual:\n",
        "        correct_predictions += 1\n",
        "accuracy = correct_predictions / total_predictions"
      ]
    },
    {
      "cell_type": "code",
      "execution_count": 26,
      "metadata": {
        "id": "_rE-EHMQktKX"
      },
      "outputs": [
        {
          "name": "stdout",
          "output_type": "stream",
          "text": [
            "The accuracy of this embedder is 0.9\n"
          ]
        }
      ],
      "source": [
        "print(f\"The accuracy of this embedder is {accuracy}\")"
      ]
    },
    {
      "cell_type": "markdown",
      "metadata": {
        "id": "FOxqmd8QG4Px"
      },
      "source": [
        "## Conclusion:\n",
        "\n",
        "With the help of Nvidia Inference Microservices, We were able to manage both Santa's Workshop and gift deliveries. Everything should now be ready for Christmas!🎄\n",
        "\n",
        "<sub><sup>PS - Due to her customer obsession and ability to innovate and disrupt using AI, Elf Rita got her promotion after all!🌟\n"
      ]
    }
  ],
  "metadata": {
    "colab": {
      "provenance": []
    },
    "kernelspec": {
      "display_name": ".venv",
      "language": "python",
      "name": "python3"
    },
    "language_info": {
      "codemirror_mode": {
        "name": "ipython",
        "version": 3
      },
      "file_extension": ".py",
      "mimetype": "text/x-python",
      "name": "python",
      "nbconvert_exporter": "python",
      "pygments_lexer": "ipython3",
      "version": "3.12.3"
    }
  },
  "nbformat": 4,
  "nbformat_minor": 0
}
