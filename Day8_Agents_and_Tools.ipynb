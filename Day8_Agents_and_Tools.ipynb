{
  "cells": [
    {
      "cell_type": "markdown",
      "metadata": {
        "id": "JN0leM93chKG"
      },
      "source": [
        "# Advent of Haystack: Day 8\n",
        "\n",
        "_Make a copy of this Colab to start!_\n",
        "\n",
        "In this challenge, we will create an Agent for Santa's backoffice: a powerful assistant capable of answering questions about the gift inventory, tracking items taken for delivery, and purchasing new ones.\n",
        "\n",
        "We will use several Haystack components, focusing primarily on the new experimental **🛠️ Tool support** (which will soon be merged into the main repository).\n",
        "It's not completely documented yet, but you can find the most important information in this [GitHub discussion](https://github.com/deepset-ai/haystack-experimental/discussions/98).\n",
        "\n",
        "**Some Useful Components**\n",
        "\n",
        "- [DuckduckgoApiWebSearch](https://haystack.deepset.ai/integrations/duckduckgo-api-websearch) or another [WebSearch](https://docs.haystack.deepset.ai/docs/websearch) component\n",
        "- [PromptBuilder](https://docs.haystack.deepset.ai/docs/promptbuilder)\n",
        "- [OpenAIGenerator](https://docs.haystack.deepset.ai/docs/openaigenerator) or any other `Generator`\n",
        "- 🧪 [OpenAIChatGenerator](https://github.com/deepset-ai/haystack-experimental/blob/813157dd75cc95275c51d90bc6cfb7382d88ccc2/haystack_experimental/components/generators/chat/openai.py#L88)\n",
        "- 🧪 [ToolInvoker](https://docs.haystack.deepset.ai/reference/experimental-tools-api#toolinvoker)\n"
      ]
    },
    {
      "cell_type": "markdown",
      "metadata": {
        "id": "AXQ6jIJmeo8X"
      },
      "source": [
        "## 1) Installation\n"
      ]
    },
    {
      "cell_type": "code",
      "execution_count": 1,
      "metadata": {
        "id": "EzNLQp9gbzBA"
      },
      "outputs": [
        {
          "name": "stdout",
          "output_type": "stream",
          "text": [
            "\u001b[2K\u001b[2mResolved \u001b[1m41 packages\u001b[0m \u001b[2min 1.10s\u001b[0m\u001b[0m                                        \u001b[0m\n",
            "\u001b[2mAudited \u001b[1m41 packages\u001b[0m \u001b[2min 0.32ms\u001b[0m\u001b[0m\n"
          ]
        }
      ],
      "source": [
        "! uv pip install -U openai haystack-ai duckduckgo-api-haystack"
      ]
    },
    {
      "cell_type": "markdown",
      "metadata": {
        "id": "GNkH92d4e5F1"
      },
      "source": [
        "## 2) Enter your API key\n",
        "\n",
        "Enter your OpenAI API key to use the `OpenAIGenerator` and `OpenAIChatGenerator`. Alternatively, you can explore and use other [Generators](https://docs.haystack.deepset.ai/docs/generators) with different models and providers.\n"
      ]
    },
    {
      "cell_type": "code",
      "execution_count": 2,
      "metadata": {
        "colab": {
          "base_uri": "https://localhost:8080/"
        },
        "id": "QkHjTtt5e-tK",
        "outputId": "e4b5fc09-639f-4455-adbd-3abb2f0b4548"
      },
      "outputs": [],
      "source": [
        "from getpass import getpass\n",
        "import os\n",
        "\n",
        "os.environ[\"OPENAI_API_KEY\"] = getpass(\"Enter OpenAI API key:\")"
      ]
    },
    {
      "cell_type": "markdown",
      "metadata": {
        "id": "AtA5-wyee8sr"
      },
      "source": [
        "### (Optional) Setup the `LoggingTracer`\n",
        "\n",
        "We recently introduced [Real-Time Pipeline Logging](https://docs.haystack.deepset.ai/docs/logging#real-time-pipeline-logging), that allows to easily inspect the data that's flowing through your pipelines. Particularly helpful during experimentation with complex pipelines.\n"
      ]
    },
    {
      "cell_type": "code",
      "execution_count": 3,
      "metadata": {
        "id": "Z-YMiEcEYmvb"
      },
      "outputs": [],
      "source": [
        "import logging\n",
        "from haystack import tracing\n",
        "from haystack.tracing.logging_tracer import LoggingTracer\n",
        "\n",
        "logging.basicConfig(\n",
        "    format=\"%(levelname)s - %(name)s -  %(message)s\", level=logging.WARNING\n",
        ")\n",
        "logging.getLogger(\"haystack\").setLevel(logging.DEBUG)\n",
        "\n",
        "tracing.tracer.is_content_tracing_enabled = (\n",
        "    True  # to enable tracing/logging content (inputs/outputs)\n",
        ")\n",
        "tracing.enable_tracing(\n",
        "    LoggingTracer(\n",
        "        tags_color_strings={\n",
        "            \"haystack.component.input\": \"\\x1b[1;31m\",\n",
        "            \"haystack.component.name\": \"\\x1b[1;34m\",\n",
        "        }\n",
        "    )\n",
        ")"
      ]
    },
    {
      "cell_type": "markdown",
      "metadata": {
        "id": "CYn2RbbKfmJ_"
      },
      "source": [
        "## 3) Populate the inventory\n",
        "\n",
        "In this section, we use a simple Haystack [`InMemoryDocumentStore`](https://docs.haystack.deepset.ai/docs/inmemorydocumentstore) as our inventory.\n",
        "The gift/items will be `Documents`.\n"
      ]
    },
    {
      "cell_type": "code",
      "execution_count": 4,
      "metadata": {
        "id": "Wct4tIWDcY5n"
      },
      "outputs": [],
      "source": [
        "from haystack.document_stores.in_memory import InMemoryDocumentStore\n",
        "from haystack import Document\n",
        "\n",
        "document_store = InMemoryDocumentStore()"
      ]
    },
    {
      "cell_type": "code",
      "execution_count": 5,
      "metadata": {
        "id": "HHtwQNBefFyt"
      },
      "outputs": [],
      "source": [
        "documents = [\n",
        "    Document(\n",
        "        content=\"LEGO Star Wars Set\",\n",
        "        meta={\"units\": 3456, \"origin\": \"Amazon\", \"description\": \"Amazon\"},\n",
        "    ),\n",
        "    Document(\n",
        "        content=\"Wooden Sailboat\",\n",
        "        meta={\"units\": 124, \"origin\": \"handmade\", \"description\": \"Handmade\"},\n",
        "    ),\n",
        "    Document(\n",
        "        content=\"Nintendo Switch\",\n",
        "        meta={\"units\": 2189, \"origin\": \"Amazon\", \"description\": \"Amazon\"},\n",
        "    ),\n",
        "    Document(\n",
        "        content=\"Hand-Knitted Teddy Bear\",\n",
        "        meta={\"units\": 233, \"origin\": \"handmade\", \"description\": \"Handmade\"},\n",
        "    ),\n",
        "    Document(\n",
        "        content=\"Barbie Dreamhouse\",\n",
        "        meta={\"units\": 1673, \"origin\": \"Amazon\", \"description\": \"Amazon\"},\n",
        "    ),\n",
        "    Document(\n",
        "        content=\"Carved Wooden Puzzle\",\n",
        "        meta={\"units\": 179, \"origin\": \"handmade\", \"description\": \"Handmade\"},\n",
        "    ),\n",
        "    Document(\n",
        "        content=\"Remote Control Drone\",\n",
        "        meta={\"units\": 1542, \"origin\": \"Amazon\", \"description\": \"Amazon\"},\n",
        "    ),\n",
        "    Document(\n",
        "        content=\"Painted Rocking Horse\",\n",
        "        meta={\"units\": 93, \"origin\": \"handmade\", \"description\": \"Handmade\"},\n",
        "    ),\n",
        "    Document(\n",
        "        content=\"Science Experiment Kit\",\n",
        "        meta={\"units\": 2077, \"origin\": \"Amazon\", \"description\": \"Amazon\"},\n",
        "    ),\n",
        "    Document(\n",
        "        content=\"Miniature Dollhouse\",\n",
        "        meta={\"units\": 110, \"origin\": \"handmade\", \"description\": \"Handmade\"},\n",
        "    ),\n",
        "    Document(\n",
        "        content=\"Nerf Blaster\",\n",
        "        meta={\"units\": 2731, \"origin\": \"Amazon\", \"description\": \"Amazon\"},\n",
        "    ),\n",
        "    Document(\n",
        "        content=\"Interactive Robot Pet\",\n",
        "        meta={\"units\": 1394, \"origin\": \"Amazon\", \"description\": \"Amazon\"},\n",
        "    ),\n",
        "]"
      ]
    },
    {
      "cell_type": "code",
      "execution_count": 6,
      "metadata": {
        "colab": {
          "base_uri": "https://localhost:8080/"
        },
        "id": "3IeHPXMVfI3B",
        "outputId": "934901c2-d879-401c-f2c5-4e87739fa0dc"
      },
      "outputs": [
        {
          "data": {
            "text/plain": [
              "12"
            ]
          },
          "execution_count": 6,
          "metadata": {},
          "output_type": "execute_result"
        }
      ],
      "source": [
        "document_store.write_documents(documents)"
      ]
    },
    {
      "cell_type": "markdown",
      "metadata": {
        "id": "eMgGzNMpgeJl"
      },
      "source": [
        "## 4) Tools\n",
        "\n",
        "Our Santa's backoffice Agent need several Tools to work, each one with its specific action:\n",
        "\n",
        "- look up an item in inventory\n",
        "- add item to inventory\n",
        "- take item from inventory\n",
        "- inventory summary\n",
        "- get price of a new item\n",
        "- buy a new item\n",
        "\n",
        "We are going to create them, with your help.\n",
        "For an introduction to Tools, check out [Cookbook: Define & Run Tools](https://haystack.deepset.ai/cookbook/tools_support).\n"
      ]
    },
    {
      "cell_type": "markdown",
      "metadata": {
        "id": "oDwobQkKkAqa"
      },
      "source": [
        "### Lookup tool\n",
        "\n",
        "This is used to find if an item is present in the inventory.\n",
        "We will use a [`InMemoryBM25Retriever`](https://docs.haystack.deepset.ai/docs/inmemorybm25retriever) to allow also not exact matches.\n"
      ]
    },
    {
      "cell_type": "code",
      "execution_count": null,
      "metadata": {
        "id": "1v14MOGMfKrP"
      },
      "outputs": [
        {
          "name": "stderr",
          "output_type": "stream",
          "text": [
            "DEBUG - haystack.core.component.component -  Registering <class 'haystack.components.retrievers.filter_retriever.FilterRetriever'> as a component\n",
            "DEBUG - haystack.core.component.component -  Registered Component <class 'haystack.components.retrievers.filter_retriever.FilterRetriever'>\n",
            "DEBUG - haystack.core.component.component -  Registering <class 'haystack.components.retrievers.in_memory.bm25_retriever.InMemoryBM25Retriever'> as a component\n",
            "DEBUG - haystack.core.component.component -  Registered Component <class 'haystack.components.retrievers.in_memory.bm25_retriever.InMemoryBM25Retriever'>\n",
            "DEBUG - haystack.core.component.component -  Registering <class 'haystack.components.retrievers.in_memory.embedding_retriever.InMemoryEmbeddingRetriever'> as a component\n",
            "DEBUG - haystack.core.component.component -  Registered Component <class 'haystack.components.retrievers.in_memory.embedding_retriever.InMemoryEmbeddingRetriever'>\n",
            "DEBUG - haystack.core.component.component -  Registering <class 'haystack.components.retrievers.sentence_window_retriever.SentenceWindowRetriever'> as a component\n",
            "DEBUG - haystack.core.component.component -  Registered Component <class 'haystack.components.retrievers.sentence_window_retriever.SentenceWindowRetriever'>\n"
          ]
        }
      ],
      "source": [
        "from haystack_experimental.dataclasses import Tool\n",
        "from typing import Annotated, Literal\n",
        "\n",
        "from haystack.components.retrievers.in_memory import InMemoryBM25Retriever\n",
        "\n",
        "retriever = InMemoryBM25Retriever(document_store=document_store, top_k=3)"
      ]
    },
    {
      "cell_type": "markdown",
      "metadata": {
        "id": "qzf8-ZDqkaBY"
      },
      "source": [
        "After creating the retriever, we define a function that converts the search results to text, ready to be crunched by Language Models.\n",
        "\n",
        "As you can notice, we annotate the arguments in the function signature and provide a detailed docstring to make the conversion to a Tool seamless.\n",
        "To learn this trick, take a look at the [Newsletter Sending Agent notebook](https://haystack.deepset.ai/cookbook/newsletter-agent#extras-converting-tools).\n"
      ]
    },
    {
      "cell_type": "code",
      "execution_count": 8,
      "metadata": {
        "id": "FzYuvRRYfUle"
      },
      "outputs": [],
      "source": [
        "def lookup_item_in_inventory(item_name: Annotated[str, \"The item name to search\"]):\n",
        "    \"\"\"\n",
        "    Look up an item in the inventory.\n",
        "    \"\"\"\n",
        "    result = retriever.run(query=item_name)\n",
        "    text = \"\"\n",
        "    for doc in result[\"documents\"]:\n",
        "        text += f\"found item: {doc.content}; units: {doc.meta['units']}; matching score: {doc.score}\\n\"\n",
        "    return text"
      ]
    },
    {
      "cell_type": "code",
      "execution_count": 9,
      "metadata": {
        "id": "apYyXTGSf7kC"
      },
      "outputs": [
        {
          "name": "stdout",
          "output_type": "stream",
          "text": [
            "found item: LEGO Star Wars Set; units: 3456; matching score: 2.3976626592085233\n",
            "found item: Wooden Sailboat; units: 124; matching score: 1.3496776558458576\n",
            "found item: Nintendo Switch; units: 2189; matching score: 1.3496776558458576\n",
            "\n"
          ]
        }
      ],
      "source": [
        "print(lookup_item_in_inventory(item_name=\"lego\"))"
      ]
    },
    {
      "cell_type": "code",
      "execution_count": null,
      "metadata": {
        "id": "a11KClpGf-qT"
      },
      "outputs": [],
      "source": [
        "lookup_item_in_inventory_tool = Tool.from_function(lookup_item_in_inventory)"
      ]
    },
    {
      "cell_type": "code",
      "execution_count": 11,
      "metadata": {
        "id": "B57fRNH1lrgP"
      },
      "outputs": [
        {
          "name": "stdout",
          "output_type": "stream",
          "text": [
            "found item: LEGO Star Wars Set; units: 3456; matching score: 2.3976626592085233\n",
            "found item: Wooden Sailboat; units: 124; matching score: 1.3496776558458576\n",
            "found item: Nintendo Switch; units: 2189; matching score: 1.3496776558458576\n",
            "\n"
          ]
        }
      ],
      "source": [
        "print(lookup_item_in_inventory_tool.invoke(item_name=\"lego\"))"
      ]
    },
    {
      "cell_type": "markdown",
      "metadata": {
        "id": "QPAhP-8YmFiw"
      },
      "source": [
        "### Add item tool\n",
        "\n",
        "Next, a tool to add an item to the inventory\n"
      ]
    },
    {
      "cell_type": "code",
      "execution_count": 12,
      "metadata": {
        "id": "bLRG6etMgQ_h"
      },
      "outputs": [],
      "source": [
        "from haystack.document_stores.types import DuplicatePolicy\n",
        "\n",
        "\n",
        "def add_item_to_inventory(\n",
        "    item_name: Annotated[str, \"The item name to add to inventory\"],\n",
        "    origin: Annotated[Literal[\"handmade\", \"Amazon\"], \"The origin of the item\"],\n",
        "    units: Annotated[int, \"The number of units to add to inventory\"] = 1,\n",
        "):\n",
        "    \"\"\"\n",
        "    Add an item to the inventory.\n",
        "    \"\"\"\n",
        "    found = document_store.filter_documents(\n",
        "        filters={\"field\": \"content\", \"operator\": \"==\", \"value\": item_name}\n",
        "    )\n",
        "    id_ = None\n",
        "    if found:\n",
        "        units += found[0].meta[\"units\"]\n",
        "        id_ = found[0].id\n",
        "\n",
        "    doc = Document(id=id_, content=item_name, meta={\"units\": units, \"origin\": origin})\n",
        "    return document_store.write_documents([doc], policy=DuplicatePolicy.OVERWRITE)"
      ]
    },
    {
      "cell_type": "code",
      "execution_count": 13,
      "metadata": {
        "id": "SdDyMTNug1rT"
      },
      "outputs": [],
      "source": [
        "add_item_to_inventory_tool = Tool.from_function(add_item_to_inventory)"
      ]
    },
    {
      "cell_type": "markdown",
      "metadata": {
        "id": "ZPvD2eFDmOBB"
      },
      "source": [
        "### Inventory Summary tool\n",
        "\n",
        "Now it's your turn.\n",
        "\n",
        "Let's start with a basic `inventory_summary` function and its `inventory_summary_tool`.\n",
        "\n",
        "This tool is expected to retrieve all items and return a textual summary/list as `\"name: <NAME>; units: <UNITS>; origin: <ORIGIN>\"` for each item.\n"
      ]
    },
    {
      "cell_type": "code",
      "execution_count": 21,
      "metadata": {
        "id": "Nb2kXx-DhDGq"
      },
      "outputs": [],
      "source": [
        "def inventory_summary():\n",
        "    \"\"\"\n",
        "    Get a summary of the inventory.\n",
        "    \"\"\"\n",
        "    summary = \"\"\n",
        "    for doc in document_store.filter_documents(filters={}):\n",
        "        summary += f\"name: {doc.content}; units: {doc.meta['units']}; origin: {doc.meta['origin']}\\n\"\n",
        "\n",
        "    return summary"
      ]
    },
    {
      "cell_type": "code",
      "execution_count": 22,
      "metadata": {},
      "outputs": [
        {
          "name": "stdout",
          "output_type": "stream",
          "text": [
            "name: LEGO Star Wars Set; units: 3456; origin: Amazon\n",
            "name: Wooden Sailboat; units: 124; origin: handmade\n",
            "name: Nintendo Switch; units: 2189; origin: Amazon\n",
            "name: Hand-Knitted Teddy Bear; units: 233; origin: handmade\n",
            "name: Barbie Dreamhouse; units: 1673; origin: Amazon\n",
            "name: Carved Wooden Puzzle; units: 179; origin: handmade\n",
            "name: Remote Control Drone; units: 1542; origin: Amazon\n",
            "name: Painted Rocking Horse; units: 93; origin: handmade\n",
            "name: Science Experiment Kit; units: 2077; origin: Amazon\n",
            "name: Miniature Dollhouse; units: 110; origin: handmade\n",
            "name: Nerf Blaster; units: 2731; origin: Amazon\n",
            "name: Interactive Robot Pet; units: 1394; origin: Amazon\n",
            "\n"
          ]
        }
      ],
      "source": [
        "print(inventory_summary())"
      ]
    },
    {
      "cell_type": "code",
      "execution_count": 23,
      "metadata": {
        "id": "TWELJk4GhJQj"
      },
      "outputs": [],
      "source": [
        "inventory_summary_tool = Tool.from_function(inventory_summary)"
      ]
    },
    {
      "cell_type": "markdown",
      "metadata": {
        "id": "W_ngfnfHm-Wb"
      },
      "source": [
        "### Take from Inventory tool\n",
        "\n",
        "A more complex tool for you to build!\n",
        "\n",
        "This should take as input the `item_name` and the `units`.\n",
        "\n",
        "- it should try to fetch the item\n",
        "- if not present, return a message saying `\"item {item_name} not found in inventory\"`\n",
        "- if present and units > units in inventory, return a message saying `\"item {item_name} has only {units_in_inventory} units, cannot take {units}\"`\n",
        "- otherwise, remove the specified `units` from the inventory and return an explanatory message saying `\"item {item_name} has been updated in inventory\"`\n"
      ]
    },
    {
      "cell_type": "code",
      "execution_count": 24,
      "metadata": {
        "id": "jmwf7SkWhNTn"
      },
      "outputs": [],
      "source": [
        "def take_from_inventory(item_name: Annotated[str, \"The item name to take from inventory\"],\n",
        "                          units: Annotated[int, \"The number of units to take from inventory\"]=1,\n",
        "                        ):\n",
        "    \"\"\"\n",
        "    Take an item to the inventory.\n",
        "    \"\"\"\n",
        "    found=document_store.filter_documents(filters={\"field\": \"content\", \"operator\": \"==\", \"value\": item_name})\n",
        "    id_ = None\n",
        "    \n",
        "    if not found:\n",
        "        return f\"Item {item_name} not found in inventory\"\n",
        "    \n",
        "    if units > found[0].meta[\"units\"]:\n",
        "        return f\"Item {item_name} has only {found[0].meta['units']} units, cannot take {units} units\"\n",
        "      \n",
        "    units = found[0].meta[\"units\"] - units\n",
        "    id_ = found[0].id\n",
        "    \n",
        "    doc = Document(id=id_, content=item_name, meta={\"units\": units, \"origin\": found[0].meta[\"origin\"]})\n",
        "    document_store.write_documents([doc], policy=DuplicatePolicy.OVERWRITE)  \n",
        "    return f\"Item {item_name} has been updated in inventory\""
      ]
    },
    {
      "cell_type": "code",
      "execution_count": 27,
      "metadata": {},
      "outputs": [
        {
          "name": "stdout",
          "output_type": "stream",
          "text": [
            "Item LEGO Star Wars Set has been updated in inventory\n"
          ]
        }
      ],
      "source": [
        "print(take_from_inventory(item_name=\"LEGO Star Wars Set\", units=1))"
      ]
    },
    {
      "cell_type": "code",
      "execution_count": 28,
      "metadata": {
        "id": "iSebujGKhcqH"
      },
      "outputs": [],
      "source": [
        "take_from_inventory_tool = Tool.from_function(take_from_inventory)"
      ]
    },
    {
      "cell_type": "markdown",
      "metadata": {
        "id": "xjAcsClXoAo7"
      },
      "source": [
        "### Get Price tool\n",
        "\n",
        "This tool tries to find the Amazon price of the item in the web.\n",
        "\n",
        "In this case, the tool wraps a Web RAG Pipeline.\n",
        "The tool is given but you need to define the pipeline with [DuckduckgoApiWebSearch](https://haystack.deepset.ai/integrations/duckduckgo-api-websearch), [PromptBuilder](https://docs.haystack.deepset.ai/docs/promptbuilder) and [OpenAIGenerator](https://docs.haystack.deepset.ai/docs/openaigenerator).\n",
        "\n",
        "**HINT:** If you quickly hit the rate limit, you can change the `backend` of `DuckduckgoApiWebSearch` and use \"html\" (or \"lite\").\n"
      ]
    },
    {
      "cell_type": "code",
      "execution_count": 62,
      "metadata": {
        "id": "tvbrb6XRhoYg"
      },
      "outputs": [],
      "source": [
        "from haystack import Pipeline\n",
        "from haystack.components.builders.prompt_builder import PromptBuilder\n",
        "from haystack.components.generators import OpenAIGenerator\n",
        "from duckduckgo_api_haystack import DuckduckgoApiWebSearch\n",
        "\n",
        "\n",
        "template = \"\"\"Given the information below, answer the query. Only use the provided context to generate the answer and output the used document links\n",
        "            Context:\n",
        "            {% for document in documents %}\n",
        "                {{ document.content }}\n",
        "                URL: {{ document.meta.url }}\n",
        "            {% endfor %}\n",
        "\n",
        "            Question: {{ query }}\n",
        "            Answer: \"\"\"\n",
        "\n",
        "web_search = DuckduckgoApiWebSearch(backend=\"lite\")\n",
        "prompt_builder = PromptBuilder(template = template)\n",
        "generator = OpenAIGenerator(model=\"gpt-4o-mini\")\n"
      ]
    },
    {
      "cell_type": "code",
      "execution_count": 63,
      "metadata": {},
      "outputs": [
        {
          "name": "stderr",
          "output_type": "stream",
          "text": [
            "DEBUG - haystack.core.pipeline.base -  Adding component 'search' (<duckduckgo_api_haystack.duckduckgoapi.DuckduckgoApiWebSearch object at 0x7f1c1d9d59d0>\n",
            "\n",
            "Inputs:\n",
            "  - query: str\n",
            "Outputs:\n",
            "  - documents: List[Document]\n",
            "  - links: List[str])\n",
            "DEBUG - haystack.core.pipeline.base -  Adding component 'prompt_builder' (<haystack.components.builders.prompt_builder.PromptBuilder object at 0x7f1c1d9d5af0>\n",
            "\n",
            "Inputs:\n",
            "  - documents: Any\n",
            "  - query: Any\n",
            "  - template: Optional[str]\n",
            "  - template_variables: Optional[Dict[str, Any]]\n",
            "Outputs:\n",
            "  - prompt: str)\n",
            "DEBUG - haystack.core.pipeline.base -  Adding component 'llm' (<haystack.components.generators.openai.OpenAIGenerator object at 0x7f1c24780620>\n",
            "\n",
            "Inputs:\n",
            "  - prompt: str\n",
            "  - system_prompt: Optional[str]\n",
            "  - streaming_callback: Optional[Callable[]]\n",
            "  - generation_kwargs: Optional[Dict[str, Any]]\n",
            "Outputs:\n",
            "  - replies: List[str]\n",
            "  - meta: List[Dict[str, Any]])\n"
          ]
        }
      ],
      "source": [
        "### DEFINE THE WEB RAG PIPELINE HERE ###\n",
        "get_price_pipe = Pipeline()\n",
        "get_price_pipe.add_component(name=\"search\" , instance=web_search)\n",
        "get_price_pipe.add_component(name=\"prompt_builder\", instance=prompt_builder)\n",
        "get_price_pipe.add_component(name=\"llm\", instance=generator)"
      ]
    },
    {
      "cell_type": "code",
      "execution_count": 64,
      "metadata": {},
      "outputs": [
        {
          "name": "stderr",
          "output_type": "stream",
          "text": [
            "DEBUG - haystack.core.pipeline.base -  Connecting 'search.documents' to 'prompt_builder.documents'\n",
            "DEBUG - haystack.core.pipeline.base -  Connecting 'prompt_builder.prompt' to 'llm.prompt'\n"
          ]
        },
        {
          "data": {
            "text/plain": [
              "<haystack.core.pipeline.pipeline.Pipeline object at 0x7f1c1db44d10>\n",
              "🚅 Components\n",
              "  - search: DuckduckgoApiWebSearch\n",
              "  - prompt_builder: PromptBuilder\n",
              "  - llm: OpenAIGenerator\n",
              "🛤️ Connections\n",
              "  - search.documents -> prompt_builder.documents (List[Document])\n",
              "  - prompt_builder.prompt -> llm.prompt (str)"
            ]
          },
          "execution_count": 64,
          "metadata": {},
          "output_type": "execute_result"
        }
      ],
      "source": [
        "get_price_pipe.connect(\"search.documents\", \"prompt_builder.documents\")\n",
        "get_price_pipe.connect(\"prompt_builder.prompt\", \"llm.prompt\")"
      ]
    },
    {
      "cell_type": "code",
      "execution_count": 69,
      "metadata": {
        "id": "x0epLB6AiYtj"
      },
      "outputs": [],
      "source": [
        "def get_price(item_name: Annotated[str, \"The item name to search\"]):\n",
        "    \"\"\"\n",
        "    Search the web to get the price of an item on Amazon\n",
        "    \"\"\"\n",
        "\n",
        "    search_query = f\"price of {item_name} on Amazon\"\n",
        "    question = f\"What is the price of {item_name} on Amazon? ONLY Respond with minimal item name and minimum price.\"\n",
        "\n",
        "    data = {\"search\": {\"query\": search_query}, \"prompt_builder\": {\"query\": question}}\n",
        "\n",
        "    return get_price_pipe.run(data=data)[\"llm\"][\"replies\"][0]"
      ]
    },
    {
      "cell_type": "code",
      "execution_count": 70,
      "metadata": {
        "colab": {
          "base_uri": "https://localhost:8080/",
          "height": 35
        },
        "id": "zk2GbXM3iTDc",
        "outputId": "10f1c3a2-47e9-4340-a04d-152a9277f128"
      },
      "outputs": [
        {
          "name": "stderr",
          "output_type": "stream",
          "text": [
            "INFO - haystack.core.pipeline.pipeline -  Running component search\n",
            "DEBUG - haystack.tracing.logging_tracer -  Operation: haystack.component.run\n",
            "DEBUG - haystack.tracing.logging_tracer -  \u001b[1;34mhaystack.component.name=search\u001b[0m\n",
            "DEBUG - haystack.tracing.logging_tracer -  haystack.component.type=DuckduckgoApiWebSearch\u001b[0m\n",
            "DEBUG - haystack.tracing.logging_tracer -  haystack.component.input_types={'query': 'str'}\u001b[0m\n",
            "DEBUG - haystack.tracing.logging_tracer -  haystack.component.input_spec={'query': {'type': 'str', 'senders': []}}\u001b[0m\n",
            "DEBUG - haystack.tracing.logging_tracer -  haystack.component.output_spec={'documents': {'type': 'typing.List[haystack.dataclasses.document.Document]', 'receivers': ['prompt_builder']}, 'links': {'type': 'typing.List[str]', 'receivers': []}}\u001b[0m\n",
            "DEBUG - haystack.tracing.logging_tracer -  \u001b[1;31mhaystack.component.input={'query': 'price of barbie dollhouse on Amazon'}\u001b[0m\n",
            "DEBUG - haystack.tracing.logging_tracer -  haystack.component.visits=1\u001b[0m\n",
            "DEBUG - haystack.tracing.logging_tracer -  haystack.component.output={'documents': [Document(id=7b9d1ab540b7e9c99507cda090ae6f5b9de86ecf63552c0dc2e5757dc418fa7e, content: 'Barbie DreamHouse, Doll House Playset with 75+ Pieces Including Toy Furniture & 3-Story Pool Slide, ...', meta: {'title': 'Amazon.com: Barbie Doll Houses', 'link': 'https://www.amazon.com/barbie-doll-houses/s?k=barbie+doll+houses'}), Document(id=b61a25ee807fa2c878d2aeafa90192b5def58e09f4560b7e6580c193427d2d96, content: 'Barbie DreamHouse, Doll House Playset with 75+ Toy Furniture & Accessories, 10 Play Areas, Lights & ...', meta: {'title': 'Amazon.com: Barbie DreamHouse, Doll House Playset with 75+ Toy ...', 'link': 'https://www.amazon.com/Barbie-DreamHouse-Furniture-Accessories-Wheelchair-Accessible/dp/B08V1R73H9'}), Document(id=5b82b5531bf39f63f92de52961a6da2aa93290c1290af33c1b52956b04fe852b, content: 'Barbie Doll House Playset, 3-Story Townhouse with 4 Rooms & Rooftop Lounge, Furniture & Accessories ...', meta: {'title': 'Amazon.com: Barbie DreamHouse, Doll House Playset with 75+ Pieces ...', 'link': 'https://www.amazon.com/Barbie-Dreamhouse-3-Story-Playset-Elevator/dp/B0BLJTJ38M'}), Document(id=b0324f9a63d8820ec875625760111a5efd5a9c7832a1ae83c7df41f97f2f602a, content: 'Amazon.com: Barbie Mini BarbieLand Doll House Sets, Mini Dreamhouse with Surprise 1.5-inch Doll, Fur...', meta: {'title': 'Amazon.com: Barbie Mini BarbieLand Doll House Sets, Mini Dreamhouse ...', 'link': 'https://www.amazon.com/Barbie-BarbieLand-Dreamhouse-Furniture-Accessories/dp/B0CPH863RF'}), Document(id=cf996123fa1d0b536308f16cc0bdfbbdd06d143d91f4df642acd38443d698cbe, content: 'Price. Under ₹500 ₹500 - ₹1,000 ₹1,000 - ₹2,000 ₹2,000 - ₹5,000; Over ₹5,000; Deals & Discounts. All...', meta: {'title': 'Buy Doll Houses for Kids Online - Amazon.in', 'link': 'https://www.amazon.in/Doll-Houses/b?node=1378265031'}), Document(id=6abda7072847a2539ea296898a54dc87aedd03bb48cd540345119f7235c90cec, content: 'Barbie Malibu Doll House for Girls and Boys, DIY Paint Wooden Doll House Toy with Furniture for Kids...', meta: {'title': '1-48 of over 3,000 results for \"barbie doll house\" - Amazon.in', 'link': 'https://www.amazon.in/barbie-doll-house/s?k=barbie+doll+house'}), Document(id=42b45556d37716a15e5337549e6b5ccc1baf78043393402209457ec239f11290, content: 'Amazon.in: Buy Barbie Dreamhouse, Pool Party Doll House with 75+ Pieces and 3-Story Slide, Pet Eleva...', meta: {'title': 'Barbie Dreamhouse, Pool Party Doll House with 75+ Pieces ... - Amazon.in', 'link': 'https://www.amazon.in/Barbie-Dreamhouse-Pieces-3-Story-Elevator/dp/B0BLJTJ38M'}), Document(id=23601464e5393a9b365077c299541267f0b10fe3355d4995dab297d0448c6db5, content: 'This fully furnished Barbie dollhouse opens the door to all kinds of storytelling with 360-degree pl...', meta: {'title': 'Amazon.com: Barbie Doll House with Furniture & Accessories Including ...', 'link': 'https://www.amazon.com/Barbie-Dollhouse-Levels-Furnished-Accessories/dp/B09C18LJRN'}), Document(id=1ffcdd7f783779fed4088a3943a150cf3e164ae5c5b1dbbe5387a5f501a78595, content: 'Amazon's Choice for \"barbie dream house\" Barbie Dreamhouse, Pool Party Doll House with 75+ Pieces an...', meta: {'title': '1-48 of 944 results for \"barbie dream house\" - Amazon.in', 'link': 'https://www.amazon.in/barbie-dream-house/s?k=barbie+dream+house'}), Document(id=7f4317826a28fa8f284e983f02e85a4965dad4dd912983e1ce1a80da03a2f65f, content: 'Price when purchased online. Barbie Dreamhouse Pool Party Doll House and Playset with 75+ Pieces, 45...', meta: {'title': 'Barbie Dollhouses & Play Sets in Dolls & Dollhouses (435)', 'link': 'https://www.walmart.com/browse/toys/dollhouses-play-sets/barbie/4171_4187_133126/YnJhbmQ6QmFyYmll'})], 'links': ['https://www.amazon.com/barbie-doll-houses/s?k=barbie+doll+houses', 'https://www.amazon.com/Barbie-DreamHouse-Furniture-Accessories-Wheelchair-Accessible/dp/B08V1R73H9', 'https://www.amazon.com/Barbie-Dreamhouse-3-Story-Playset-Elevator/dp/B0BLJTJ38M', 'https://www.amazon.com/Barbie-BarbieLand-Dreamhouse-Furniture-Accessories/dp/B0CPH863RF', 'https://www.amazon.in/Doll-Houses/b?node=1378265031', 'https://www.amazon.in/barbie-doll-house/s?k=barbie+doll+house', 'https://www.amazon.in/Barbie-Dreamhouse-Pieces-3-Story-Elevator/dp/B0BLJTJ38M', 'https://www.amazon.com/Barbie-Dollhouse-Levels-Furnished-Accessories/dp/B09C18LJRN', 'https://www.amazon.in/barbie-dream-house/s?k=barbie+dream+house', 'https://www.walmart.com/browse/toys/dollhouses-play-sets/barbie/4171_4187_133126/YnJhbmQ6QmFyYmll']}\u001b[0m\n",
            "INFO - haystack.core.pipeline.pipeline -  Running component prompt_builder\n",
            "DEBUG - haystack.tracing.logging_tracer -  Operation: haystack.component.run\n",
            "DEBUG - haystack.tracing.logging_tracer -  \u001b[1;34mhaystack.component.name=prompt_builder\u001b[0m\n",
            "DEBUG - haystack.tracing.logging_tracer -  haystack.component.type=PromptBuilder\u001b[0m\n",
            "DEBUG - haystack.tracing.logging_tracer -  haystack.component.input_types={'query': 'str', 'template': 'NoneType', 'template_variables': 'NoneType', 'documents': 'list'}\u001b[0m\n",
            "DEBUG - haystack.tracing.logging_tracer -  haystack.component.input_spec={'documents': {'type': 'Any', 'senders': ['search']}, 'query': {'type': 'Any', 'senders': []}, 'template': {'type': 'typing.Optional[str]', 'senders': []}, 'template_variables': {'type': 'typing.Optional[typing.Dict[str, typing.Any]]', 'senders': []}}\u001b[0m\n",
            "DEBUG - haystack.tracing.logging_tracer -  haystack.component.output_spec={'prompt': {'type': 'str', 'receivers': ['llm']}}\u001b[0m\n",
            "DEBUG - haystack.tracing.logging_tracer -  \u001b[1;31mhaystack.component.input={'query': 'What is the price of barbie dollhouse on Amazon? ONLY and ONLY Respond with minimal item name and minimum price.', 'template': None, 'template_variables': None, 'documents': [Document(id=7b9d1ab540b7e9c99507cda090ae6f5b9de86ecf63552c0dc2e5757dc418fa7e, content: 'Barbie DreamHouse, Doll House Playset with 75+ Pieces Including Toy Furniture & 3-Story Pool Slide, ...', meta: {'title': 'Amazon.com: Barbie Doll Houses', 'link': 'https://www.amazon.com/barbie-doll-houses/s?k=barbie+doll+houses'}), Document(id=b61a25ee807fa2c878d2aeafa90192b5def58e09f4560b7e6580c193427d2d96, content: 'Barbie DreamHouse, Doll House Playset with 75+ Toy Furniture & Accessories, 10 Play Areas, Lights & ...', meta: {'title': 'Amazon.com: Barbie DreamHouse, Doll House Playset with 75+ Toy ...', 'link': 'https://www.amazon.com/Barbie-DreamHouse-Furniture-Accessories-Wheelchair-Accessible/dp/B08V1R73H9'}), Document(id=5b82b5531bf39f63f92de52961a6da2aa93290c1290af33c1b52956b04fe852b, content: 'Barbie Doll House Playset, 3-Story Townhouse with 4 Rooms & Rooftop Lounge, Furniture & Accessories ...', meta: {'title': 'Amazon.com: Barbie DreamHouse, Doll House Playset with 75+ Pieces ...', 'link': 'https://www.amazon.com/Barbie-Dreamhouse-3-Story-Playset-Elevator/dp/B0BLJTJ38M'}), Document(id=b0324f9a63d8820ec875625760111a5efd5a9c7832a1ae83c7df41f97f2f602a, content: 'Amazon.com: Barbie Mini BarbieLand Doll House Sets, Mini Dreamhouse with Surprise 1.5-inch Doll, Fur...', meta: {'title': 'Amazon.com: Barbie Mini BarbieLand Doll House Sets, Mini Dreamhouse ...', 'link': 'https://www.amazon.com/Barbie-BarbieLand-Dreamhouse-Furniture-Accessories/dp/B0CPH863RF'}), Document(id=cf996123fa1d0b536308f16cc0bdfbbdd06d143d91f4df642acd38443d698cbe, content: 'Price. Under ₹500 ₹500 - ₹1,000 ₹1,000 - ₹2,000 ₹2,000 - ₹5,000; Over ₹5,000; Deals & Discounts. All...', meta: {'title': 'Buy Doll Houses for Kids Online - Amazon.in', 'link': 'https://www.amazon.in/Doll-Houses/b?node=1378265031'}), Document(id=6abda7072847a2539ea296898a54dc87aedd03bb48cd540345119f7235c90cec, content: 'Barbie Malibu Doll House for Girls and Boys, DIY Paint Wooden Doll House Toy with Furniture for Kids...', meta: {'title': '1-48 of over 3,000 results for \"barbie doll house\" - Amazon.in', 'link': 'https://www.amazon.in/barbie-doll-house/s?k=barbie+doll+house'}), Document(id=42b45556d37716a15e5337549e6b5ccc1baf78043393402209457ec239f11290, content: 'Amazon.in: Buy Barbie Dreamhouse, Pool Party Doll House with 75+ Pieces and 3-Story Slide, Pet Eleva...', meta: {'title': 'Barbie Dreamhouse, Pool Party Doll House with 75+ Pieces ... - Amazon.in', 'link': 'https://www.amazon.in/Barbie-Dreamhouse-Pieces-3-Story-Elevator/dp/B0BLJTJ38M'}), Document(id=23601464e5393a9b365077c299541267f0b10fe3355d4995dab297d0448c6db5, content: 'This fully furnished Barbie dollhouse opens the door to all kinds of storytelling with 360-degree pl...', meta: {'title': 'Amazon.com: Barbie Doll House with Furniture & Accessories Including ...', 'link': 'https://www.amazon.com/Barbie-Dollhouse-Levels-Furnished-Accessories/dp/B09C18LJRN'}), Document(id=1ffcdd7f783779fed4088a3943a150cf3e164ae5c5b1dbbe5387a5f501a78595, content: 'Amazon's Choice for \"barbie dream house\" Barbie Dreamhouse, Pool Party Doll House with 75+ Pieces an...', meta: {'title': '1-48 of 944 results for \"barbie dream house\" - Amazon.in', 'link': 'https://www.amazon.in/barbie-dream-house/s?k=barbie+dream+house'}), Document(id=7f4317826a28fa8f284e983f02e85a4965dad4dd912983e1ce1a80da03a2f65f, content: 'Price when purchased online. Barbie Dreamhouse Pool Party Doll House and Playset with 75+ Pieces, 45...', meta: {'title': 'Barbie Dollhouses & Play Sets in Dolls & Dollhouses (435)', 'link': 'https://www.walmart.com/browse/toys/dollhouses-play-sets/barbie/4171_4187_133126/YnJhbmQ6QmFyYmll'})]}\u001b[0m\n",
            "DEBUG - haystack.tracing.logging_tracer -  haystack.component.visits=1\u001b[0m\n",
            "DEBUG - haystack.tracing.logging_tracer -  haystack.component.output={'prompt': 'Given the information below, answer the query. Only use the provided context to generate the answer and output the used document links\\n            Context:\\n            \\n                Barbie DreamHouse, Doll House Playset with 75+ Pieces Including Toy Furniture & 3-Story Pool Slide, Pet Elevator & Puppy Play Areas. 4.7 out of 5 stars. 4,236. ... 3-Story Townhouse with 4 Rooms & Rooftop Lounge, Furniture & Accessories Including Swinging Chair (Amazon Exclusive) 4.6 out of 5 stars. 10,946. 2K+ bought in past month. $114.99 ...\\n                URL: \\n            \\n                Barbie DreamHouse, Doll House Playset with 75+ Toy Furniture & Accessories, 10 Play Areas, Lights & Sounds, Wheelchair-Accessible Elevator (Amazon Exclusive) Visit the Barbie Store 4.8 4.8 out of 5 stars 15,071 ratings\\n                URL: \\n            \\n                Barbie Doll House Playset, 3-Story Townhouse with 4 Rooms & Rooftop Lounge, Furniture & Accessories Including Swinging Chair (Amazon Exclusive) 4.5 out of 5 stars 10,958 1 offer from $18900 $ 189 00\\n                URL: \\n            \\n                Amazon.com: Barbie Mini BarbieLand Doll House Sets, Mini Dreamhouse with Surprise 1.5-inch Doll, Furniture & Accessories, Plus Elevator & Pool : Everything Else ... Amazon will display a List Price if the product was purchased by customers on Amazon or offered by other retailers at or above the List Price in at least the past 90 days. List ...\\n                URL: \\n            \\n                Price. Under ₹500 ₹500 - ₹1,000 ₹1,000 - ₹2,000 ₹2,000 - ₹5,000; Over ₹5,000; Deals & Discounts. All Discounts; Today\\'s Deals; Toys & Games Brands. Made for Amazon. Made for Amazon; Top Brands. Top Brands; Age. Up to 12 months. Up to 12 months; 1 - 2 years. 1 - 2 years; ... Barbie Wooden Doll House for Girls, Do It Yourself ...\\n                URL: \\n            \\n                Barbie Malibu Doll House for Girls and Boys, DIY Paint Wooden Doll House Toy with Furniture for Kids. 5.0 out of 5 stars 1. 50+ bought in past month. ... Amazon\\'s Choice for \"barbie doll house\" Barbie Dreamhouse, Pool Party Doll House with 75+ Pieces and 3-Story Slide, Pet Elevator and Puppy Play Areas ...\\n                URL: \\n            \\n                Amazon.in: Buy Barbie Dreamhouse, Pool Party Doll House with 75+ Pieces and 3-Story Slide, Pet Elevator and Puppy Play Areas online at low price in India on Amazon.in. Check out Barbie Dreamhouse, Pool Party Doll House with 75+ Pieces and 3-Story Slide, Pet Elevator and Puppy Play Areas reviews, ratings, specifications and more at Amazon.in. Free Shipping, Cash on Delivery Available.\\n                URL: \\n            \\n                This fully furnished Barbie dollhouse opens the door to all kinds of storytelling with 360-degree play, 2 levels and 4 play areas. Play areas include a loft bed, bathroom, kitchen and dining room, all featuring a colorful design and signature Barbie style.\\n                URL: \\n            \\n                Amazon\\'s Choice for \"barbie dream house\" Barbie Dreamhouse, Pool Party Doll House with 75+ Pieces and 3-Story Slide, Pet Elevator and Puppy Play Areas ... Girls Toy | Barbie Doll House | Role Play Set | Doll House with Furniture | Doll House Play Set for Kids. 3.9 out of 5 stars 8,579 ₹2,902.56 ...\\n                URL: \\n            \\n                Price when purchased online. Barbie Dreamhouse Pool Party Doll House and Playset with 75+ Pieces, 45 in. 1000+ bought since yesterday. Add. Now $ 140 00. ... Barbie Accessories, Doll House Furniture and Decor, Poolside Smoothie Bar Story Starter, Multicolor. 86 4.8 out of 5 Stars. 86 reviews.\\n                URL: \\n            \\n\\n            Question: What is the price of barbie dollhouse on Amazon? ONLY and ONLY Respond with minimal item name and minimum price.\\n            Answer: '}\u001b[0m\n",
            "INFO - haystack.core.pipeline.pipeline -  Running component llm\n",
            "DEBUG - haystack.tracing.logging_tracer -  Operation: haystack.component.run\n",
            "DEBUG - haystack.tracing.logging_tracer -  \u001b[1;34mhaystack.component.name=llm\u001b[0m\n",
            "DEBUG - haystack.tracing.logging_tracer -  haystack.component.type=OpenAIGenerator\u001b[0m\n",
            "DEBUG - haystack.tracing.logging_tracer -  haystack.component.input_types={'system_prompt': 'NoneType', 'streaming_callback': 'NoneType', 'generation_kwargs': 'NoneType', 'prompt': 'str'}\u001b[0m\n",
            "DEBUG - haystack.tracing.logging_tracer -  haystack.component.input_spec={'prompt': {'type': 'str', 'senders': ['prompt_builder']}, 'system_prompt': {'type': 'typing.Optional[str]', 'senders': []}, 'streaming_callback': {'type': 'typing.Optional[typing.Callable[[haystack.dataclasses.streaming_chunk.StreamingChunk], NoneType]]', 'senders': []}, 'generation_kwargs': {'type': 'typing.Optional[typing.Dict[str, typing.Any]]', 'senders': []}}\u001b[0m\n",
            "DEBUG - haystack.tracing.logging_tracer -  haystack.component.output_spec={'replies': {'type': 'typing.List[str]', 'receivers': []}, 'meta': {'type': 'typing.List[typing.Dict[str, typing.Any]]', 'receivers': []}}\u001b[0m\n",
            "DEBUG - haystack.tracing.logging_tracer -  \u001b[1;31mhaystack.component.input={'system_prompt': None, 'streaming_callback': None, 'generation_kwargs': None, 'prompt': 'Given the information below, answer the query. Only use the provided context to generate the answer and output the used document links\\n            Context:\\n            \\n                Barbie DreamHouse, Doll House Playset with 75+ Pieces Including Toy Furniture & 3-Story Pool Slide, Pet Elevator & Puppy Play Areas. 4.7 out of 5 stars. 4,236. ... 3-Story Townhouse with 4 Rooms & Rooftop Lounge, Furniture & Accessories Including Swinging Chair (Amazon Exclusive) 4.6 out of 5 stars. 10,946. 2K+ bought in past month. $114.99 ...\\n                URL: \\n            \\n                Barbie DreamHouse, Doll House Playset with 75+ Toy Furniture & Accessories, 10 Play Areas, Lights & Sounds, Wheelchair-Accessible Elevator (Amazon Exclusive) Visit the Barbie Store 4.8 4.8 out of 5 stars 15,071 ratings\\n                URL: \\n            \\n                Barbie Doll House Playset, 3-Story Townhouse with 4 Rooms & Rooftop Lounge, Furniture & Accessories Including Swinging Chair (Amazon Exclusive) 4.5 out of 5 stars 10,958 1 offer from $18900 $ 189 00\\n                URL: \\n            \\n                Amazon.com: Barbie Mini BarbieLand Doll House Sets, Mini Dreamhouse with Surprise 1.5-inch Doll, Furniture & Accessories, Plus Elevator & Pool : Everything Else ... Amazon will display a List Price if the product was purchased by customers on Amazon or offered by other retailers at or above the List Price in at least the past 90 days. List ...\\n                URL: \\n            \\n                Price. Under ₹500 ₹500 - ₹1,000 ₹1,000 - ₹2,000 ₹2,000 - ₹5,000; Over ₹5,000; Deals & Discounts. All Discounts; Today\\'s Deals; Toys & Games Brands. Made for Amazon. Made for Amazon; Top Brands. Top Brands; Age. Up to 12 months. Up to 12 months; 1 - 2 years. 1 - 2 years; ... Barbie Wooden Doll House for Girls, Do It Yourself ...\\n                URL: \\n            \\n                Barbie Malibu Doll House for Girls and Boys, DIY Paint Wooden Doll House Toy with Furniture for Kids. 5.0 out of 5 stars 1. 50+ bought in past month. ... Amazon\\'s Choice for \"barbie doll house\" Barbie Dreamhouse, Pool Party Doll House with 75+ Pieces and 3-Story Slide, Pet Elevator and Puppy Play Areas ...\\n                URL: \\n            \\n                Amazon.in: Buy Barbie Dreamhouse, Pool Party Doll House with 75+ Pieces and 3-Story Slide, Pet Elevator and Puppy Play Areas online at low price in India on Amazon.in. Check out Barbie Dreamhouse, Pool Party Doll House with 75+ Pieces and 3-Story Slide, Pet Elevator and Puppy Play Areas reviews, ratings, specifications and more at Amazon.in. Free Shipping, Cash on Delivery Available.\\n                URL: \\n            \\n                This fully furnished Barbie dollhouse opens the door to all kinds of storytelling with 360-degree play, 2 levels and 4 play areas. Play areas include a loft bed, bathroom, kitchen and dining room, all featuring a colorful design and signature Barbie style.\\n                URL: \\n            \\n                Amazon\\'s Choice for \"barbie dream house\" Barbie Dreamhouse, Pool Party Doll House with 75+ Pieces and 3-Story Slide, Pet Elevator and Puppy Play Areas ... Girls Toy | Barbie Doll House | Role Play Set | Doll House with Furniture | Doll House Play Set for Kids. 3.9 out of 5 stars 8,579 ₹2,902.56 ...\\n                URL: \\n            \\n                Price when purchased online. Barbie Dreamhouse Pool Party Doll House and Playset with 75+ Pieces, 45 in. 1000+ bought since yesterday. Add. Now $ 140 00. ... Barbie Accessories, Doll House Furniture and Decor, Poolside Smoothie Bar Story Starter, Multicolor. 86 4.8 out of 5 Stars. 86 reviews.\\n                URL: \\n            \\n\\n            Question: What is the price of barbie dollhouse on Amazon? ONLY and ONLY Respond with minimal item name and minimum price.\\n            Answer: '}\u001b[0m\n",
            "DEBUG - haystack.tracing.logging_tracer -  haystack.component.visits=1\u001b[0m\n",
            "DEBUG - haystack.tracing.logging_tracer -  haystack.component.output={'replies': ['Barbie DreamHouse, Doll House Playset - $114.99\\n\\nUsed Document Links:\\n1. URL: \\n2. URL: \\n3. URL: '], 'meta': [{'model': 'gpt-4o-mini-2024-07-18', 'index': 0, 'finish_reason': 'stop', 'usage': {'completion_tokens': 35, 'prompt_tokens': 902, 'total_tokens': 937, 'completion_tokens_details': CompletionTokensDetails(accepted_prediction_tokens=0, audio_tokens=0, reasoning_tokens=0, rejected_prediction_tokens=0), 'prompt_tokens_details': PromptTokensDetails(audio_tokens=0, cached_tokens=0)}}]}\u001b[0m\n",
            "DEBUG - haystack.tracing.logging_tracer -  Operation: haystack.pipeline.run\n",
            "DEBUG - haystack.tracing.logging_tracer -  haystack.pipeline.input_data={'search': {'query': 'price of barbie dollhouse on Amazon'}, 'prompt_builder': {'query': 'What is the price of barbie dollhouse on Amazon? ONLY and ONLY Respond with minimal item name and minimum price.', 'template': None, 'template_variables': None}}\u001b[0m\n",
            "DEBUG - haystack.tracing.logging_tracer -  haystack.pipeline.output_data={'search': {'links': ['https://www.amazon.com/barbie-doll-houses/s?k=barbie+doll+houses', 'https://www.amazon.com/Barbie-DreamHouse-Furniture-Accessories-Wheelchair-Accessible/dp/B08V1R73H9', 'https://www.amazon.com/Barbie-Dreamhouse-3-Story-Playset-Elevator/dp/B0BLJTJ38M', 'https://www.amazon.com/Barbie-BarbieLand-Dreamhouse-Furniture-Accessories/dp/B0CPH863RF', 'https://www.amazon.in/Doll-Houses/b?node=1378265031', 'https://www.amazon.in/barbie-doll-house/s?k=barbie+doll+house', 'https://www.amazon.in/Barbie-Dreamhouse-Pieces-3-Story-Elevator/dp/B0BLJTJ38M', 'https://www.amazon.com/Barbie-Dollhouse-Levels-Furnished-Accessories/dp/B09C18LJRN', 'https://www.amazon.in/barbie-dream-house/s?k=barbie+dream+house', 'https://www.walmart.com/browse/toys/dollhouses-play-sets/barbie/4171_4187_133126/YnJhbmQ6QmFyYmll']}, 'llm': {'replies': ['Barbie DreamHouse, Doll House Playset - $114.99\\n\\nUsed Document Links:\\n1. URL: \\n2. URL: \\n3. URL: '], 'meta': [{'model': 'gpt-4o-mini-2024-07-18', 'index': 0, 'finish_reason': 'stop', 'usage': {'completion_tokens': 35, 'prompt_tokens': 902, 'total_tokens': 937, 'completion_tokens_details': CompletionTokensDetails(accepted_prediction_tokens=0, audio_tokens=0, reasoning_tokens=0, rejected_prediction_tokens=0), 'prompt_tokens_details': PromptTokensDetails(audio_tokens=0, cached_tokens=0)}}]}}\u001b[0m\n",
            "DEBUG - haystack.tracing.logging_tracer -  haystack.pipeline.metadata={}\u001b[0m\n",
            "DEBUG - haystack.tracing.logging_tracer -  haystack.pipeline.max_runs_per_component=100\u001b[0m\n"
          ]
        },
        {
          "data": {
            "text/plain": [
              "'Barbie DreamHouse, Doll House Playset - $114.99\\n\\nUsed Document Links:\\n1. URL: \\n2. URL: \\n3. URL: '"
            ]
          },
          "execution_count": 70,
          "metadata": {},
          "output_type": "execute_result"
        }
      ],
      "source": [
        "get_price(\"barbie dollhouse\")"
      ]
    },
    {
      "cell_type": "code",
      "execution_count": 71,
      "metadata": {
        "id": "mCtifdTBFiAj"
      },
      "outputs": [],
      "source": [
        "get_price_tool = Tool.from_function(get_price)"
      ]
    },
    {
      "cell_type": "markdown",
      "metadata": {
        "id": "DOXel_47pDCU"
      },
      "source": [
        "### Buy from Amazon tool\n",
        "\n",
        "This tool is ready to use.\n",
        "\n",
        "It asks the user for confirmation and then simulates a purchase on Amazon. It also adds items to the inventory.\n"
      ]
    },
    {
      "cell_type": "code",
      "execution_count": 72,
      "metadata": {
        "id": "wld2pQKGFtVD"
      },
      "outputs": [],
      "source": [
        "def buy_from_amazon(\n",
        "    item_name: Annotated[str, \"The item name to search\"],\n",
        "    price: Annotated[float, \"The price of the item to buy\"],\n",
        "    units: Annotated[int, \"The number of units to buy\"] = 1,\n",
        "):\n",
        "    \"\"\"\n",
        "    Buy an item from Amazon and place it in the inventory.\n",
        "    \"\"\"\n",
        "\n",
        "    total_price = units * price\n",
        "    confirm = input(\n",
        "        f\"You are about to buy {units} units of {item_name} from Amazon for a total of ${total_price}. Are you sure you want to continue? (y/n)\"\n",
        "    )\n",
        "    if confirm == \"y\":\n",
        "        # simulate actually buying from Amazon\n",
        "        add_item_to_inventory(item_name, units=units, origin=\"Amazon\")\n",
        "        return \"transaction completed and item added to inventory\"\n",
        "\n",
        "    return \"transaction cancelled\""
      ]
    },
    {
      "cell_type": "code",
      "execution_count": 73,
      "metadata": {
        "id": "NExtECudOas3"
      },
      "outputs": [],
      "source": [
        "buy_from_amazon_tool = Tool.from_function(buy_from_amazon)"
      ]
    },
    {
      "cell_type": "code",
      "execution_count": 74,
      "metadata": {
        "colab": {
          "base_uri": "https://localhost:8080/",
          "height": 53
        },
        "id": "im77S0CjOk0B",
        "outputId": "a85b424c-0c74-40ec-dc01-58f510a27002"
      },
      "outputs": [
        {
          "data": {
            "text/plain": [
              "'transaction completed and item added to inventory'"
            ]
          },
          "execution_count": 74,
          "metadata": {},
          "output_type": "execute_result"
        }
      ],
      "source": [
        "buy_from_amazon(item_name=\"Playstation 5\", price=500.00, units=5)"
      ]
    },
    {
      "cell_type": "markdown",
      "metadata": {
        "id": "li21BqZesFft"
      },
      "source": [
        "## 5) Main loop\n",
        "\n",
        "This part controls the flow of the application.\n",
        "It is quite simple and you can use to see the Agent in action and check that everything is working properly. For the Agent, you will use the experimental versions of `OpenAIChatGenerator` and `ChatMessage`.\n",
        "\n",
        "**Note:** You can use experimental versions of `OllamaChatGenerator`, `HuggingFaceAPIChatGenerator` and `AnthropicChatGenerator` instead of `OpenAIChatGenerator`. See all experimental `Generators` [here](https://github.com/deepset-ai/haystack-experimental/tree/main/haystack_experimental/components/generators)\n",
        "\n",
        "To understand what's happening, it is important to be familiar with the experimental `ChatMessage` dataclass (see this [Cookbook: Define & Run Tools](https://haystack.deepset.ai/cookbook/tools_support)).\n",
        "\n",
        "---\n",
        "\n",
        "If every missing part has been implemented correctly, the Agent should be able to answer questions and perform actions like the following:\n",
        "\n",
        "```\n",
        "What's in the inventory?\n",
        "I take 1300 Barbie Dreamhouse and 50 Wooden Sailboat\n",
        "Buy 50 Harry Potter and the Philosopher's Stone books from Amazon\n",
        "Buy 50 Doom 3 videogames; then I take 40 of them\n",
        "Price of Bose noise removing headphones\n",
        "I want to add 27 Wooden trains handmade by elves\n",
        "```\n"
      ]
    },
    {
      "cell_type": "code",
      "execution_count": 75,
      "metadata": {
        "id": "6UoV7PAMOpaE"
      },
      "outputs": [
        {
          "name": "stderr",
          "output_type": "stream",
          "text": [
            "DEBUG - haystack.core.component.component -  Registering <class 'haystack.components.preprocessors.document_cleaner.DocumentCleaner'> as a component\n",
            "DEBUG - haystack.core.component.component -  Registered Component <class 'haystack.components.preprocessors.document_cleaner.DocumentCleaner'>\n",
            "DEBUG - haystack.core.component.component -  Registering <class 'haystack.components.preprocessors.document_splitter.DocumentSplitter'> as a component\n",
            "DEBUG - haystack.core.component.component -  Registered Component <class 'haystack.components.preprocessors.document_splitter.DocumentSplitter'>\n",
            "DEBUG - haystack.core.component.component -  Registering <class 'haystack.components.preprocessors.nltk_document_splitter.NLTKDocumentSplitter'> as a component\n",
            "DEBUG - haystack.core.component.component -  Registered Component <class 'haystack.components.preprocessors.nltk_document_splitter.NLTKDocumentSplitter'>\n",
            "DEBUG - haystack.core.component.component -  Registering <class 'haystack.components.preprocessors.text_cleaner.TextCleaner'> as a component\n",
            "DEBUG - haystack.core.component.component -  Registered Component <class 'haystack.components.preprocessors.text_cleaner.TextCleaner'>\n",
            "DEBUG - haystack.core.component.component -  Registering <class 'haystack_experimental.components.extractors.llm_metadata_extractor.LLMMetadataExtractor'> as a component\n",
            "DEBUG - haystack.core.component.component -  Registered Component <class 'haystack_experimental.components.extractors.llm_metadata_extractor.LLMMetadataExtractor'>\n",
            "DEBUG - haystack.core.component.component -  Registering <class 'haystack_experimental.components.generators.anthropic.chat.chat_generator.AnthropicChatGenerator'> as a component\n",
            "DEBUG - haystack.core.component.component -  Registered Component <class 'haystack_experimental.components.generators.anthropic.chat.chat_generator.AnthropicChatGenerator'>\n",
            "DEBUG - haystack.core.component.component -  Registering <class 'haystack_experimental.components.generators.chat.openai.OpenAIChatGenerator'> as a component\n",
            "DEBUG - haystack.core.component.component -  Registered Component <class 'haystack_experimental.components.generators.chat.openai.OpenAIChatGenerator'>\n",
            "DEBUG - haystack.core.component.component -  Registering <class 'haystack.components.generators.chat.openai.OpenAIChatGenerator'> as a component\n",
            "DEBUG - haystack.core.component.component -  Registered Component <class 'haystack.components.generators.chat.openai.OpenAIChatGenerator'>\n",
            "DEBUG - haystack.core.component.component -  Registering <class 'haystack.components.generators.chat.azure.AzureOpenAIChatGenerator'> as a component\n",
            "DEBUG - haystack.core.component.component -  Registered Component <class 'haystack.components.generators.chat.azure.AzureOpenAIChatGenerator'>\n",
            "DEBUG - haystack.core.component.component -  Registering <class 'haystack.components.generators.chat.hugging_face_local.HuggingFaceLocalChatGenerator'> as a component\n",
            "DEBUG - haystack.core.component.component -  Registered Component <class 'haystack.components.generators.chat.hugging_face_local.HuggingFaceLocalChatGenerator'>\n",
            "DEBUG - haystack.core.component.component -  Registering <class 'haystack.components.generators.chat.hugging_face_api.HuggingFaceAPIChatGenerator'> as a component\n",
            "DEBUG - haystack.core.component.component -  Registered Component <class 'haystack.components.generators.chat.hugging_face_api.HuggingFaceAPIChatGenerator'>\n",
            "DEBUG - haystack.core.component.component -  Registering <class 'haystack_experimental.components.generators.chat.hugging_face_api.HuggingFaceAPIChatGenerator'> as a component\n",
            "DEBUG - haystack.core.component.component -  Registered Component <class 'haystack_experimental.components.generators.chat.hugging_face_api.HuggingFaceAPIChatGenerator'>\n",
            "DEBUG - haystack.core.component.component -  Registering <class 'haystack_experimental.components.generators.ollama.chat.chat_generator.OllamaChatGenerator'> as a component\n",
            "DEBUG - haystack.core.component.component -  Registered Component <class 'haystack_experimental.components.generators.ollama.chat.chat_generator.OllamaChatGenerator'>\n",
            "DEBUG - haystack.core.component.component -  Registering <class 'haystack_experimental.components.retrievers.auto_merging_retriever.AutoMergingRetriever'> as a component\n",
            "DEBUG - haystack.core.component.component -  Registered Component <class 'haystack_experimental.components.retrievers.auto_merging_retriever.AutoMergingRetriever'>\n",
            "DEBUG - haystack.core.component.component -  Registering <class 'haystack_experimental.components.retrievers.chat_message_retriever.ChatMessageRetriever'> as a component\n",
            "DEBUG - haystack.core.component.component -  Registered Component <class 'haystack_experimental.components.retrievers.chat_message_retriever.ChatMessageRetriever'>\n",
            "DEBUG - haystack.core.component.component -  Registering <class 'haystack_experimental.components.splitters.hierarchical_doc_splitter.HierarchicalDocumentSplitter'> as a component\n",
            "DEBUG - haystack.core.component.component -  Registered Component <class 'haystack_experimental.components.splitters.hierarchical_doc_splitter.HierarchicalDocumentSplitter'>\n",
            "DEBUG - haystack.core.component.component -  Registering <class 'haystack_experimental.components.tools.tool_invoker.ToolInvoker'> as a component\n",
            "DEBUG - haystack.core.component.component -  Registered Component <class 'haystack_experimental.components.tools.tool_invoker.ToolInvoker'>\n",
            "DEBUG - haystack.core.component.component -  Registering <class 'haystack_experimental.components.writers.chat_message_writer.ChatMessageWriter'> as a component\n",
            "DEBUG - haystack.core.component.component -  Registered Component <class 'haystack_experimental.components.writers.chat_message_writer.ChatMessageWriter'>\n",
            "DEBUG - haystack.core.component.component -  Registering <class 'haystack.components.writers.document_writer.DocumentWriter'> as a component\n",
            "DEBUG - haystack.core.component.component -  Registered Component <class 'haystack.components.writers.document_writer.DocumentWriter'>\n",
            "DEBUG - haystack.core.component.component -  Registering <class 'haystack_experimental.components.writers.document_writer.DocumentWriter'> as a component\n",
            "DEBUG - haystack.core.component.component -  Registered Component <class 'haystack_experimental.components.writers.document_writer.DocumentWriter'>\n"
          ]
        },
        {
          "name": "stdout",
          "output_type": "stream",
          "text": [
            "⌛ iterating...\n",
            "⌛ iterating...\n",
            "🤖: Ho ho ho! 🎅 Here's a merry list of what's jingling in our inventory:\n",
            "\n",
            "- **Wooden Sailboat:** 124 units (handmade)\n",
            "- **Nintendo Switch:** 2189 units (Amazon)\n",
            "- **Hand-Knitted Teddy Bear:** 233 units (handmade)\n",
            "- **Barbie Dreamhouse:** 1673 units (Amazon)\n",
            "- **Carved Wooden Puzzle:** 179 units (handmade)\n",
            "- **Remote Control Drone:** 1542 units (Amazon)\n",
            "- **Painted Rocking Horse:** 93 units (handmade)\n",
            "- **Science Experiment Kit:** 2077 units (Amazon)\n",
            "- **Miniature Dollhouse:** 110 units (handmade)\n",
            "- **Nerf Blaster:** 2731 units (Amazon)\n",
            "- **Interactive Robot Pet:** 1394 units (Amazon)\n",
            "- **LEGO Star Wars Set:** 3455 units (Amazon)\n",
            "- **Playstation 5:** 5 units (Amazon)\n",
            "\n",
            "Let me know if you need anything else, my jolly friend! 🎄✨\n",
            "⌛ iterating...\n",
            "⌛ iterating...\n",
            "🤖: Ho ho ho! 🎁 The inventory has been updated with your joyful request! We’ve successfully taken:\n",
            "\n",
            "- 1300 **Barbie Dreamhouse** \n",
            "- 50 **Wooden Sailboat** \n",
            "\n",
            "If there's anything else you need to spread the Christmas cheer, just let me know! 🎄✨\n",
            "⌛ iterating...\n"
          ]
        },
        {
          "name": "stderr",
          "output_type": "stream",
          "text": [
            "INFO - haystack.core.pipeline.pipeline -  Running component search\n",
            "DEBUG - haystack.tracing.logging_tracer -  Operation: haystack.component.run\n",
            "DEBUG - haystack.tracing.logging_tracer -  \u001b[1;34mhaystack.component.name=search\u001b[0m\n",
            "DEBUG - haystack.tracing.logging_tracer -  haystack.component.type=DuckduckgoApiWebSearch\u001b[0m\n",
            "DEBUG - haystack.tracing.logging_tracer -  haystack.component.input_types={'query': 'str'}\u001b[0m\n",
            "DEBUG - haystack.tracing.logging_tracer -  haystack.component.input_spec={'query': {'type': 'str', 'senders': []}}\u001b[0m\n",
            "DEBUG - haystack.tracing.logging_tracer -  haystack.component.output_spec={'documents': {'type': 'typing.List[haystack.dataclasses.document.Document]', 'receivers': ['prompt_builder']}, 'links': {'type': 'typing.List[str]', 'receivers': []}}\u001b[0m\n",
            "DEBUG - haystack.tracing.logging_tracer -  \u001b[1;31mhaystack.component.input={'query': \"price of Harry Potter and the Philosopher's Stone on Amazon\"}\u001b[0m\n",
            "DEBUG - haystack.tracing.logging_tracer -  haystack.component.visits=1\u001b[0m\n",
            "DEBUG - haystack.tracing.logging_tracer -  haystack.component.output={'documents': [Document(id=17ed4ca844e9512d249e831f8d71fb718e94923dc9add16fdeb8a501b82096b7, content: 'Harry Potter and the Philosopher's Stone [Rowling J.K.] on Amazon.com. *FREE* shipping on qualifying...', meta: {'title': \"Harry Potter and the Philosopher's Stone Paperback - amazon.com\", 'link': 'https://www.amazon.com/Harry-Potter-Philosophers-Stone-Rowling/dp/1408855658'}), Document(id=315bac1ab7b93b9263f43537fa0521c9b758083532be16a77061cb7d017873d6, content: 'Harry Potter and the Philosopher's Stone Paperback - International Edition, January 1, 2003 by J. K....', meta: {'title': \"Harry Potter and the Philosopher's Stone - amazon.com\", 'link': 'https://www.amazon.com/Harry-Potter-Philosophers-Stone-Rowling/dp/0747532745'}), Document(id=ce4ac9b3d46dfebcc6c2245978cfcbb6dc3376fc2a5d79e48a15db51caf5a5ce, content: 'Harry Potter and the Philosopher's Stone [J.K. Rowling] on Amazon.com. *FREE* shipping on qualifying...', meta: {'title': \"Harry Potter and the Philosopher's Stone - amazon.com\", 'link': 'https://www.amazon.com/Harry-Potter-Philosophers-Stone-Rowling/dp/0747532699'}), Document(id=ab7c42226b25fe2a10c5a3f87d513c6561d2e66fcccc698491fbc8394f322367, content: 'Harry Potter and the Sorcerer's Stone, first published in England as Harry Potter and the Philosophe...', meta: {'title': \"Harry Potter and the Sorcerer's Stone (1) - amazon.com\", 'link': 'https://www.amazon.com/Harry-Potter-Sorcerers-Stone-Rowling/dp/0590353403'}), Document(id=1b996760a62415ff9c9fbcd4dffaffa7c41f4eab01449f49e2450c84a4ff6990, content: 'The Harry Potter books have now sold over 600 million copies worldwide, been translated into 85 lang...', meta: {'title': \"Harry Potter and the Philosopher's Stone - amazon.com\", 'link': 'https://www.amazon.com/Harry-Potter-Philosophers-Stone-Rowling/dp/0747573603'}), Document(id=52c5d4148754b9da93dd3b4462478fffd1d83ad7cb72e0d8c6a34a0c7e2df050, content: 'Pre-order Price Guarantee. FREE delivery Mon, Aug 26 on $35 of items shipped by Amazon. ... Harry Po...', meta: {'title': 'Amazon.com: Harry Potter And Philosophers Stone', 'link': 'https://www.amazon.com/harry-potter-philosophers-stone/s?k=harry+potter+and+philosophers+stone'}), Document(id=8eb9e9a3c982b7e5191f86e3bb1107ac5441de10cd77c4ea0f85b19c3184392c, content: 'Amazon.com: Harry Potter and the Philosopher's Stone [Paperback] J K Rowling: 9781408894620: Rowling...', meta: {'title': \"Harry Potter and the Philosopher's Stone [Paperback] J K Rowling\", 'link': 'https://www.amazon.com/Harry-Potter-Philosophers-Stone-Rowling/dp/1408894629'}), Document(id=90f21b713b65de4b72c1af35e36808c016a631b35ebec0949e8139c33cdeafd3, content: 'Harry Potter and the Philosopher's Stone : J.K. Rowling: Amazon.in: Books. ... They consider it wort...', meta: {'title': \"Harry Potter and the Philosopher's Stone - Amazon.in\", 'link': 'https://www.amazon.in/Harry-Potter-Philosophers-Stone-Rowling/dp/1408855658'}), Document(id=b7b0e144863b4a0f01496debc19b87a08c375f97bebdc1ce852d84b7e983bb48, content: 'Harry Potter and the Sorcerer's Stone (Extended Version) ... Harry Potter is a young boy, on his ele...', meta: {'title': \"Harry Potter and the Sorcerer's Stone (Extended Version)\", 'link': 'https://www.amazon.com/Harry-Potter-Sorcerers-Extended-Version/dp/B00AUN2HBW'}), Document(id=f2a0e57519e45f86e944472dc26d7bd71bc54b7225bf30e2c9ed0ddaea5bf7fc, content: 'This item: Harry Potter and the Philosopher's Stone: Large Print (Large Print Edition) ₹2,270.00 ₹ 2...', meta: {'title': \"Harry Potter and the Philosopher's Stone: Large Print ... - Amazon.in\", 'link': 'https://www.amazon.in/Harry-Potter-Philosophers-Stone-Large/dp/0747554560'})], 'links': ['https://www.amazon.com/Harry-Potter-Philosophers-Stone-Rowling/dp/1408855658', 'https://www.amazon.com/Harry-Potter-Philosophers-Stone-Rowling/dp/0747532745', 'https://www.amazon.com/Harry-Potter-Philosophers-Stone-Rowling/dp/0747532699', 'https://www.amazon.com/Harry-Potter-Sorcerers-Stone-Rowling/dp/0590353403', 'https://www.amazon.com/Harry-Potter-Philosophers-Stone-Rowling/dp/0747573603', 'https://www.amazon.com/harry-potter-philosophers-stone/s?k=harry+potter+and+philosophers+stone', 'https://www.amazon.com/Harry-Potter-Philosophers-Stone-Rowling/dp/1408894629', 'https://www.amazon.in/Harry-Potter-Philosophers-Stone-Rowling/dp/1408855658', 'https://www.amazon.com/Harry-Potter-Sorcerers-Extended-Version/dp/B00AUN2HBW', 'https://www.amazon.in/Harry-Potter-Philosophers-Stone-Large/dp/0747554560']}\u001b[0m\n",
            "INFO - haystack.core.pipeline.pipeline -  Running component prompt_builder\n",
            "DEBUG - haystack.tracing.logging_tracer -  Operation: haystack.component.run\n",
            "DEBUG - haystack.tracing.logging_tracer -  \u001b[1;34mhaystack.component.name=prompt_builder\u001b[0m\n",
            "DEBUG - haystack.tracing.logging_tracer -  haystack.component.type=PromptBuilder\u001b[0m\n",
            "DEBUG - haystack.tracing.logging_tracer -  haystack.component.input_types={'query': 'str', 'template': 'NoneType', 'template_variables': 'NoneType', 'documents': 'list'}\u001b[0m\n",
            "DEBUG - haystack.tracing.logging_tracer -  haystack.component.input_spec={'documents': {'type': 'Any', 'senders': ['search']}, 'query': {'type': 'Any', 'senders': []}, 'template': {'type': 'typing.Optional[str]', 'senders': []}, 'template_variables': {'type': 'typing.Optional[typing.Dict[str, typing.Any]]', 'senders': []}}\u001b[0m\n",
            "DEBUG - haystack.tracing.logging_tracer -  haystack.component.output_spec={'prompt': {'type': 'str', 'receivers': ['llm']}}\u001b[0m\n",
            "DEBUG - haystack.tracing.logging_tracer -  \u001b[1;31mhaystack.component.input={'query': \"What is the price of Harry Potter and the Philosopher's Stone on Amazon? ONLY and ONLY Respond with minimal item name and minimum price.\", 'template': None, 'template_variables': None, 'documents': [Document(id=17ed4ca844e9512d249e831f8d71fb718e94923dc9add16fdeb8a501b82096b7, content: 'Harry Potter and the Philosopher's Stone [Rowling J.K.] on Amazon.com. *FREE* shipping on qualifying...', meta: {'title': \"Harry Potter and the Philosopher's Stone Paperback - amazon.com\", 'link': 'https://www.amazon.com/Harry-Potter-Philosophers-Stone-Rowling/dp/1408855658'}), Document(id=315bac1ab7b93b9263f43537fa0521c9b758083532be16a77061cb7d017873d6, content: 'Harry Potter and the Philosopher's Stone Paperback - International Edition, January 1, 2003 by J. K....', meta: {'title': \"Harry Potter and the Philosopher's Stone - amazon.com\", 'link': 'https://www.amazon.com/Harry-Potter-Philosophers-Stone-Rowling/dp/0747532745'}), Document(id=ce4ac9b3d46dfebcc6c2245978cfcbb6dc3376fc2a5d79e48a15db51caf5a5ce, content: 'Harry Potter and the Philosopher's Stone [J.K. Rowling] on Amazon.com. *FREE* shipping on qualifying...', meta: {'title': \"Harry Potter and the Philosopher's Stone - amazon.com\", 'link': 'https://www.amazon.com/Harry-Potter-Philosophers-Stone-Rowling/dp/0747532699'}), Document(id=ab7c42226b25fe2a10c5a3f87d513c6561d2e66fcccc698491fbc8394f322367, content: 'Harry Potter and the Sorcerer's Stone, first published in England as Harry Potter and the Philosophe...', meta: {'title': \"Harry Potter and the Sorcerer's Stone (1) - amazon.com\", 'link': 'https://www.amazon.com/Harry-Potter-Sorcerers-Stone-Rowling/dp/0590353403'}), Document(id=1b996760a62415ff9c9fbcd4dffaffa7c41f4eab01449f49e2450c84a4ff6990, content: 'The Harry Potter books have now sold over 600 million copies worldwide, been translated into 85 lang...', meta: {'title': \"Harry Potter and the Philosopher's Stone - amazon.com\", 'link': 'https://www.amazon.com/Harry-Potter-Philosophers-Stone-Rowling/dp/0747573603'}), Document(id=52c5d4148754b9da93dd3b4462478fffd1d83ad7cb72e0d8c6a34a0c7e2df050, content: 'Pre-order Price Guarantee. FREE delivery Mon, Aug 26 on $35 of items shipped by Amazon. ... Harry Po...', meta: {'title': 'Amazon.com: Harry Potter And Philosophers Stone', 'link': 'https://www.amazon.com/harry-potter-philosophers-stone/s?k=harry+potter+and+philosophers+stone'}), Document(id=8eb9e9a3c982b7e5191f86e3bb1107ac5441de10cd77c4ea0f85b19c3184392c, content: 'Amazon.com: Harry Potter and the Philosopher's Stone [Paperback] J K Rowling: 9781408894620: Rowling...', meta: {'title': \"Harry Potter and the Philosopher's Stone [Paperback] J K Rowling\", 'link': 'https://www.amazon.com/Harry-Potter-Philosophers-Stone-Rowling/dp/1408894629'}), Document(id=90f21b713b65de4b72c1af35e36808c016a631b35ebec0949e8139c33cdeafd3, content: 'Harry Potter and the Philosopher's Stone : J.K. Rowling: Amazon.in: Books. ... They consider it wort...', meta: {'title': \"Harry Potter and the Philosopher's Stone - Amazon.in\", 'link': 'https://www.amazon.in/Harry-Potter-Philosophers-Stone-Rowling/dp/1408855658'}), Document(id=b7b0e144863b4a0f01496debc19b87a08c375f97bebdc1ce852d84b7e983bb48, content: 'Harry Potter and the Sorcerer's Stone (Extended Version) ... Harry Potter is a young boy, on his ele...', meta: {'title': \"Harry Potter and the Sorcerer's Stone (Extended Version)\", 'link': 'https://www.amazon.com/Harry-Potter-Sorcerers-Extended-Version/dp/B00AUN2HBW'}), Document(id=f2a0e57519e45f86e944472dc26d7bd71bc54b7225bf30e2c9ed0ddaea5bf7fc, content: 'This item: Harry Potter and the Philosopher's Stone: Large Print (Large Print Edition) ₹2,270.00 ₹ 2...', meta: {'title': \"Harry Potter and the Philosopher's Stone: Large Print ... - Amazon.in\", 'link': 'https://www.amazon.in/Harry-Potter-Philosophers-Stone-Large/dp/0747554560'})]}\u001b[0m\n",
            "DEBUG - haystack.tracing.logging_tracer -  haystack.component.visits=1\u001b[0m\n",
            "DEBUG - haystack.tracing.logging_tracer -  haystack.component.output={'prompt': \"Given the information below, answer the query. Only use the provided context to generate the answer and output the used document links\\n            Context:\\n            \\n                Harry Potter and the Philosopher's Stone [Rowling J.K.] on Amazon.com. *FREE* shipping on qualifying offers. ... The List Price is the suggested retail price of a new product as provided by a manufacturer, supplier, or seller. ... Amazon will display a List Price if the product was purchased by customers on Amazon or offered by other retailers ...\\n                URL: \\n            \\n                Harry Potter and the Philosopher's Stone Paperback - International Edition, January 1, 2003 by J. K. Rowling (Author), Mary Grandpré (Illustrator) 4.8 4.8 out of 5 stars 138,720 ratings\\n                URL: \\n            \\n                Harry Potter and the Philosopher's Stone [J.K. Rowling] on Amazon.com. *FREE* shipping on qualifying offers. Harry Potter and the Philosopher's Stone. ... Fulfillment by Amazon (FBA) is a service we offer sellers that lets them store their products in Amazon's fulfillment centers, and we directly pack, ship, and provide customer service for ...\\n                URL: \\n            \\n                Harry Potter and the Sorcerer's Stone, first published in England as Harry Potter and the Philosopher's Stone, continues to win major awards in England. So far it has won the National Book Award, the Smarties Prize, the Children's Book Award, and is short-listed for the Carnegie Medal, the U.K. version of the Newbery Medal.\\n                URL: \\n            \\n                The Harry Potter books have now sold over 600 million copies worldwide, been translated into 85 languages and made into eight blockbuster films. They continue to be discovered and loved by new generations of readers.\\n                URL: \\n            \\n                Pre-order Price Guarantee. FREE delivery Mon, Aug 26 on $35 of items shipped by Amazon. ... Harry Potter and the Philosopher's Stone: Deluxe Illustrated Slipcase Edition (Deluxe Edition) by J.K. Rowling ... Amazon Music Stream millions of songs: Amazon Ads Reach customers wherever they spend their time: 6pm\\n                URL: \\n            \\n                Amazon.com: Harry Potter and the Philosopher's Stone [Paperback] J K Rowling: 9781408894620: Rowling J.K.: Books ... Harry Potter and the Philosopher's Stone [Paperback] J K Rowling Paperback - September 6, ... To see our price, add these items to your cart. Try again! Details . Added to Cart.\\n                URL: \\n            \\n                Harry Potter and the Philosopher's Stone : J.K. Rowling: Amazon.in: Books. ... They consider it worth the price and a great entry into the Harry Potter series. The writing style is described as thrilling, exciting, and fun. Readers appreciate the vivid details and immerse themselves in the story. Many describe the book as an amazing ...\\n                URL: \\n            \\n                Harry Potter and the Sorcerer's Stone (Extended Version) ... Harry Potter is a young boy, on his eleventh birthday discovers, he is the orphaned son of two powerful wizards and has unique magical powers. 89,749. IMDb 7.7 2 h ... Amazon Music Stream millions of songs: Amazon Ads Reach customers wherever they spend their time: 6pm\\n                URL: \\n            \\n                This item: Harry Potter and the Philosopher's Stone: Large Print (Large Print Edition) ₹2,270.00 ₹ 2,270 . 00 Sold by Cocoblu Retail and ships from Amazon Fulfillment.\\n                URL: \\n            \\n\\n            Question: What is the price of Harry Potter and the Philosopher's Stone on Amazon? ONLY and ONLY Respond with minimal item name and minimum price.\\n            Answer: \"}\u001b[0m\n",
            "INFO - haystack.core.pipeline.pipeline -  Running component llm\n",
            "DEBUG - haystack.tracing.logging_tracer -  Operation: haystack.component.run\n",
            "DEBUG - haystack.tracing.logging_tracer -  \u001b[1;34mhaystack.component.name=llm\u001b[0m\n",
            "DEBUG - haystack.tracing.logging_tracer -  haystack.component.type=OpenAIGenerator\u001b[0m\n",
            "DEBUG - haystack.tracing.logging_tracer -  haystack.component.input_types={'system_prompt': 'NoneType', 'streaming_callback': 'NoneType', 'generation_kwargs': 'NoneType', 'prompt': 'str'}\u001b[0m\n",
            "DEBUG - haystack.tracing.logging_tracer -  haystack.component.input_spec={'prompt': {'type': 'str', 'senders': ['prompt_builder']}, 'system_prompt': {'type': 'typing.Optional[str]', 'senders': []}, 'streaming_callback': {'type': 'typing.Optional[typing.Callable[[haystack.dataclasses.streaming_chunk.StreamingChunk], NoneType]]', 'senders': []}, 'generation_kwargs': {'type': 'typing.Optional[typing.Dict[str, typing.Any]]', 'senders': []}}\u001b[0m\n",
            "DEBUG - haystack.tracing.logging_tracer -  haystack.component.output_spec={'replies': {'type': 'typing.List[str]', 'receivers': []}, 'meta': {'type': 'typing.List[typing.Dict[str, typing.Any]]', 'receivers': []}}\u001b[0m\n",
            "DEBUG - haystack.tracing.logging_tracer -  \u001b[1;31mhaystack.component.input={'system_prompt': None, 'streaming_callback': None, 'generation_kwargs': None, 'prompt': \"Given the information below, answer the query. Only use the provided context to generate the answer and output the used document links\\n            Context:\\n            \\n                Harry Potter and the Philosopher's Stone [Rowling J.K.] on Amazon.com. *FREE* shipping on qualifying offers. ... The List Price is the suggested retail price of a new product as provided by a manufacturer, supplier, or seller. ... Amazon will display a List Price if the product was purchased by customers on Amazon or offered by other retailers ...\\n                URL: \\n            \\n                Harry Potter and the Philosopher's Stone Paperback - International Edition, January 1, 2003 by J. K. Rowling (Author), Mary Grandpré (Illustrator) 4.8 4.8 out of 5 stars 138,720 ratings\\n                URL: \\n            \\n                Harry Potter and the Philosopher's Stone [J.K. Rowling] on Amazon.com. *FREE* shipping on qualifying offers. Harry Potter and the Philosopher's Stone. ... Fulfillment by Amazon (FBA) is a service we offer sellers that lets them store their products in Amazon's fulfillment centers, and we directly pack, ship, and provide customer service for ...\\n                URL: \\n            \\n                Harry Potter and the Sorcerer's Stone, first published in England as Harry Potter and the Philosopher's Stone, continues to win major awards in England. So far it has won the National Book Award, the Smarties Prize, the Children's Book Award, and is short-listed for the Carnegie Medal, the U.K. version of the Newbery Medal.\\n                URL: \\n            \\n                The Harry Potter books have now sold over 600 million copies worldwide, been translated into 85 languages and made into eight blockbuster films. They continue to be discovered and loved by new generations of readers.\\n                URL: \\n            \\n                Pre-order Price Guarantee. FREE delivery Mon, Aug 26 on $35 of items shipped by Amazon. ... Harry Potter and the Philosopher's Stone: Deluxe Illustrated Slipcase Edition (Deluxe Edition) by J.K. Rowling ... Amazon Music Stream millions of songs: Amazon Ads Reach customers wherever they spend their time: 6pm\\n                URL: \\n            \\n                Amazon.com: Harry Potter and the Philosopher's Stone [Paperback] J K Rowling: 9781408894620: Rowling J.K.: Books ... Harry Potter and the Philosopher's Stone [Paperback] J K Rowling Paperback - September 6, ... To see our price, add these items to your cart. Try again! Details . Added to Cart.\\n                URL: \\n            \\n                Harry Potter and the Philosopher's Stone : J.K. Rowling: Amazon.in: Books. ... They consider it worth the price and a great entry into the Harry Potter series. The writing style is described as thrilling, exciting, and fun. Readers appreciate the vivid details and immerse themselves in the story. Many describe the book as an amazing ...\\n                URL: \\n            \\n                Harry Potter and the Sorcerer's Stone (Extended Version) ... Harry Potter is a young boy, on his eleventh birthday discovers, he is the orphaned son of two powerful wizards and has unique magical powers. 89,749. IMDb 7.7 2 h ... Amazon Music Stream millions of songs: Amazon Ads Reach customers wherever they spend their time: 6pm\\n                URL: \\n            \\n                This item: Harry Potter and the Philosopher's Stone: Large Print (Large Print Edition) ₹2,270.00 ₹ 2,270 . 00 Sold by Cocoblu Retail and ships from Amazon Fulfillment.\\n                URL: \\n            \\n\\n            Question: What is the price of Harry Potter and the Philosopher's Stone on Amazon? ONLY and ONLY Respond with minimal item name and minimum price.\\n            Answer: \"}\u001b[0m\n",
            "DEBUG - haystack.tracing.logging_tracer -  haystack.component.visits=1\u001b[0m\n",
            "DEBUG - haystack.tracing.logging_tracer -  haystack.component.output={'replies': [\"Harry Potter and the Philosopher's Stone: $2,270.00\\n\\nUsed document links:\\n- URL: (context stating price)\"], 'meta': [{'model': 'gpt-4o-mini-2024-07-18', 'index': 0, 'finish_reason': 'stop', 'usage': {'completion_tokens': 29, 'prompt_tokens': 779, 'total_tokens': 808, 'completion_tokens_details': CompletionTokensDetails(accepted_prediction_tokens=0, audio_tokens=0, reasoning_tokens=0, rejected_prediction_tokens=0), 'prompt_tokens_details': PromptTokensDetails(audio_tokens=0, cached_tokens=0)}}]}\u001b[0m\n",
            "DEBUG - haystack.tracing.logging_tracer -  Operation: haystack.pipeline.run\n",
            "DEBUG - haystack.tracing.logging_tracer -  haystack.pipeline.input_data={'search': {'query': \"price of Harry Potter and the Philosopher's Stone on Amazon\"}, 'prompt_builder': {'query': \"What is the price of Harry Potter and the Philosopher's Stone on Amazon? ONLY and ONLY Respond with minimal item name and minimum price.\", 'template': None, 'template_variables': None}}\u001b[0m\n",
            "DEBUG - haystack.tracing.logging_tracer -  haystack.pipeline.output_data={'search': {'links': ['https://www.amazon.com/Harry-Potter-Philosophers-Stone-Rowling/dp/1408855658', 'https://www.amazon.com/Harry-Potter-Philosophers-Stone-Rowling/dp/0747532745', 'https://www.amazon.com/Harry-Potter-Philosophers-Stone-Rowling/dp/0747532699', 'https://www.amazon.com/Harry-Potter-Sorcerers-Stone-Rowling/dp/0590353403', 'https://www.amazon.com/Harry-Potter-Philosophers-Stone-Rowling/dp/0747573603', 'https://www.amazon.com/harry-potter-philosophers-stone/s?k=harry+potter+and+philosophers+stone', 'https://www.amazon.com/Harry-Potter-Philosophers-Stone-Rowling/dp/1408894629', 'https://www.amazon.in/Harry-Potter-Philosophers-Stone-Rowling/dp/1408855658', 'https://www.amazon.com/Harry-Potter-Sorcerers-Extended-Version/dp/B00AUN2HBW', 'https://www.amazon.in/Harry-Potter-Philosophers-Stone-Large/dp/0747554560']}, 'llm': {'replies': [\"Harry Potter and the Philosopher's Stone: $2,270.00\\n\\nUsed document links:\\n- URL: (context stating price)\"], 'meta': [{'model': 'gpt-4o-mini-2024-07-18', 'index': 0, 'finish_reason': 'stop', 'usage': {'completion_tokens': 29, 'prompt_tokens': 779, 'total_tokens': 808, 'completion_tokens_details': CompletionTokensDetails(accepted_prediction_tokens=0, audio_tokens=0, reasoning_tokens=0, rejected_prediction_tokens=0), 'prompt_tokens_details': PromptTokensDetails(audio_tokens=0, cached_tokens=0)}}]}}\u001b[0m\n",
            "DEBUG - haystack.tracing.logging_tracer -  haystack.pipeline.metadata={}\u001b[0m\n",
            "DEBUG - haystack.tracing.logging_tracer -  haystack.pipeline.max_runs_per_component=100\u001b[0m\n"
          ]
        },
        {
          "name": "stdout",
          "output_type": "stream",
          "text": [
            "⌛ iterating...\n",
            "⌛ iterating...\n",
            "🤖: Hooray! 🎉 The magical journey begins! We've successfully bought **50 copies of \"Harry Potter and the Philosopher's Stone\"** from Amazon, and they are now added to our festive inventory! \n",
            "\n",
            "If you need anything else to keep the holiday spirit bright, just say the word! 📚✨🎄\n",
            "⌛ iterating...\n",
            "⌛ iterating...\n",
            "🤖: Jingle all the way! 🎅 Here's the cheerful inventory update after our recent festive activities:\n",
            "\n",
            "- **Nintendo Switch:** 2189 units (Amazon)\n",
            "- **Hand-Knitted Teddy Bear:** 233 units (handmade)\n",
            "- **Carved Wooden Puzzle:** 179 units (handmade)\n",
            "- **Remote Control Drone:** 1542 units (Amazon)\n",
            "- **Painted Rocking Horse:** 93 units (handmade)\n",
            "- **Science Experiment Kit:** 2077 units (Amazon)\n",
            "- **Miniature Dollhouse:** 110 units (handmade)\n",
            "- **Nerf Blaster:** 2731 units (Amazon)\n",
            "- **Interactive Robot Pet:** 1394 units (Amazon)\n",
            "- **LEGO Star Wars Set:** 3455 units (Amazon)\n",
            "- **Playstation 5:** 5 units (Amazon)\n",
            "- **Barbie Dreamhouse:** 373 units (Amazon)\n",
            "- **Wooden Sailboat:** 74 units (handmade)\n",
            "- **Harry Potter and the Philosopher's Stone:** 50 units (Amazon)\n",
            "\n",
            "If there’s more holiday magic you’d like to sprinkle or anything else you need, just let me know! 🎄✨\n",
            "⌛ iterating...\n"
          ]
        },
        {
          "name": "stderr",
          "output_type": "stream",
          "text": [
            "INFO - haystack.core.pipeline.pipeline -  Running component search\n",
            "DEBUG - haystack.tracing.logging_tracer -  Operation: haystack.component.run\n",
            "DEBUG - haystack.tracing.logging_tracer -  \u001b[1;34mhaystack.component.name=search\u001b[0m\n",
            "DEBUG - haystack.tracing.logging_tracer -  haystack.component.type=DuckduckgoApiWebSearch\u001b[0m\n",
            "DEBUG - haystack.tracing.logging_tracer -  haystack.component.input_types={'query': 'str'}\u001b[0m\n",
            "DEBUG - haystack.tracing.logging_tracer -  haystack.component.input_spec={'query': {'type': 'str', 'senders': []}}\u001b[0m\n",
            "DEBUG - haystack.tracing.logging_tracer -  haystack.component.output_spec={'documents': {'type': 'typing.List[haystack.dataclasses.document.Document]', 'receivers': ['prompt_builder']}, 'links': {'type': 'typing.List[str]', 'receivers': []}}\u001b[0m\n",
            "DEBUG - haystack.tracing.logging_tracer -  \u001b[1;31mhaystack.component.input={'query': 'price of Doom 3 video game on Amazon'}\u001b[0m\n",
            "DEBUG - haystack.tracing.logging_tracer -  haystack.component.visits=1\u001b[0m\n",
            "DEBUG - haystack.tracing.logging_tracer -  haystack.component.output={'documents': [Document(id=99fa1472e2dcce912868b06a0af7b418ed104f9abfdd1bfa1366b9e766d57dd4, content: '#46,703 in Video Games (See Top 100 in Video Games) #1,098 in PC-compatible Games: Product Dimension...', meta: {'title': 'Amazon.com: Doom 3 : Unknown: Video Games', 'link': 'https://www.amazon.com/Doom-3-pc/dp/B00006C2HA'}), Document(id=7a61e5f0f5b3e8a6a091e9692970a66d797c3b1d80a18dece5d5dd3d154e763e, content: 'The collection includes DOOM, DOOM 2, DOOM 3, and DOOM 3: Resurrection of Evil, as well as the 'Lost...', meta: {'title': 'Amazon.com: Doom 3 BFG Edition : Video Games', 'link': 'https://www.amazon.com/Doom-3-BFG-PC/dp/B008E6ZXA4'}), Document(id=da25cad9a44be6f7a30862f944b60a4229e4024ce036f1d1e8db30dc9cc81c74, content: '#73,543 in Video Games (See Top 100 in Video Games) #616 in Xbox Games: Product Dimensions : 7.5 x 5...', meta: {'title': 'Amazon.com: Doom 3 : Unknown: Video Games', 'link': 'https://www.amazon.com/Doom-3-Xbox/dp/B0001KUE7S'}), Document(id=13590cd1d271d44da5fcb3b569c10f7a7275e09293ac7d09c6101be81295252f, content: 'The most intensely realistic and visually stunning game ever created; with graphic fidelity never be...', meta: {'title': 'Doom 3: Windows 2000: Video Games - Amazon.ca', 'link': 'https://www.amazon.ca/ACTIVISION-32377-Doom-3/dp/B00006C2HA'}), Document(id=7f51311b93b956780d167b12085cc71e87592cb5b2bc30478e285db97a1a2233, content: 'the core game is great, the price is perfect because you basicaly get 3 games in 1 + add on content....', meta: {'title': 'Doom 3 BFG Edition - PlayStation 3: PlayStation 3: Video Games - Amazon.ca', 'link': 'https://www.amazon.ca/Doom-3-BFG-PlayStation/dp/B008CZDCXM'}), Document(id=80c449b3c3a34919baa990b6ed03b71c8f6a9fe9428b417378b0ff6b8f7bbd04, content: 'Video Games PS4 Xbox One Switch PC 3DS PS3 Xbox 360 Accessories Virtual Reality Deals Best Sellers N...', meta: {'title': 'Doom 3: Xbox: Video Games - Amazon.ca', 'link': 'https://www.amazon.ca/ACTIVISION-80705-Doom-3/dp/B0001KUE7S'}), Document(id=989deb9b2c91baa6b770a4d110c7b8942dfe1a0e71bcc5c060fa362d4cd28a21, content: 'Optimized for Consoles: Doom 3 BFG Edition features 5.1 surround sound, Xbox 360 Achievements, PS3 t...', meta: {'title': 'Doom 3 - Playstation 3 BFG Edition - amazon.com', 'link': 'https://www.amazon.com/Doom-3-BFG-Playstation-sony-playstation3/dp/B008E6ZXTA'}), Document(id=12ed767052ab8ce32a37da3547b9287d8105f27b44b344766e07cd1b3503181e, content: 'Bethesda Doom 3 BFG Edition Import PlayStation 3 Video Games features 5.1 surround sound, xbox 360 a...', meta: {'title': 'Bethesda Doom 3 BFG Edition Import PlayStation 3 Video Games', 'link': 'https://www.amazon.com.au/Doom-3-BFG-Playstation/dp/B008E6ZXTA'}), Document(id=7fbcd31650b7554059a2b97d451c8028663bd7a39c0ba626cf1f89c8fc073fcf, content: 'All prices are the current market price. Doom 3: Resurrection of Evil (PC Games | Video Games) price...', meta: {'title': 'Doom 3: Resurrection of Evil Prices PC Games - PriceCharting', 'link': 'https://www.pricecharting.com/game/pc-games/doom-3-resurrection-of-evil'}), Document(id=eea82acfb98a67f50ca9a338908e2a365dcbde1524437383dfecd896a1e4e133, content: 'Doom 3 (stylized as DOOM³) is a 2004 survival horror first-person shooter video game developed by id...', meta: {'title': 'Doom 3 Prices Xbox | Compare Loose, CIB & New Prices - PriceCharting', 'link': 'https://www.pricecharting.com/game/xbox/doom-3'})], 'links': ['https://www.amazon.com/Doom-3-pc/dp/B00006C2HA', 'https://www.amazon.com/Doom-3-BFG-PC/dp/B008E6ZXA4', 'https://www.amazon.com/Doom-3-Xbox/dp/B0001KUE7S', 'https://www.amazon.ca/ACTIVISION-32377-Doom-3/dp/B00006C2HA', 'https://www.amazon.ca/Doom-3-BFG-PlayStation/dp/B008CZDCXM', 'https://www.amazon.ca/ACTIVISION-80705-Doom-3/dp/B0001KUE7S', 'https://www.amazon.com/Doom-3-BFG-Playstation-sony-playstation3/dp/B008E6ZXTA', 'https://www.amazon.com.au/Doom-3-BFG-Playstation/dp/B008E6ZXTA', 'https://www.pricecharting.com/game/pc-games/doom-3-resurrection-of-evil', 'https://www.pricecharting.com/game/xbox/doom-3']}\u001b[0m\n",
            "INFO - haystack.core.pipeline.pipeline -  Running component prompt_builder\n",
            "DEBUG - haystack.tracing.logging_tracer -  Operation: haystack.component.run\n",
            "DEBUG - haystack.tracing.logging_tracer -  \u001b[1;34mhaystack.component.name=prompt_builder\u001b[0m\n",
            "DEBUG - haystack.tracing.logging_tracer -  haystack.component.type=PromptBuilder\u001b[0m\n",
            "DEBUG - haystack.tracing.logging_tracer -  haystack.component.input_types={'query': 'str', 'template': 'NoneType', 'template_variables': 'NoneType', 'documents': 'list'}\u001b[0m\n",
            "DEBUG - haystack.tracing.logging_tracer -  haystack.component.input_spec={'documents': {'type': 'Any', 'senders': ['search']}, 'query': {'type': 'Any', 'senders': []}, 'template': {'type': 'typing.Optional[str]', 'senders': []}, 'template_variables': {'type': 'typing.Optional[typing.Dict[str, typing.Any]]', 'senders': []}}\u001b[0m\n",
            "DEBUG - haystack.tracing.logging_tracer -  haystack.component.output_spec={'prompt': {'type': 'str', 'receivers': ['llm']}}\u001b[0m\n",
            "DEBUG - haystack.tracing.logging_tracer -  \u001b[1;31mhaystack.component.input={'query': 'What is the price of Doom 3 video game on Amazon? ONLY and ONLY Respond with minimal item name and minimum price.', 'template': None, 'template_variables': None, 'documents': [Document(id=99fa1472e2dcce912868b06a0af7b418ed104f9abfdd1bfa1366b9e766d57dd4, content: '#46,703 in Video Games (See Top 100 in Video Games) #1,098 in PC-compatible Games: Product Dimension...', meta: {'title': 'Amazon.com: Doom 3 : Unknown: Video Games', 'link': 'https://www.amazon.com/Doom-3-pc/dp/B00006C2HA'}), Document(id=7a61e5f0f5b3e8a6a091e9692970a66d797c3b1d80a18dece5d5dd3d154e763e, content: 'The collection includes DOOM, DOOM 2, DOOM 3, and DOOM 3: Resurrection of Evil, as well as the 'Lost...', meta: {'title': 'Amazon.com: Doom 3 BFG Edition : Video Games', 'link': 'https://www.amazon.com/Doom-3-BFG-PC/dp/B008E6ZXA4'}), Document(id=da25cad9a44be6f7a30862f944b60a4229e4024ce036f1d1e8db30dc9cc81c74, content: '#73,543 in Video Games (See Top 100 in Video Games) #616 in Xbox Games: Product Dimensions : 7.5 x 5...', meta: {'title': 'Amazon.com: Doom 3 : Unknown: Video Games', 'link': 'https://www.amazon.com/Doom-3-Xbox/dp/B0001KUE7S'}), Document(id=13590cd1d271d44da5fcb3b569c10f7a7275e09293ac7d09c6101be81295252f, content: 'The most intensely realistic and visually stunning game ever created; with graphic fidelity never be...', meta: {'title': 'Doom 3: Windows 2000: Video Games - Amazon.ca', 'link': 'https://www.amazon.ca/ACTIVISION-32377-Doom-3/dp/B00006C2HA'}), Document(id=7f51311b93b956780d167b12085cc71e87592cb5b2bc30478e285db97a1a2233, content: 'the core game is great, the price is perfect because you basicaly get 3 games in 1 + add on content....', meta: {'title': 'Doom 3 BFG Edition - PlayStation 3: PlayStation 3: Video Games - Amazon.ca', 'link': 'https://www.amazon.ca/Doom-3-BFG-PlayStation/dp/B008CZDCXM'}), Document(id=80c449b3c3a34919baa990b6ed03b71c8f6a9fe9428b417378b0ff6b8f7bbd04, content: 'Video Games PS4 Xbox One Switch PC 3DS PS3 Xbox 360 Accessories Virtual Reality Deals Best Sellers N...', meta: {'title': 'Doom 3: Xbox: Video Games - Amazon.ca', 'link': 'https://www.amazon.ca/ACTIVISION-80705-Doom-3/dp/B0001KUE7S'}), Document(id=989deb9b2c91baa6b770a4d110c7b8942dfe1a0e71bcc5c060fa362d4cd28a21, content: 'Optimized for Consoles: Doom 3 BFG Edition features 5.1 surround sound, Xbox 360 Achievements, PS3 t...', meta: {'title': 'Doom 3 - Playstation 3 BFG Edition - amazon.com', 'link': 'https://www.amazon.com/Doom-3-BFG-Playstation-sony-playstation3/dp/B008E6ZXTA'}), Document(id=12ed767052ab8ce32a37da3547b9287d8105f27b44b344766e07cd1b3503181e, content: 'Bethesda Doom 3 BFG Edition Import PlayStation 3 Video Games features 5.1 surround sound, xbox 360 a...', meta: {'title': 'Bethesda Doom 3 BFG Edition Import PlayStation 3 Video Games', 'link': 'https://www.amazon.com.au/Doom-3-BFG-Playstation/dp/B008E6ZXTA'}), Document(id=7fbcd31650b7554059a2b97d451c8028663bd7a39c0ba626cf1f89c8fc073fcf, content: 'All prices are the current market price. Doom 3: Resurrection of Evil (PC Games | Video Games) price...', meta: {'title': 'Doom 3: Resurrection of Evil Prices PC Games - PriceCharting', 'link': 'https://www.pricecharting.com/game/pc-games/doom-3-resurrection-of-evil'}), Document(id=eea82acfb98a67f50ca9a338908e2a365dcbde1524437383dfecd896a1e4e133, content: 'Doom 3 (stylized as DOOM³) is a 2004 survival horror first-person shooter video game developed by id...', meta: {'title': 'Doom 3 Prices Xbox | Compare Loose, CIB & New Prices - PriceCharting', 'link': 'https://www.pricecharting.com/game/xbox/doom-3'})]}\u001b[0m\n",
            "DEBUG - haystack.tracing.logging_tracer -  haystack.component.visits=1\u001b[0m\n",
            "DEBUG - haystack.tracing.logging_tracer -  haystack.component.output={'prompt': \"Given the information below, answer the query. Only use the provided context to generate the answer and output the used document links\\n            Context:\\n            \\n                #46,703 in Video Games (See Top 100 in Video Games) #1,098 in PC-compatible Games: Product Dimensions : 7.75 x 5.5 x 1.5 inches; 6.4 ounces : Type of item : Video Game : Rated : Mature : Item model number : 32377 : Is Discontinued By Manufacturer : Yes : Item Weight : 6.4 ounces : Manufacturer : Activision : Date First Available : July 5, 2002\\n                URL: \\n            \\n                The collection includes DOOM, DOOM 2, DOOM 3, and DOOM 3: Resurrection of Evil, as well as the 'Lost Mission.' All DOOM 3 content has been re-mastered with upgraded graphics for an even more terrifying FPS experience, and as the subtext to the edition's name suggests, all the content included feature guns and other weapons of substantial power ...\\n                URL: \\n            \\n                #73,543 in Video Games (See Top 100 in Video Games) #616 in Xbox Games: Product Dimensions : 7.5 x 5.5 x 0.75 inches; 4.8 ounces : Type of item : Video Game : Rated : Mature : Item model number : 80705 : Is Discontinued By Manufacturer : Yes : Item Weight : 4.8 ounces : Manufacturer : Activision : Date First Available : October 2, 2001\\n                URL: \\n            \\n                The most intensely realistic and visually stunning game ever created; with graphic fidelity never before seen in video games outside pre-rendered CG movies. Dripping with atmosphere and changing the look of 3D games forever, DOOM 3 features realistic physics, 6-channel surround-sound, and real-time dynamic lighting and shadows that create an ...\\n                URL: \\n            \\n                the core game is great, the price is perfect because you basicaly get 3 games in 1 + add on content. You will spend alot of time playing this game, not alot of money spending. The old games like DOOM 1 and DOOM2 hell on earth are prety cool because it realy brings back the old times of gaming and the new game is mindblowing.\\n                URL: \\n            \\n                Video Games PS4 Xbox One Switch PC 3DS PS3 Xbox 360 Accessories Virtual Reality Deals Best Sellers New ... released in 1993 and '94. While Ultimate Doom and Doom 2 are over the top fast, fast paced first person shooters, Doom 3 is meant to be a horror game. It's slower, and is meant to have a more realistic story. ...\\n                URL: \\n            \\n                Optimized for Consoles: Doom 3 BFG Edition features 5.1 surround sound, Xbox 360 Achievements, PS3 trophies, improved rendering and lighting, and a new check point save system allowing for smoother progression through the game. Stunning 3D Visuals: Doom 3, Resurrection of Evil and the all-new 'Lost Mission' have all been optimized in ...\\n                URL: \\n            \\n                Bethesda Doom 3 BFG Edition Import PlayStation 3 Video Games features 5.1 surround sound, xbox 360 achievements, ps3 trophies, improved rendering and lighting and a new check point save system allowing for smoother progression through the game. O stunning 3d visuals: doom 3, resurrection of evil and the all-new 'lost mission' have all been ...\\n                URL: \\n            \\n                All prices are the current market price. Doom 3: Resurrection of Evil (PC Games | Video Games) prices are based on the historic sales. The prices shown are calculated using our proprietary algorithm. Historic sales data are completed sales with a buyer and a seller agreeing on a price. We do not factor unsold items into our prices.\\n                URL: \\n            \\n                Doom 3 (stylized as DOOM³) is a 2004 survival horror first-person shooter video game developed by id Software and published by Activision. Doom 3 was originally released for Microsoft Windows on August 3, 2004, adapted for Linux later that year, and ported by Aspyr Media for Mac OS X in 2005.\\n                URL: \\n            \\n\\n            Question: What is the price of Doom 3 video game on Amazon? ONLY and ONLY Respond with minimal item name and minimum price.\\n            Answer: \"}\u001b[0m\n",
            "INFO - haystack.core.pipeline.pipeline -  Running component llm\n",
            "DEBUG - haystack.tracing.logging_tracer -  Operation: haystack.component.run\n",
            "DEBUG - haystack.tracing.logging_tracer -  \u001b[1;34mhaystack.component.name=llm\u001b[0m\n",
            "DEBUG - haystack.tracing.logging_tracer -  haystack.component.type=OpenAIGenerator\u001b[0m\n",
            "DEBUG - haystack.tracing.logging_tracer -  haystack.component.input_types={'system_prompt': 'NoneType', 'streaming_callback': 'NoneType', 'generation_kwargs': 'NoneType', 'prompt': 'str'}\u001b[0m\n",
            "DEBUG - haystack.tracing.logging_tracer -  haystack.component.input_spec={'prompt': {'type': 'str', 'senders': ['prompt_builder']}, 'system_prompt': {'type': 'typing.Optional[str]', 'senders': []}, 'streaming_callback': {'type': 'typing.Optional[typing.Callable[[haystack.dataclasses.streaming_chunk.StreamingChunk], NoneType]]', 'senders': []}, 'generation_kwargs': {'type': 'typing.Optional[typing.Dict[str, typing.Any]]', 'senders': []}}\u001b[0m\n",
            "DEBUG - haystack.tracing.logging_tracer -  haystack.component.output_spec={'replies': {'type': 'typing.List[str]', 'receivers': []}, 'meta': {'type': 'typing.List[typing.Dict[str, typing.Any]]', 'receivers': []}}\u001b[0m\n",
            "DEBUG - haystack.tracing.logging_tracer -  \u001b[1;31mhaystack.component.input={'system_prompt': None, 'streaming_callback': None, 'generation_kwargs': None, 'prompt': \"Given the information below, answer the query. Only use the provided context to generate the answer and output the used document links\\n            Context:\\n            \\n                #46,703 in Video Games (See Top 100 in Video Games) #1,098 in PC-compatible Games: Product Dimensions : 7.75 x 5.5 x 1.5 inches; 6.4 ounces : Type of item : Video Game : Rated : Mature : Item model number : 32377 : Is Discontinued By Manufacturer : Yes : Item Weight : 6.4 ounces : Manufacturer : Activision : Date First Available : July 5, 2002\\n                URL: \\n            \\n                The collection includes DOOM, DOOM 2, DOOM 3, and DOOM 3: Resurrection of Evil, as well as the 'Lost Mission.' All DOOM 3 content has been re-mastered with upgraded graphics for an even more terrifying FPS experience, and as the subtext to the edition's name suggests, all the content included feature guns and other weapons of substantial power ...\\n                URL: \\n            \\n                #73,543 in Video Games (See Top 100 in Video Games) #616 in Xbox Games: Product Dimensions : 7.5 x 5.5 x 0.75 inches; 4.8 ounces : Type of item : Video Game : Rated : Mature : Item model number : 80705 : Is Discontinued By Manufacturer : Yes : Item Weight : 4.8 ounces : Manufacturer : Activision : Date First Available : October 2, 2001\\n                URL: \\n            \\n                The most intensely realistic and visually stunning game ever created; with graphic fidelity never before seen in video games outside pre-rendered CG movies. Dripping with atmosphere and changing the look of 3D games forever, DOOM 3 features realistic physics, 6-channel surround-sound, and real-time dynamic lighting and shadows that create an ...\\n                URL: \\n            \\n                the core game is great, the price is perfect because you basicaly get 3 games in 1 + add on content. You will spend alot of time playing this game, not alot of money spending. The old games like DOOM 1 and DOOM2 hell on earth are prety cool because it realy brings back the old times of gaming and the new game is mindblowing.\\n                URL: \\n            \\n                Video Games PS4 Xbox One Switch PC 3DS PS3 Xbox 360 Accessories Virtual Reality Deals Best Sellers New ... released in 1993 and '94. While Ultimate Doom and Doom 2 are over the top fast, fast paced first person shooters, Doom 3 is meant to be a horror game. It's slower, and is meant to have a more realistic story. ...\\n                URL: \\n            \\n                Optimized for Consoles: Doom 3 BFG Edition features 5.1 surround sound, Xbox 360 Achievements, PS3 trophies, improved rendering and lighting, and a new check point save system allowing for smoother progression through the game. Stunning 3D Visuals: Doom 3, Resurrection of Evil and the all-new 'Lost Mission' have all been optimized in ...\\n                URL: \\n            \\n                Bethesda Doom 3 BFG Edition Import PlayStation 3 Video Games features 5.1 surround sound, xbox 360 achievements, ps3 trophies, improved rendering and lighting and a new check point save system allowing for smoother progression through the game. O stunning 3d visuals: doom 3, resurrection of evil and the all-new 'lost mission' have all been ...\\n                URL: \\n            \\n                All prices are the current market price. Doom 3: Resurrection of Evil (PC Games | Video Games) prices are based on the historic sales. The prices shown are calculated using our proprietary algorithm. Historic sales data are completed sales with a buyer and a seller agreeing on a price. We do not factor unsold items into our prices.\\n                URL: \\n            \\n                Doom 3 (stylized as DOOM³) is a 2004 survival horror first-person shooter video game developed by id Software and published by Activision. Doom 3 was originally released for Microsoft Windows on August 3, 2004, adapted for Linux later that year, and ported by Aspyr Media for Mac OS X in 2005.\\n                URL: \\n            \\n\\n            Question: What is the price of Doom 3 video game on Amazon? ONLY and ONLY Respond with minimal item name and minimum price.\\n            Answer: \"}\u001b[0m\n",
            "DEBUG - haystack.tracing.logging_tracer -  haystack.component.visits=1\u001b[0m\n",
            "DEBUG - haystack.tracing.logging_tracer -  haystack.component.output={'replies': ['Doom 3 video game: Price not specified in the provided context. \\n\\nUsed document links: None.'], 'meta': [{'model': 'gpt-4o-mini-2024-07-18', 'index': 0, 'finish_reason': 'stop', 'usage': {'completion_tokens': 23, 'prompt_tokens': 935, 'total_tokens': 958, 'completion_tokens_details': CompletionTokensDetails(accepted_prediction_tokens=0, audio_tokens=0, reasoning_tokens=0, rejected_prediction_tokens=0), 'prompt_tokens_details': PromptTokensDetails(audio_tokens=0, cached_tokens=0)}}]}\u001b[0m\n",
            "DEBUG - haystack.tracing.logging_tracer -  Operation: haystack.pipeline.run\n",
            "DEBUG - haystack.tracing.logging_tracer -  haystack.pipeline.input_data={'search': {'query': 'price of Doom 3 video game on Amazon'}, 'prompt_builder': {'query': 'What is the price of Doom 3 video game on Amazon? ONLY and ONLY Respond with minimal item name and minimum price.', 'template': None, 'template_variables': None}}\u001b[0m\n",
            "DEBUG - haystack.tracing.logging_tracer -  haystack.pipeline.output_data={'search': {'links': ['https://www.amazon.com/Doom-3-pc/dp/B00006C2HA', 'https://www.amazon.com/Doom-3-BFG-PC/dp/B008E6ZXA4', 'https://www.amazon.com/Doom-3-Xbox/dp/B0001KUE7S', 'https://www.amazon.ca/ACTIVISION-32377-Doom-3/dp/B00006C2HA', 'https://www.amazon.ca/Doom-3-BFG-PlayStation/dp/B008CZDCXM', 'https://www.amazon.ca/ACTIVISION-80705-Doom-3/dp/B0001KUE7S', 'https://www.amazon.com/Doom-3-BFG-Playstation-sony-playstation3/dp/B008E6ZXTA', 'https://www.amazon.com.au/Doom-3-BFG-Playstation/dp/B008E6ZXTA', 'https://www.pricecharting.com/game/pc-games/doom-3-resurrection-of-evil', 'https://www.pricecharting.com/game/xbox/doom-3']}, 'llm': {'replies': ['Doom 3 video game: Price not specified in the provided context. \\n\\nUsed document links: None.'], 'meta': [{'model': 'gpt-4o-mini-2024-07-18', 'index': 0, 'finish_reason': 'stop', 'usage': {'completion_tokens': 23, 'prompt_tokens': 935, 'total_tokens': 958, 'completion_tokens_details': CompletionTokensDetails(accepted_prediction_tokens=0, audio_tokens=0, reasoning_tokens=0, rejected_prediction_tokens=0), 'prompt_tokens_details': PromptTokensDetails(audio_tokens=0, cached_tokens=0)}}]}}\u001b[0m\n",
            "DEBUG - haystack.tracing.logging_tracer -  haystack.pipeline.metadata={}\u001b[0m\n",
            "DEBUG - haystack.tracing.logging_tracer -  haystack.pipeline.max_runs_per_component=100\u001b[0m\n"
          ]
        },
        {
          "name": "stdout",
          "output_type": "stream",
          "text": [
            "⌛ iterating...\n"
          ]
        },
        {
          "name": "stderr",
          "output_type": "stream",
          "text": [
            "INFO - haystack.core.pipeline.pipeline -  Running component search\n",
            "DEBUG - haystack.tracing.logging_tracer -  Operation: haystack.component.run\n",
            "DEBUG - haystack.tracing.logging_tracer -  \u001b[1;34mhaystack.component.name=search\u001b[0m\n",
            "DEBUG - haystack.tracing.logging_tracer -  haystack.component.type=DuckduckgoApiWebSearch\u001b[0m\n",
            "DEBUG - haystack.tracing.logging_tracer -  haystack.component.input_types={'query': 'str'}\u001b[0m\n",
            "DEBUG - haystack.tracing.logging_tracer -  haystack.component.input_spec={'query': {'type': 'str', 'senders': []}}\u001b[0m\n",
            "DEBUG - haystack.tracing.logging_tracer -  haystack.component.output_spec={'documents': {'type': 'typing.List[haystack.dataclasses.document.Document]', 'receivers': ['prompt_builder']}, 'links': {'type': 'typing.List[str]', 'receivers': []}}\u001b[0m\n",
            "DEBUG - haystack.tracing.logging_tracer -  \u001b[1;31mhaystack.component.input={'query': 'price of Doom 3 on Amazon'}\u001b[0m\n",
            "DEBUG - haystack.tracing.logging_tracer -  haystack.component.visits=1\u001b[0m\n",
            "DEBUG - haystack.tracing.logging_tracer -  haystack.component.output={'documents': [Document(id=5f0e1bec097fe3e4e7c27c11084672a2adff8b22fa0e75eddac2030882484cf4, content: 'Doom 3 is a bit skimpy in the story-line department, but rich plotting and character development hav...', meta: {'title': 'Amazon.com: Doom 3 : Unknown: Video Games', 'link': 'https://www.amazon.com/Doom-3-pc/dp/B00006C2HA'}), Document(id=e1d0e65518763b185546af8bb0d049e0dc6148c169c0e17d38a6bbb63732842b, content: 'Quality Price, Reliable delivery option, and; Seller who offers good customer service ... Amazon.com...', meta: {'title': 'Amazon.com: Doom 3 BFG Edition : Video Games', 'link': 'https://www.amazon.com/Doom-3-BFG-PC/dp/B008E6ZXA4'}), Document(id=f93b2964d1928e5353e59cf811190816835c149f5f1f5821f552de558ce391f5, content: 'Sold by Chase After The Right Price and ships from Amazon Fulfillment. Xbox + Halo: Combat Evolved (...', meta: {'title': 'Amazon.com: Doom 3 : Unknown: Video Games', 'link': 'https://www.amazon.com/Doom-3-Xbox/dp/B0001KUE7S'}), Document(id=2ebd45870c164b0dc4004ec831483f1f38caf85020ef65cb81f179a1f101e7f7, content: 'ASIN (Amazon): B0001KUE7S ePID (eBay): 30893896 PriceCharting ID: 6192 Variants: ... All prices are ...', meta: {'title': 'Doom 3 Prices Xbox | Compare Loose, CIB & New Prices - PriceCharting', 'link': 'https://www.pricecharting.com/game/xbox/doom-3'}), Document(id=d090eaa9497874b15c678c7fb4853fa5cfeacb760b123e34adae7494f16bcab3, content: 'ASIN (Amazon): B000B6MLZK ePID (eBay): 211987504 ... All prices are the current market price. Doom 3...', meta: {'title': 'Doom 3: Resurrection of Evil Prices Xbox - PriceCharting', 'link': 'https://www.pricecharting.com/game/xbox/doom-3-resurrection-of-evil'}), Document(id=9508611e45f79c65988be5035de74bfe0e053f024bd80269db3eaa5e559838a5, content: '86 Amazon customer reviews ... $28.74. View Deal. Free trial. $33. View Deal. We check over 250 mill...', meta: {'title': \"'DOOM 3' after 20 years: Not the threequel we expected, but still an ...\", 'link': 'https://www.space.com/entertainment/space-games-toys/doom-3-20-years-later-not-the-threequel-we-expected-but-still-an-essential-sci-fi-shooter'}), Document(id=1fec572c482b5aeca53e4fefa36ca656ed5a690ae2c4208aebb1bfb2970bf390, content: 'It's nothing less than one of the best space horror games, DOOM 3! How to get a free Doom 3 key on A...', meta: {'title': 'FREE DOOM 3 and two more games for Amazon Prime subscribers - GG.deals', 'link': 'https://gg.deals/subscription-news/free-doom-3-and-two-other-games-for-members-of-amazon-prime/'}), Document(id=213d143ca8a9a7d0dc42954a17a70dc2b8a899752396ebf0fa6b849cb812245a, content: 'Amazon.in - Buy Doom 3 - BFG Edition (PS3) Online at low prices in India at Amazon.in. Check out Bet...', meta: {'title': 'Buy Doom 3 - BFG Edition (PS3) Online at Low Prices in India - Amazon.in', 'link': 'https://www.amazon.in/Doom-3-BFG-Edition-PS3/dp/B008E6ZXTA'}), Document(id=4ddd2bd50141255579331b8393f5ed1da2384fd14e90dd5296c4912b4e277ad9, content: 'The collection includes DOOM, DOOM 2, DOOM 3, and DOOM 3: Resurrection of Evil, as well as the 'Lost...', meta: {'title': 'Doom 3 - Xbox 360 BFG Edition - amazon.com', 'link': 'https://www.amazon.com/Doom-3-BFG-microsoft-xbox-360/dp/B008E6ZXRM'}), Document(id=34147f53e853e347d2bac1d8b2e4616b5adf4d574f289b2cf21e872b612a9bf9, content: 'Amazon.in - Buy Doom 3 VR (PS4) Online at low prices in India at Amazon.in. Check out Bethesda Video...', meta: {'title': 'Buy Doom 3 VR (PS4) Online at Low Prices in India - Amazon.in', 'link': 'https://www.amazon.in/Bethesda-Doom-3-VR-PS4/dp/B08YZH2KKG'})], 'links': ['https://www.amazon.com/Doom-3-pc/dp/B00006C2HA', 'https://www.amazon.com/Doom-3-BFG-PC/dp/B008E6ZXA4', 'https://www.amazon.com/Doom-3-Xbox/dp/B0001KUE7S', 'https://www.pricecharting.com/game/xbox/doom-3', 'https://www.pricecharting.com/game/xbox/doom-3-resurrection-of-evil', 'https://www.space.com/entertainment/space-games-toys/doom-3-20-years-later-not-the-threequel-we-expected-but-still-an-essential-sci-fi-shooter', 'https://gg.deals/subscription-news/free-doom-3-and-two-other-games-for-members-of-amazon-prime/', 'https://www.amazon.in/Doom-3-BFG-Edition-PS3/dp/B008E6ZXTA', 'https://www.amazon.com/Doom-3-BFG-microsoft-xbox-360/dp/B008E6ZXRM', 'https://www.amazon.in/Bethesda-Doom-3-VR-PS4/dp/B08YZH2KKG']}\u001b[0m\n",
            "INFO - haystack.core.pipeline.pipeline -  Running component prompt_builder\n",
            "DEBUG - haystack.tracing.logging_tracer -  Operation: haystack.component.run\n",
            "DEBUG - haystack.tracing.logging_tracer -  \u001b[1;34mhaystack.component.name=prompt_builder\u001b[0m\n",
            "DEBUG - haystack.tracing.logging_tracer -  haystack.component.type=PromptBuilder\u001b[0m\n",
            "DEBUG - haystack.tracing.logging_tracer -  haystack.component.input_types={'query': 'str', 'template': 'NoneType', 'template_variables': 'NoneType', 'documents': 'list'}\u001b[0m\n",
            "DEBUG - haystack.tracing.logging_tracer -  haystack.component.input_spec={'documents': {'type': 'Any', 'senders': ['search']}, 'query': {'type': 'Any', 'senders': []}, 'template': {'type': 'typing.Optional[str]', 'senders': []}, 'template_variables': {'type': 'typing.Optional[typing.Dict[str, typing.Any]]', 'senders': []}}\u001b[0m\n",
            "DEBUG - haystack.tracing.logging_tracer -  haystack.component.output_spec={'prompt': {'type': 'str', 'receivers': ['llm']}}\u001b[0m\n",
            "DEBUG - haystack.tracing.logging_tracer -  \u001b[1;31mhaystack.component.input={'query': 'What is the price of Doom 3 on Amazon? ONLY and ONLY Respond with minimal item name and minimum price.', 'template': None, 'template_variables': None, 'documents': [Document(id=5f0e1bec097fe3e4e7c27c11084672a2adff8b22fa0e75eddac2030882484cf4, content: 'Doom 3 is a bit skimpy in the story-line department, but rich plotting and character development hav...', meta: {'title': 'Amazon.com: Doom 3 : Unknown: Video Games', 'link': 'https://www.amazon.com/Doom-3-pc/dp/B00006C2HA'}), Document(id=e1d0e65518763b185546af8bb0d049e0dc6148c169c0e17d38a6bbb63732842b, content: 'Quality Price, Reliable delivery option, and; Seller who offers good customer service ... Amazon.com...', meta: {'title': 'Amazon.com: Doom 3 BFG Edition : Video Games', 'link': 'https://www.amazon.com/Doom-3-BFG-PC/dp/B008E6ZXA4'}), Document(id=f93b2964d1928e5353e59cf811190816835c149f5f1f5821f552de558ce391f5, content: 'Sold by Chase After The Right Price and ships from Amazon Fulfillment. Xbox + Halo: Combat Evolved (...', meta: {'title': 'Amazon.com: Doom 3 : Unknown: Video Games', 'link': 'https://www.amazon.com/Doom-3-Xbox/dp/B0001KUE7S'}), Document(id=2ebd45870c164b0dc4004ec831483f1f38caf85020ef65cb81f179a1f101e7f7, content: 'ASIN (Amazon): B0001KUE7S ePID (eBay): 30893896 PriceCharting ID: 6192 Variants: ... All prices are ...', meta: {'title': 'Doom 3 Prices Xbox | Compare Loose, CIB & New Prices - PriceCharting', 'link': 'https://www.pricecharting.com/game/xbox/doom-3'}), Document(id=d090eaa9497874b15c678c7fb4853fa5cfeacb760b123e34adae7494f16bcab3, content: 'ASIN (Amazon): B000B6MLZK ePID (eBay): 211987504 ... All prices are the current market price. Doom 3...', meta: {'title': 'Doom 3: Resurrection of Evil Prices Xbox - PriceCharting', 'link': 'https://www.pricecharting.com/game/xbox/doom-3-resurrection-of-evil'}), Document(id=9508611e45f79c65988be5035de74bfe0e053f024bd80269db3eaa5e559838a5, content: '86 Amazon customer reviews ... $28.74. View Deal. Free trial. $33. View Deal. We check over 250 mill...', meta: {'title': \"'DOOM 3' after 20 years: Not the threequel we expected, but still an ...\", 'link': 'https://www.space.com/entertainment/space-games-toys/doom-3-20-years-later-not-the-threequel-we-expected-but-still-an-essential-sci-fi-shooter'}), Document(id=1fec572c482b5aeca53e4fefa36ca656ed5a690ae2c4208aebb1bfb2970bf390, content: 'It's nothing less than one of the best space horror games, DOOM 3! How to get a free Doom 3 key on A...', meta: {'title': 'FREE DOOM 3 and two more games for Amazon Prime subscribers - GG.deals', 'link': 'https://gg.deals/subscription-news/free-doom-3-and-two-other-games-for-members-of-amazon-prime/'}), Document(id=213d143ca8a9a7d0dc42954a17a70dc2b8a899752396ebf0fa6b849cb812245a, content: 'Amazon.in - Buy Doom 3 - BFG Edition (PS3) Online at low prices in India at Amazon.in. Check out Bet...', meta: {'title': 'Buy Doom 3 - BFG Edition (PS3) Online at Low Prices in India - Amazon.in', 'link': 'https://www.amazon.in/Doom-3-BFG-Edition-PS3/dp/B008E6ZXTA'}), Document(id=4ddd2bd50141255579331b8393f5ed1da2384fd14e90dd5296c4912b4e277ad9, content: 'The collection includes DOOM, DOOM 2, DOOM 3, and DOOM 3: Resurrection of Evil, as well as the 'Lost...', meta: {'title': 'Doom 3 - Xbox 360 BFG Edition - amazon.com', 'link': 'https://www.amazon.com/Doom-3-BFG-microsoft-xbox-360/dp/B008E6ZXRM'}), Document(id=34147f53e853e347d2bac1d8b2e4616b5adf4d574f289b2cf21e872b612a9bf9, content: 'Amazon.in - Buy Doom 3 VR (PS4) Online at low prices in India at Amazon.in. Check out Bethesda Video...', meta: {'title': 'Buy Doom 3 VR (PS4) Online at Low Prices in India - Amazon.in', 'link': 'https://www.amazon.in/Bethesda-Doom-3-VR-PS4/dp/B08YZH2KKG'})]}\u001b[0m\n",
            "DEBUG - haystack.tracing.logging_tracer -  haystack.component.visits=1\u001b[0m\n",
            "DEBUG - haystack.tracing.logging_tracer -  haystack.component.output={'prompt': 'Given the information below, answer the query. Only use the provided context to generate the answer and output the used document links\\n            Context:\\n            \\n                Doom 3 is a bit skimpy in the story-line department, but rich plotting and character development have never been the focus of the Doom franchise. Action is the name of the game here, and we found plenty. ... I purchased the game from Amazon dot com at a terrific price! Unfortunately, I also read quite a few reviews good and bad and in-between.\\n                URL: \\n            \\n                Quality Price, Reliable delivery option, and; Seller who offers good customer service ... Amazon.com. DOOM 3 BFG Edition is the ultimate collection of groundbreaking games that defined the first-person shooter (FPS) genre. The collection includes DOOM, DOOM 2, ...\\n                URL: \\n            \\n                Sold by Chase After The Right Price and ships from Amazon Fulfillment. Xbox + Halo: Combat Evolved (Not for Resale) $48.55 $ 48. 55. Get it as soon as Monday, Sep 30. Only 4 left in stock - order soon. ... Although Doom 3 is not perfect, the 3D graphics engine upon which it is built sets a new, ...\\n                URL: \\n            \\n                ASIN (Amazon): B0001KUE7S ePID (eBay): 30893896 PriceCharting ID: 6192 Variants: ... All prices are the current market price. Doom 3 (Xbox | Video Games) prices are based on the historic sales. The prices shown are calculated using our proprietary algorithm.\\n                URL: \\n            \\n                ASIN (Amazon): B000B6MLZK ePID (eBay): 211987504 ... All prices are the current market price. Doom 3: Resurrection of Evil (Xbox | Video Games) prices are based on the historic sales. The prices shown are calculated using our proprietary algorithm.\\n                URL: \\n            \\n                86 Amazon customer reviews ... $28.74. View Deal. Free trial. $33. View Deal. We check over 250 million products every day for the best prices. ... DOOM 3 is currently available to purchase on PC ...\\n                URL: \\n            \\n                It\\'s nothing less than one of the best space horror games, DOOM 3! How to get a free Doom 3 key on Amazon Prime? Similar to last week, the new batch of games is activated via GOG or Epic Games Store. To claim your rewards, including a free DOOM 3 key, head over to Amazon and go to the \"Weekly Game\" section. There, you will find all the freebies ...\\n                URL: \\n            \\n                Amazon.in - Buy Doom 3 - BFG Edition (PS3) Online at low prices in India at Amazon.in. Check out Bethesda Video Games reviews, ratings & shop online at best prices at Amazon.in\\n                URL: \\n            \\n                The collection includes DOOM, DOOM 2, DOOM 3, and DOOM 3: Resurrection of Evil, as well as the \\'Lost Mission.\\' All DOOM 3 content has been re-mastered for Xbox 360 for an even more terrifying FPS experience, and as the subtext to the edition\\'s name suggests, all the content included feature guns and other weapons of substantial power and size.\\n                URL: \\n            \\n                Amazon.in - Buy Doom 3 VR (PS4) Online at low prices in India at Amazon.in. Check out Bethesda Video Games reviews, ratings & shop online at best prices at Amazon.in\\n                URL: \\n            \\n\\n            Question: What is the price of Doom 3 on Amazon? ONLY and ONLY Respond with minimal item name and minimum price.\\n            Answer: '}\u001b[0m\n",
            "INFO - haystack.core.pipeline.pipeline -  Running component llm\n",
            "DEBUG - haystack.tracing.logging_tracer -  Operation: haystack.component.run\n",
            "DEBUG - haystack.tracing.logging_tracer -  \u001b[1;34mhaystack.component.name=llm\u001b[0m\n",
            "DEBUG - haystack.tracing.logging_tracer -  haystack.component.type=OpenAIGenerator\u001b[0m\n",
            "DEBUG - haystack.tracing.logging_tracer -  haystack.component.input_types={'system_prompt': 'NoneType', 'streaming_callback': 'NoneType', 'generation_kwargs': 'NoneType', 'prompt': 'str'}\u001b[0m\n",
            "DEBUG - haystack.tracing.logging_tracer -  haystack.component.input_spec={'prompt': {'type': 'str', 'senders': ['prompt_builder']}, 'system_prompt': {'type': 'typing.Optional[str]', 'senders': []}, 'streaming_callback': {'type': 'typing.Optional[typing.Callable[[haystack.dataclasses.streaming_chunk.StreamingChunk], NoneType]]', 'senders': []}, 'generation_kwargs': {'type': 'typing.Optional[typing.Dict[str, typing.Any]]', 'senders': []}}\u001b[0m\n",
            "DEBUG - haystack.tracing.logging_tracer -  haystack.component.output_spec={'replies': {'type': 'typing.List[str]', 'receivers': []}, 'meta': {'type': 'typing.List[typing.Dict[str, typing.Any]]', 'receivers': []}}\u001b[0m\n",
            "DEBUG - haystack.tracing.logging_tracer -  \u001b[1;31mhaystack.component.input={'system_prompt': None, 'streaming_callback': None, 'generation_kwargs': None, 'prompt': 'Given the information below, answer the query. Only use the provided context to generate the answer and output the used document links\\n            Context:\\n            \\n                Doom 3 is a bit skimpy in the story-line department, but rich plotting and character development have never been the focus of the Doom franchise. Action is the name of the game here, and we found plenty. ... I purchased the game from Amazon dot com at a terrific price! Unfortunately, I also read quite a few reviews good and bad and in-between.\\n                URL: \\n            \\n                Quality Price, Reliable delivery option, and; Seller who offers good customer service ... Amazon.com. DOOM 3 BFG Edition is the ultimate collection of groundbreaking games that defined the first-person shooter (FPS) genre. The collection includes DOOM, DOOM 2, ...\\n                URL: \\n            \\n                Sold by Chase After The Right Price and ships from Amazon Fulfillment. Xbox + Halo: Combat Evolved (Not for Resale) $48.55 $ 48. 55. Get it as soon as Monday, Sep 30. Only 4 left in stock - order soon. ... Although Doom 3 is not perfect, the 3D graphics engine upon which it is built sets a new, ...\\n                URL: \\n            \\n                ASIN (Amazon): B0001KUE7S ePID (eBay): 30893896 PriceCharting ID: 6192 Variants: ... All prices are the current market price. Doom 3 (Xbox | Video Games) prices are based on the historic sales. The prices shown are calculated using our proprietary algorithm.\\n                URL: \\n            \\n                ASIN (Amazon): B000B6MLZK ePID (eBay): 211987504 ... All prices are the current market price. Doom 3: Resurrection of Evil (Xbox | Video Games) prices are based on the historic sales. The prices shown are calculated using our proprietary algorithm.\\n                URL: \\n            \\n                86 Amazon customer reviews ... $28.74. View Deal. Free trial. $33. View Deal. We check over 250 million products every day for the best prices. ... DOOM 3 is currently available to purchase on PC ...\\n                URL: \\n            \\n                It\\'s nothing less than one of the best space horror games, DOOM 3! How to get a free Doom 3 key on Amazon Prime? Similar to last week, the new batch of games is activated via GOG or Epic Games Store. To claim your rewards, including a free DOOM 3 key, head over to Amazon and go to the \"Weekly Game\" section. There, you will find all the freebies ...\\n                URL: \\n            \\n                Amazon.in - Buy Doom 3 - BFG Edition (PS3) Online at low prices in India at Amazon.in. Check out Bethesda Video Games reviews, ratings & shop online at best prices at Amazon.in\\n                URL: \\n            \\n                The collection includes DOOM, DOOM 2, DOOM 3, and DOOM 3: Resurrection of Evil, as well as the \\'Lost Mission.\\' All DOOM 3 content has been re-mastered for Xbox 360 for an even more terrifying FPS experience, and as the subtext to the edition\\'s name suggests, all the content included feature guns and other weapons of substantial power and size.\\n                URL: \\n            \\n                Amazon.in - Buy Doom 3 VR (PS4) Online at low prices in India at Amazon.in. Check out Bethesda Video Games reviews, ratings & shop online at best prices at Amazon.in\\n                URL: \\n            \\n\\n            Question: What is the price of Doom 3 on Amazon? ONLY and ONLY Respond with minimal item name and minimum price.\\n            Answer: '}\u001b[0m\n",
            "DEBUG - haystack.tracing.logging_tracer -  haystack.component.visits=1\u001b[0m\n",
            "DEBUG - haystack.tracing.logging_tracer -  haystack.component.output={'replies': ['Doom 3 - $28.74\\n\\nUsed Document Links:\\n- URL: \\n- URL: \\n- URL: \\n- URL: \\n- URL: '], 'meta': [{'model': 'gpt-4o-mini-2024-07-18', 'index': 0, 'finish_reason': 'stop', 'usage': {'completion_tokens': 35, 'prompt_tokens': 775, 'total_tokens': 810, 'completion_tokens_details': CompletionTokensDetails(accepted_prediction_tokens=0, audio_tokens=0, reasoning_tokens=0, rejected_prediction_tokens=0), 'prompt_tokens_details': PromptTokensDetails(audio_tokens=0, cached_tokens=0)}}]}\u001b[0m\n",
            "DEBUG - haystack.tracing.logging_tracer -  Operation: haystack.pipeline.run\n",
            "DEBUG - haystack.tracing.logging_tracer -  haystack.pipeline.input_data={'search': {'query': 'price of Doom 3 on Amazon'}, 'prompt_builder': {'query': 'What is the price of Doom 3 on Amazon? ONLY and ONLY Respond with minimal item name and minimum price.', 'template': None, 'template_variables': None}}\u001b[0m\n",
            "DEBUG - haystack.tracing.logging_tracer -  haystack.pipeline.output_data={'search': {'links': ['https://www.amazon.com/Doom-3-pc/dp/B00006C2HA', 'https://www.amazon.com/Doom-3-BFG-PC/dp/B008E6ZXA4', 'https://www.amazon.com/Doom-3-Xbox/dp/B0001KUE7S', 'https://www.pricecharting.com/game/xbox/doom-3', 'https://www.pricecharting.com/game/xbox/doom-3-resurrection-of-evil', 'https://www.space.com/entertainment/space-games-toys/doom-3-20-years-later-not-the-threequel-we-expected-but-still-an-essential-sci-fi-shooter', 'https://gg.deals/subscription-news/free-doom-3-and-two-other-games-for-members-of-amazon-prime/', 'https://www.amazon.in/Doom-3-BFG-Edition-PS3/dp/B008E6ZXTA', 'https://www.amazon.com/Doom-3-BFG-microsoft-xbox-360/dp/B008E6ZXRM', 'https://www.amazon.in/Bethesda-Doom-3-VR-PS4/dp/B08YZH2KKG']}, 'llm': {'replies': ['Doom 3 - $28.74\\n\\nUsed Document Links:\\n- URL: \\n- URL: \\n- URL: \\n- URL: \\n- URL: '], 'meta': [{'model': 'gpt-4o-mini-2024-07-18', 'index': 0, 'finish_reason': 'stop', 'usage': {'completion_tokens': 35, 'prompt_tokens': 775, 'total_tokens': 810, 'completion_tokens_details': CompletionTokensDetails(accepted_prediction_tokens=0, audio_tokens=0, reasoning_tokens=0, rejected_prediction_tokens=0), 'prompt_tokens_details': PromptTokensDetails(audio_tokens=0, cached_tokens=0)}}]}}\u001b[0m\n",
            "DEBUG - haystack.tracing.logging_tracer -  haystack.pipeline.metadata={}\u001b[0m\n",
            "DEBUG - haystack.tracing.logging_tracer -  haystack.pipeline.max_runs_per_component=100\u001b[0m\n"
          ]
        },
        {
          "name": "stdout",
          "output_type": "stream",
          "text": [
            "⌛ iterating...\n",
            "⌛ iterating...\n",
            "⌛ iterating...\n",
            "🤖: Hooray! 🎉 We've successfully bought **50 copies of Doom 3** for $28.74 each, and they are now in our inventory! Plus, I've taken **40 copies** just for you!\n",
            "\n",
            "If you have more requests to keep the holiday cheer going, feel free to ask! 🎄✨\n",
            "⌛ iterating...\n"
          ]
        },
        {
          "name": "stderr",
          "output_type": "stream",
          "text": [
            "INFO - haystack.core.pipeline.pipeline -  Running component search\n",
            "DEBUG - haystack.tracing.logging_tracer -  Operation: haystack.component.run\n",
            "DEBUG - haystack.tracing.logging_tracer -  \u001b[1;34mhaystack.component.name=search\u001b[0m\n",
            "DEBUG - haystack.tracing.logging_tracer -  haystack.component.type=DuckduckgoApiWebSearch\u001b[0m\n",
            "DEBUG - haystack.tracing.logging_tracer -  haystack.component.input_types={'query': 'str'}\u001b[0m\n",
            "DEBUG - haystack.tracing.logging_tracer -  haystack.component.input_spec={'query': {'type': 'str', 'senders': []}}\u001b[0m\n",
            "DEBUG - haystack.tracing.logging_tracer -  haystack.component.output_spec={'documents': {'type': 'typing.List[haystack.dataclasses.document.Document]', 'receivers': ['prompt_builder']}, 'links': {'type': 'typing.List[str]', 'receivers': []}}\u001b[0m\n",
            "DEBUG - haystack.tracing.logging_tracer -  \u001b[1;31mhaystack.component.input={'query': 'price of Bose noise cancelling headphones on Amazon'}\u001b[0m\n",
            "DEBUG - haystack.tracing.logging_tracer -  haystack.component.visits=1\u001b[0m\n",
            "DEBUG - haystack.tracing.logging_tracer -  haystack.component.output={'documents': [Document(id=2431279eeae7b48b1317ef5ddcef43061ceec10f7f287d417d0a763e09f12e64, content: 'Amazon.com: Bose Noise Cancelling Headphones. ... Over Ear Noise Cancelling Headphones with Mic, Up ...', meta: {'title': 'Amazon.com: Bose Noise Cancelling Headphones', 'link': 'https://www.amazon.com/Bose-Noise-Cancelling-Headphones/s?k=Bose+Noise+Cancelling+Headphones'}), Document(id=2e49b2d6d0fba0212a59350a85a2b4500848b756d8a8a9f69db261fe3d58a24d, content: 'Bose QuietComfort Ultra Bluetooth Headphones, Wireless Headphones with Spatial Audio, Over Ear Noise...', meta: {'title': 'Amazon.com: Bose QuietComfort Ultra Bluetooth Headphones, Wireless ...', 'link': 'https://www.amazon.com/Bose-QuietComfort-Wireless-Cancelling-Headphones/dp/B0CCZ1L489'}), Document(id=09e58a042d371e3565533c566449756be962690870584dea792e4b4187d3983f, content: 'Headphones 700, Noise Cancelling Bluetooth Over-Ear Wireless Headphones with Built-In Microphone for...', meta: {'title': 'Amazon.com: Bose Noise Cancelling', 'link': 'https://www.amazon.com/bose-noise-cancelling/s?k=bose+noise+cancelling'}), Document(id=f020618147b75202114bf057951a3042a2da8564743f27102c5104ada6337626, content: 'Bose QuietComfort Ultra headphones: was $429 now $329 at Amazon The 4.5-star QuietComfort Ultra head...', meta: {'title': 'Our favorite noise canceling headphones just hit lowest price ever in ...', 'link': 'https://www.tomsguide.com/audio/our-favorite-noise-canceling-headphones-hit-a-new-lowest-price-in-the-christmas-sales'}), Document(id=2fcf767bb1a67f4508313f1fffee866b78c3f0a9e014b1519f9e8966d10a654c, content: 'Bose QuietComfort Bluetooth Headphones, Wireless Headphones, Over Ear Noise Cancelling Headphones wi...', meta: {'title': 'Amazon.in: Bose - Audio Headphones / Headphones, Earbuds & Accessories ...', 'link': 'https://www.amazon.in/Audio-Headphones-Bose-Earbuds-Accessories/s?rh=n:1388921031,p_89:Bose'}), Document(id=3c820477ad16999a726cfbe95d3708b7ff8435630740c7d8dc9e9243303fb3c0, content: 'Amazon.ca: bose noise cancelling headphones. ... Price and other details may vary based on product s...', meta: {'title': 'Amazon.ca: Bose Noise Cancelling Headphones', 'link': 'https://www.amazon.ca/bose-noise-cancelling-headphones/s?k=bose+noise+cancelling+headphones'}), Document(id=e65229aa5bd3d98680205c3443ae1fd4b06bd49dccb509a3da827c207ba4c1c2, content: 'CRYSTAL CLEAR CALLS: Microphones focus on the sound of your voice and the noise cancelling headphone...', meta: {'title': 'Bose QuietComfort Ultra Wireless Noise Cancelling Over Ear Headphones ...', 'link': 'https://www.amazon.in/Bose-QuietComfort-Wireless-Cancelling-Headphones/dp/B0CCZ1L489'}), Document(id=ebd244cb8feb94e39a79277dd3a4cd4f6031868a4b4c0ff1f455f795c7157ff4, content: 'Bose New QuietComfort Ultra Wireless Noise Cancelling Headphones with Spatial Audio, Over-The-Ear He...', meta: {'title': 'Bose Noise Cancelling 700 Bluetooth Wireless Over Ear Headphones with ...', 'link': 'https://www.amazon.in/Bose-Noise-Cancelling-Headphones-Black/dp/B07Q9MJKBV'}), Document(id=2b8d7d648ea8907a35063bdd7c6f2e42d1d071292c039a97a97e679fd9302514, content: 'Right now the online retailer is selling Bose's QuietComfort Bluetooth Headphones for only $199, a 4...', meta: {'title': \"Bose's Iconic Bluetooth Headphones Are $150 Off on Amazon - Men's Journal\", 'link': 'https://www.mensjournal.com/gear/bose-quietcomfort-bluetooth-headphones-amazon-sale'}), Document(id=6b1189782aed974ef1b2410b9e7cb9083ac6a7993332b671e42d1e5d2d4a7f87, content: 'Bose QuietComfort Wireless Noise Cancelling Headphones, Bluetooth Over Ear Headphones with Up to 24 ...', meta: {'title': 'Bose QuietComfort Wireless Noise Cancelling Headphones ... - Amazon.ca', 'link': 'https://www.amazon.ca/QuietComfort-Wireless-Cancelling-Headphones-Bluetooth/dp/B0CCZ26B5V'})], 'links': ['https://www.amazon.com/Bose-Noise-Cancelling-Headphones/s?k=Bose+Noise+Cancelling+Headphones', 'https://www.amazon.com/Bose-QuietComfort-Wireless-Cancelling-Headphones/dp/B0CCZ1L489', 'https://www.amazon.com/bose-noise-cancelling/s?k=bose+noise+cancelling', 'https://www.tomsguide.com/audio/our-favorite-noise-canceling-headphones-hit-a-new-lowest-price-in-the-christmas-sales', 'https://www.amazon.in/Audio-Headphones-Bose-Earbuds-Accessories/s?rh=n:1388921031,p_89:Bose', 'https://www.amazon.ca/bose-noise-cancelling-headphones/s?k=bose+noise+cancelling+headphones', 'https://www.amazon.in/Bose-QuietComfort-Wireless-Cancelling-Headphones/dp/B0CCZ1L489', 'https://www.amazon.in/Bose-Noise-Cancelling-Headphones-Black/dp/B07Q9MJKBV', 'https://www.mensjournal.com/gear/bose-quietcomfort-bluetooth-headphones-amazon-sale', 'https://www.amazon.ca/QuietComfort-Wireless-Cancelling-Headphones-Bluetooth/dp/B0CCZ26B5V']}\u001b[0m\n",
            "INFO - haystack.core.pipeline.pipeline -  Running component prompt_builder\n",
            "DEBUG - haystack.tracing.logging_tracer -  Operation: haystack.component.run\n",
            "DEBUG - haystack.tracing.logging_tracer -  \u001b[1;34mhaystack.component.name=prompt_builder\u001b[0m\n",
            "DEBUG - haystack.tracing.logging_tracer -  haystack.component.type=PromptBuilder\u001b[0m\n",
            "DEBUG - haystack.tracing.logging_tracer -  haystack.component.input_types={'query': 'str', 'template': 'NoneType', 'template_variables': 'NoneType', 'documents': 'list'}\u001b[0m\n",
            "DEBUG - haystack.tracing.logging_tracer -  haystack.component.input_spec={'documents': {'type': 'Any', 'senders': ['search']}, 'query': {'type': 'Any', 'senders': []}, 'template': {'type': 'typing.Optional[str]', 'senders': []}, 'template_variables': {'type': 'typing.Optional[typing.Dict[str, typing.Any]]', 'senders': []}}\u001b[0m\n",
            "DEBUG - haystack.tracing.logging_tracer -  haystack.component.output_spec={'prompt': {'type': 'str', 'receivers': ['llm']}}\u001b[0m\n",
            "DEBUG - haystack.tracing.logging_tracer -  \u001b[1;31mhaystack.component.input={'query': 'What is the price of Bose noise cancelling headphones on Amazon? ONLY and ONLY Respond with minimal item name and minimum price.', 'template': None, 'template_variables': None, 'documents': [Document(id=2431279eeae7b48b1317ef5ddcef43061ceec10f7f287d417d0a763e09f12e64, content: 'Amazon.com: Bose Noise Cancelling Headphones. ... Over Ear Noise Cancelling Headphones with Mic, Up ...', meta: {'title': 'Amazon.com: Bose Noise Cancelling Headphones', 'link': 'https://www.amazon.com/Bose-Noise-Cancelling-Headphones/s?k=Bose+Noise+Cancelling+Headphones'}), Document(id=2e49b2d6d0fba0212a59350a85a2b4500848b756d8a8a9f69db261fe3d58a24d, content: 'Bose QuietComfort Ultra Bluetooth Headphones, Wireless Headphones with Spatial Audio, Over Ear Noise...', meta: {'title': 'Amazon.com: Bose QuietComfort Ultra Bluetooth Headphones, Wireless ...', 'link': 'https://www.amazon.com/Bose-QuietComfort-Wireless-Cancelling-Headphones/dp/B0CCZ1L489'}), Document(id=09e58a042d371e3565533c566449756be962690870584dea792e4b4187d3983f, content: 'Headphones 700, Noise Cancelling Bluetooth Over-Ear Wireless Headphones with Built-In Microphone for...', meta: {'title': 'Amazon.com: Bose Noise Cancelling', 'link': 'https://www.amazon.com/bose-noise-cancelling/s?k=bose+noise+cancelling'}), Document(id=f020618147b75202114bf057951a3042a2da8564743f27102c5104ada6337626, content: 'Bose QuietComfort Ultra headphones: was $429 now $329 at Amazon The 4.5-star QuietComfort Ultra head...', meta: {'title': 'Our favorite noise canceling headphones just hit lowest price ever in ...', 'link': 'https://www.tomsguide.com/audio/our-favorite-noise-canceling-headphones-hit-a-new-lowest-price-in-the-christmas-sales'}), Document(id=2fcf767bb1a67f4508313f1fffee866b78c3f0a9e014b1519f9e8966d10a654c, content: 'Bose QuietComfort Bluetooth Headphones, Wireless Headphones, Over Ear Noise Cancelling Headphones wi...', meta: {'title': 'Amazon.in: Bose - Audio Headphones / Headphones, Earbuds & Accessories ...', 'link': 'https://www.amazon.in/Audio-Headphones-Bose-Earbuds-Accessories/s?rh=n:1388921031,p_89:Bose'}), Document(id=3c820477ad16999a726cfbe95d3708b7ff8435630740c7d8dc9e9243303fb3c0, content: 'Amazon.ca: bose noise cancelling headphones. ... Price and other details may vary based on product s...', meta: {'title': 'Amazon.ca: Bose Noise Cancelling Headphones', 'link': 'https://www.amazon.ca/bose-noise-cancelling-headphones/s?k=bose+noise+cancelling+headphones'}), Document(id=e65229aa5bd3d98680205c3443ae1fd4b06bd49dccb509a3da827c207ba4c1c2, content: 'CRYSTAL CLEAR CALLS: Microphones focus on the sound of your voice and the noise cancelling headphone...', meta: {'title': 'Bose QuietComfort Ultra Wireless Noise Cancelling Over Ear Headphones ...', 'link': 'https://www.amazon.in/Bose-QuietComfort-Wireless-Cancelling-Headphones/dp/B0CCZ1L489'}), Document(id=ebd244cb8feb94e39a79277dd3a4cd4f6031868a4b4c0ff1f455f795c7157ff4, content: 'Bose New QuietComfort Ultra Wireless Noise Cancelling Headphones with Spatial Audio, Over-The-Ear He...', meta: {'title': 'Bose Noise Cancelling 700 Bluetooth Wireless Over Ear Headphones with ...', 'link': 'https://www.amazon.in/Bose-Noise-Cancelling-Headphones-Black/dp/B07Q9MJKBV'}), Document(id=2b8d7d648ea8907a35063bdd7c6f2e42d1d071292c039a97a97e679fd9302514, content: 'Right now the online retailer is selling Bose's QuietComfort Bluetooth Headphones for only $199, a 4...', meta: {'title': \"Bose's Iconic Bluetooth Headphones Are $150 Off on Amazon - Men's Journal\", 'link': 'https://www.mensjournal.com/gear/bose-quietcomfort-bluetooth-headphones-amazon-sale'}), Document(id=6b1189782aed974ef1b2410b9e7cb9083ac6a7993332b671e42d1e5d2d4a7f87, content: 'Bose QuietComfort Wireless Noise Cancelling Headphones, Bluetooth Over Ear Headphones with Up to 24 ...', meta: {'title': 'Bose QuietComfort Wireless Noise Cancelling Headphones ... - Amazon.ca', 'link': 'https://www.amazon.ca/QuietComfort-Wireless-Cancelling-Headphones-Bluetooth/dp/B0CCZ26B5V'})]}\u001b[0m\n",
            "DEBUG - haystack.tracing.logging_tracer -  haystack.component.visits=1\u001b[0m\n",
            "DEBUG - haystack.tracing.logging_tracer -  haystack.component.output={'prompt': \"Given the information below, answer the query. Only use the provided context to generate the answer and output the used document links\\n            Context:\\n            \\n                Amazon.com: Bose Noise Cancelling Headphones. ... Over Ear Noise Cancelling Headphones with Mic, Up To 24 Hours of Battery Life, Black. 4.5 out of 5 stars. 7,313. 10K+ bought in past month. $199.00 $ 199. 00. ... Click to see price. FREE delivery Fri, Dec 27. Or fastest delivery Tomorrow, Dec 22.\\n                URL: \\n            \\n                Bose QuietComfort Ultra Bluetooth Headphones, Wireless Headphones with Spatial Audio, Over Ear Noise Cancelling Headphones with Mic, Up to 24 Hours of Battery Life, Black Visit the Bose Store 4.3 4.3 out of 5 stars 4,705 ratings\\n                URL: \\n            \\n                Headphones 700, Noise Cancelling Bluetooth Over-Ear Wireless Headphones with Built-In Microphone for Clear Calls and Alexa Voice Control, Black 4.5 out of 5 stars 35,829\\n                URL: \\n            \\n                Bose QuietComfort Ultra headphones: was $429 now $329 at Amazon The 4.5-star QuietComfort Ultra headphones are the best noise-canceling headphones that you can buy right now.\\n                URL: \\n            \\n                Bose QuietComfort Bluetooth Headphones, Wireless Headphones, Over Ear Noise Cancelling Headphones with Mic, Up to 24 Hours of Battery Life, Blue Dusk - Limited Edition Color 4.7 out of 5 stars 168 ₹27,900 ₹ 27,900\\n                URL: \\n            \\n                Amazon.ca: bose noise cancelling headphones. ... Price and other details may vary based on product size and colour. BOSE. QuietComfort Wireless Noise Cancelling Headphones, Bluetooth Over Ear Headphones with Up to 24 Hours of Battery Life, Black. 4.5 out of 5 stars 2,699.\\n                URL: \\n            \\n                CRYSTAL CLEAR CALLS: Microphones focus on the sound of your voice and the noise cancelling headphones with mic filter out background noise for the clearest phone calls of any Bose headphones 24-HOUR BATTERY LIFE: Listen longer with up to 24 hours of battery life (up to 18 hours with Immersive Audio), a 15-minute charge offers up to 2.5 hours of ...\\n                URL: \\n            \\n                Bose New QuietComfort Ultra Wireless Noise Cancelling Headphones with Spatial Audio, Over-The-Ear Headphones with Mic, Up to 24 Hours of Battery Life, Black 4.3 out of 5 stars 4,543 ₹26,999.00 ₹ 26,999 . 00\\n                URL: \\n            \\n                Right now the online retailer is selling Bose's QuietComfort Bluetooth Headphones for only $199, a 43% discount from their original price of $349. These best-selling headphones have almost 6,000 ...\\n                URL: \\n            \\n                Bose QuietComfort Wireless Noise Cancelling Headphones, Bluetooth Over Ear Headphones with Up to 24 Hours of Battery Life, Black : Amazon.ca: Electronics ... If we can't repair it, we'll send you an Amazon e-gift card for the purchase price of your covered product or replace it. Terms & Details: Plan contract will be emailed from Asurion within ...\\n                URL: \\n            \\n\\n            Question: What is the price of Bose noise cancelling headphones on Amazon? ONLY and ONLY Respond with minimal item name and minimum price.\\n            Answer: \"}\u001b[0m\n",
            "INFO - haystack.core.pipeline.pipeline -  Running component llm\n",
            "DEBUG - haystack.tracing.logging_tracer -  Operation: haystack.component.run\n",
            "DEBUG - haystack.tracing.logging_tracer -  \u001b[1;34mhaystack.component.name=llm\u001b[0m\n",
            "DEBUG - haystack.tracing.logging_tracer -  haystack.component.type=OpenAIGenerator\u001b[0m\n",
            "DEBUG - haystack.tracing.logging_tracer -  haystack.component.input_types={'system_prompt': 'NoneType', 'streaming_callback': 'NoneType', 'generation_kwargs': 'NoneType', 'prompt': 'str'}\u001b[0m\n",
            "DEBUG - haystack.tracing.logging_tracer -  haystack.component.input_spec={'prompt': {'type': 'str', 'senders': ['prompt_builder']}, 'system_prompt': {'type': 'typing.Optional[str]', 'senders': []}, 'streaming_callback': {'type': 'typing.Optional[typing.Callable[[haystack.dataclasses.streaming_chunk.StreamingChunk], NoneType]]', 'senders': []}, 'generation_kwargs': {'type': 'typing.Optional[typing.Dict[str, typing.Any]]', 'senders': []}}\u001b[0m\n",
            "DEBUG - haystack.tracing.logging_tracer -  haystack.component.output_spec={'replies': {'type': 'typing.List[str]', 'receivers': []}, 'meta': {'type': 'typing.List[typing.Dict[str, typing.Any]]', 'receivers': []}}\u001b[0m\n",
            "DEBUG - haystack.tracing.logging_tracer -  \u001b[1;31mhaystack.component.input={'system_prompt': None, 'streaming_callback': None, 'generation_kwargs': None, 'prompt': \"Given the information below, answer the query. Only use the provided context to generate the answer and output the used document links\\n            Context:\\n            \\n                Amazon.com: Bose Noise Cancelling Headphones. ... Over Ear Noise Cancelling Headphones with Mic, Up To 24 Hours of Battery Life, Black. 4.5 out of 5 stars. 7,313. 10K+ bought in past month. $199.00 $ 199. 00. ... Click to see price. FREE delivery Fri, Dec 27. Or fastest delivery Tomorrow, Dec 22.\\n                URL: \\n            \\n                Bose QuietComfort Ultra Bluetooth Headphones, Wireless Headphones with Spatial Audio, Over Ear Noise Cancelling Headphones with Mic, Up to 24 Hours of Battery Life, Black Visit the Bose Store 4.3 4.3 out of 5 stars 4,705 ratings\\n                URL: \\n            \\n                Headphones 700, Noise Cancelling Bluetooth Over-Ear Wireless Headphones with Built-In Microphone for Clear Calls and Alexa Voice Control, Black 4.5 out of 5 stars 35,829\\n                URL: \\n            \\n                Bose QuietComfort Ultra headphones: was $429 now $329 at Amazon The 4.5-star QuietComfort Ultra headphones are the best noise-canceling headphones that you can buy right now.\\n                URL: \\n            \\n                Bose QuietComfort Bluetooth Headphones, Wireless Headphones, Over Ear Noise Cancelling Headphones with Mic, Up to 24 Hours of Battery Life, Blue Dusk - Limited Edition Color 4.7 out of 5 stars 168 ₹27,900 ₹ 27,900\\n                URL: \\n            \\n                Amazon.ca: bose noise cancelling headphones. ... Price and other details may vary based on product size and colour. BOSE. QuietComfort Wireless Noise Cancelling Headphones, Bluetooth Over Ear Headphones with Up to 24 Hours of Battery Life, Black. 4.5 out of 5 stars 2,699.\\n                URL: \\n            \\n                CRYSTAL CLEAR CALLS: Microphones focus on the sound of your voice and the noise cancelling headphones with mic filter out background noise for the clearest phone calls of any Bose headphones 24-HOUR BATTERY LIFE: Listen longer with up to 24 hours of battery life (up to 18 hours with Immersive Audio), a 15-minute charge offers up to 2.5 hours of ...\\n                URL: \\n            \\n                Bose New QuietComfort Ultra Wireless Noise Cancelling Headphones with Spatial Audio, Over-The-Ear Headphones with Mic, Up to 24 Hours of Battery Life, Black 4.3 out of 5 stars 4,543 ₹26,999.00 ₹ 26,999 . 00\\n                URL: \\n            \\n                Right now the online retailer is selling Bose's QuietComfort Bluetooth Headphones for only $199, a 43% discount from their original price of $349. These best-selling headphones have almost 6,000 ...\\n                URL: \\n            \\n                Bose QuietComfort Wireless Noise Cancelling Headphones, Bluetooth Over Ear Headphones with Up to 24 Hours of Battery Life, Black : Amazon.ca: Electronics ... If we can't repair it, we'll send you an Amazon e-gift card for the purchase price of your covered product or replace it. Terms & Details: Plan contract will be emailed from Asurion within ...\\n                URL: \\n            \\n\\n            Question: What is the price of Bose noise cancelling headphones on Amazon? ONLY and ONLY Respond with minimal item name and minimum price.\\n            Answer: \"}\u001b[0m\n",
            "DEBUG - haystack.tracing.logging_tracer -  haystack.component.visits=1\u001b[0m\n",
            "DEBUG - haystack.tracing.logging_tracer -  haystack.component.output={'replies': [\"Bose Noise Cancelling Headphones $199.00\\n\\nUsed document links:\\n1. Amazon.com: Bose Noise Cancelling Headphones. ... Over Ear Noise Cancelling Headphones with Mic, Up To 24 Hours of Battery Life, Black. 4.5 out of 5 stars. 7,313. 10K+ bought in past month. $199.00 $ 199. 00. ... Click to see price. FREE delivery Fri, Dec 27. Or fastest delivery Tomorrow, Dec 22.\\n2. Right now the online retailer is selling Bose's QuietComfort Bluetooth Headphones for only $199, a 43% discount from their original price of $349. These best-selling headphones have almost 6,000 ...\"], 'meta': [{'model': 'gpt-4o-mini-2024-07-18', 'index': 0, 'finish_reason': 'stop', 'usage': {'completion_tokens': 154, 'prompt_tokens': 741, 'total_tokens': 895, 'completion_tokens_details': CompletionTokensDetails(accepted_prediction_tokens=0, audio_tokens=0, reasoning_tokens=0, rejected_prediction_tokens=0), 'prompt_tokens_details': PromptTokensDetails(audio_tokens=0, cached_tokens=0)}}]}\u001b[0m\n",
            "DEBUG - haystack.tracing.logging_tracer -  Operation: haystack.pipeline.run\n",
            "DEBUG - haystack.tracing.logging_tracer -  haystack.pipeline.input_data={'search': {'query': 'price of Bose noise cancelling headphones on Amazon'}, 'prompt_builder': {'query': 'What is the price of Bose noise cancelling headphones on Amazon? ONLY and ONLY Respond with minimal item name and minimum price.', 'template': None, 'template_variables': None}}\u001b[0m\n",
            "DEBUG - haystack.tracing.logging_tracer -  haystack.pipeline.output_data={'search': {'links': ['https://www.amazon.com/Bose-Noise-Cancelling-Headphones/s?k=Bose+Noise+Cancelling+Headphones', 'https://www.amazon.com/Bose-QuietComfort-Wireless-Cancelling-Headphones/dp/B0CCZ1L489', 'https://www.amazon.com/bose-noise-cancelling/s?k=bose+noise+cancelling', 'https://www.tomsguide.com/audio/our-favorite-noise-canceling-headphones-hit-a-new-lowest-price-in-the-christmas-sales', 'https://www.amazon.in/Audio-Headphones-Bose-Earbuds-Accessories/s?rh=n:1388921031,p_89:Bose', 'https://www.amazon.ca/bose-noise-cancelling-headphones/s?k=bose+noise+cancelling+headphones', 'https://www.amazon.in/Bose-QuietComfort-Wireless-Cancelling-Headphones/dp/B0CCZ1L489', 'https://www.amazon.in/Bose-Noise-Cancelling-Headphones-Black/dp/B07Q9MJKBV', 'https://www.mensjournal.com/gear/bose-quietcomfort-bluetooth-headphones-amazon-sale', 'https://www.amazon.ca/QuietComfort-Wireless-Cancelling-Headphones-Bluetooth/dp/B0CCZ26B5V']}, 'llm': {'replies': [\"Bose Noise Cancelling Headphones $199.00\\n\\nUsed document links:\\n1. Amazon.com: Bose Noise Cancelling Headphones. ... Over Ear Noise Cancelling Headphones with Mic, Up To 24 Hours of Battery Life, Black. 4.5 out of 5 stars. 7,313. 10K+ bought in past month. $199.00 $ 199. 00. ... Click to see price. FREE delivery Fri, Dec 27. Or fastest delivery Tomorrow, Dec 22.\\n2. Right now the online retailer is selling Bose's QuietComfort Bluetooth Headphones for only $199, a 43% discount from their original price of $349. These best-selling headphones have almost 6,000 ...\"], 'meta': [{'model': 'gpt-4o-mini-2024-07-18', 'index': 0, 'finish_reason': 'stop', 'usage': {'completion_tokens': 154, 'prompt_tokens': 741, 'total_tokens': 895, 'completion_tokens_details': CompletionTokensDetails(accepted_prediction_tokens=0, audio_tokens=0, reasoning_tokens=0, rejected_prediction_tokens=0), 'prompt_tokens_details': PromptTokensDetails(audio_tokens=0, cached_tokens=0)}}]}}\u001b[0m\n",
            "DEBUG - haystack.tracing.logging_tracer -  haystack.pipeline.metadata={}\u001b[0m\n",
            "DEBUG - haystack.tracing.logging_tracer -  haystack.pipeline.max_runs_per_component=100\u001b[0m\n"
          ]
        },
        {
          "name": "stdout",
          "output_type": "stream",
          "text": [
            "⌛ iterating...\n",
            "🤖: Jingle bells, jingle bells! 🎧 The price for the **Bose Noise Cancelling Headphones** is **$199.00**! \n",
            "\n",
            "If you’d like to add some of these delightful headphones to our inventory or need anything else to jingle your holiday spirit, just let me know! 🎄✨\n",
            "⌛ iterating...\n",
            "⌛ iterating...\n",
            "🤖: Hooray for handmade wonders! 🎉 I've added **27 Wooden Trains**, crafted by our magical elves, to the inventory!\n",
            "\n",
            "If there's anything else you'd like to spread the Christmas cheer or any other requests, just let me know! 🎄✨\n"
          ]
        }
      ],
      "source": [
        "from haystack_experimental.components.generators.chat import OpenAIChatGenerator\n",
        "from haystack_experimental.components.tools.tool_invoker import ToolInvoker\n",
        "from haystack_experimental.dataclasses import ChatMessage\n",
        "\n",
        "tools = [\n",
        "    lookup_item_in_inventory_tool,\n",
        "    add_item_to_inventory_tool,\n",
        "    inventory_summary_tool,\n",
        "    take_from_inventory_tool,\n",
        "    get_price_tool,\n",
        "    buy_from_amazon_tool,\n",
        "]\n",
        "\n",
        "chat_generator = OpenAIChatGenerator(tools=tools)\n",
        "\n",
        "tool_invoker = ToolInvoker(tools=tools)\n",
        "messages = [\n",
        "    ChatMessage.from_system(\n",
        "        \"\"\"You manage Santa Claus backoffice. Always talk with a XMAS tone and references. You are expected to talk with Santas elves.\n",
        "            Prepare a tool call if needed, otherwise use your knowledge to respond to the user.\n",
        "            If the invocation of a tool requires the result of another tool, prepare only one call at a time.\n",
        "\n",
        "            Each time you receive the result of a tool call, ask yourself: \"Am I done with the task?\".\n",
        "            If not and you need to invoke another tool, prepare the next tool call.\n",
        "            If you are done, respond with just the final result.\"\"\"\n",
        "    )\n",
        "]\n",
        "\n",
        "while True:\n",
        "    user_input = input(\"\\n\\nwaiting for input (type 'exit' or 'quit' to stop)\\n🧝: \")\n",
        "    if user_input.lower() == \"exit\" or user_input.lower() == \"quit\":\n",
        "        break\n",
        "    messages.append(ChatMessage.from_user(user_input))\n",
        "\n",
        "    while True:\n",
        "        print(\"⌛ iterating...\")\n",
        "\n",
        "        replies = chat_generator.run(messages=messages)[\"replies\"]\n",
        "        messages.extend(replies)\n",
        "\n",
        "        # Check for tool calls and handle them\n",
        "        if not replies[0].tool_calls:\n",
        "            break\n",
        "        tool_calls = replies[0].tool_calls\n",
        "\n",
        "        tool_messages = tool_invoker.run(messages=replies)[\"tool_messages\"]\n",
        "        messages.extend(tool_messages)\n",
        "\n",
        "    # Print the final AI response after all tool calls are resolved\n",
        "    print(f\"🤖: {messages[-1].text}\")"
      ]
    },
    {
      "cell_type": "code",
      "execution_count": null,
      "metadata": {},
      "outputs": [],
      "source": []
    }
  ],
  "metadata": {
    "colab": {
      "provenance": []
    },
    "kernelspec": {
      "display_name": ".venv",
      "language": "python",
      "name": "python3"
    },
    "language_info": {
      "codemirror_mode": {
        "name": "ipython",
        "version": 3
      },
      "file_extension": ".py",
      "mimetype": "text/x-python",
      "name": "python",
      "nbconvert_exporter": "python",
      "pygments_lexer": "ipython3",
      "version": "3.12.3"
    }
  },
  "nbformat": 4,
  "nbformat_minor": 0
}
