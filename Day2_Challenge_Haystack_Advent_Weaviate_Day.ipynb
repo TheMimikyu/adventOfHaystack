{
  "cells": [
    {
      "cell_type": "markdown",
      "metadata": {
        "id": "lL7Y3zl5NYAy"
      },
      "source": [
        "# Advent of Haystack: Day 2\n",
        "\n",
        "_Make a copy of this Colab to start_\n",
        "\n",
        "In this challenge, your mission is to help a couple of fictional elves in the film \"A Very Weaviate Christmas\".\n",
        "1. Find out what's happening in the film \"A Very Weaviate Christmas\"\n",
        "2. This will lead you to a clue that will let you discover which Weaviate Collection to peak into.\n",
        "3. While submitting the challenge, tell us what you find there!\n",
        "\n",
        "\n",
        "### Components to use:\n",
        "1. [`OpenAITextEmbedder`](https://docs.haystack.deepset.ai/docs/openaitextembedder)\n",
        "2. [`OpenAIGenerator`](https://docs.haystack.deepset.ai/docs/openaigenerator)\n",
        "3. [`PromptBuilder`](https://docs.haystack.deepset.ai/docs/promptbuilder)\n",
        "4. [`WeaviateDocumentStore`](https://docs.haystack.deepset.ai/docs/weaviatedocumentstore)\n",
        "5. [`WeaviateEmbeddingRetriever`](https://docs.haystack.deepset.ai/reference/integrations-weaviate#weaviateembeddingretriever)\n",
        "\n",
        "\n",
        "🎄 **Your task is to complete steps 3 and 4**. But make sure you run the code cells before. You should know what each prior step is doing."
      ]
    },
    {
      "cell_type": "markdown",
      "metadata": {
        "id": "VVczHaPYOGxT"
      },
      "source": [
        "## 1) Setup and Installation"
      ]
    },
    {
      "cell_type": "code",
      "execution_count": 1,
      "metadata": {
        "id": "hdiFsnQDWzP0"
      },
      "outputs": [
        {
          "name": "stdout",
          "output_type": "stream",
          "text": [
            "\u001b[2K\u001b[2mResolved \u001b[1m48 packages\u001b[0m \u001b[2min 1.39s\u001b[0m\u001b[0m                                        \u001b[0m\n",
            "\u001b[2K\u001b[37m⠙\u001b[0m \u001b[2mPreparing packages...\u001b[0m (0/9)                                                   \n",
            "\u001b[2K\u001b[1A\u001b[37m⠙\u001b[0m \u001b[2mPreparing packages...\u001b[0m (0/9)----\u001b[0m\u001b[0m     0 B/312.17 KiB                    \u001b[1A\n",
            "\u001b[2K\u001b[1A\u001b[37m⠙\u001b[0m \u001b[2mPreparing packages...\u001b[0m (0/9)----\u001b[0m\u001b[0m 16.00 KiB/312.17 KiB                  \u001b[1A\n",
            "\u001b[2K\u001b[1A\u001b[37m⠙\u001b[0m \u001b[2mPreparing packages...\u001b[0m (0/9)----\u001b[0m\u001b[0m 32.00 KiB/312.17 KiB                  \u001b[1A\n",
            "\u001b[2K\u001b[1A\u001b[37m⠙\u001b[0m \u001b[2mPreparing packages...\u001b[0m (0/9)----\u001b[0m\u001b[0m 48.00 KiB/312.17 KiB                  \u001b[1A\n",
            "\u001b[2K\u001b[1A\u001b[37m⠙\u001b[0m \u001b[2mPreparing packages...\u001b[0m (0/9)----\u001b[0m\u001b[0m 63.19 KiB/312.17 KiB                  \u001b[1A\n",
            "\u001b[2K\u001b[1A\u001b[37m⠙\u001b[0m \u001b[2mPreparing packages...\u001b[0m (0/9)----\u001b[0m\u001b[0m 79.19 KiB/312.17 KiB                  \u001b[1A\n",
            "\u001b[2K\u001b[1A\u001b[37m⠙\u001b[0m \u001b[2mPreparing packages...\u001b[0m (0/9)----\u001b[0m\u001b[0m 95.19 KiB/312.17 KiB                  \u001b[1A\n",
            "\u001b[2K\u001b[1A\u001b[37m⠙\u001b[0m \u001b[2mPreparing packages...\u001b[0m (0/9)----\u001b[0m\u001b[0m 111.19 KiB/312.17 KiB                 \u001b[1A\n",
            "\u001b[2K\u001b[1A\u001b[37m⠙\u001b[0m \u001b[2mPreparing packages...\u001b[0m (0/9)----\u001b[0m\u001b[0m 127.19 KiB/312.17 KiB                 \u001b[1A\n",
            "\u001b[2mprotobuf  \u001b[0m \u001b[32m-------------\u001b[2m-----------------\u001b[0m\u001b[0m 127.19 KiB/312.17 KiB\n",
            "\u001b[2K\u001b[2A\u001b[37m⠙\u001b[0m \u001b[2mPreparing packages...\u001b[0m (0/9)------\u001b[0m\u001b[0m     0 B/3.96 MiB                    \u001b[2A\n",
            "\u001b[2mprotobuf  \u001b[0m \u001b[32m-------------\u001b[2m-----------------\u001b[0m\u001b[0m 127.19 KiB/312.17 KiB\n",
            "\u001b[2mcryptography\u001b[0m \u001b[32m\u001b[2m------------------------------\u001b[0m\u001b[0m     0 B/3.96 MiB\n",
            "\u001b[2K\u001b[3A\u001b[37m⠙\u001b[0m \u001b[2mPreparing packages...\u001b[0m (0/9)----\u001b[0m\u001b[0m     0 B/5.63 MiB                      \u001b[3A\n",
            "\u001b[2mauthlib   \u001b[0m \u001b[32m\u001b[2m------------------------------\u001b[0m\u001b[0m     0 B/218.58 KiB\n",
            "\u001b[2mprotobuf  \u001b[0m \u001b[32m-------------\u001b[2m-----------------\u001b[0m\u001b[0m 127.19 KiB/312.17 KiB\n",
            "\u001b[2mcryptography\u001b[0m \u001b[32m\u001b[2m------------------------------\u001b[0m\u001b[0m     0 B/3.96 MiB\n",
            "\u001b[2K\u001b[4A\u001b[37m⠙\u001b[0m \u001b[2mPreparing packages...\u001b[0m (0/9)----\u001b[0m\u001b[0m     0 B/5.63 MiB                      \u001b[4A\n",
            "\u001b[2mauthlib   \u001b[0m \u001b[32m\u001b[2m------------------------------\u001b[0m\u001b[0m     0 B/218.58 KiB\n",
            "\u001b[2mprotobuf  \u001b[0m \u001b[32m-------------\u001b[2m-----------------\u001b[0m\u001b[0m 127.19 KiB/312.17 KiB\n",
            "\u001b[2mgrpcio-tools\u001b[0m \u001b[32m\u001b[2m------------------------------\u001b[0m\u001b[0m     0 B/2.31 MiB\n",
            "\u001b[2mcryptography\u001b[0m \u001b[32m\u001b[2m------------------------------\u001b[0m\u001b[0m     0 B/3.96 MiB\n",
            "\u001b[2K\u001b[5A\u001b[37m⠙\u001b[0m \u001b[2mPreparing packages...\u001b[0m (0/9)----\u001b[0m\u001b[0m     0 B/5.63 MiB                      \u001b[5A\n",
            "\u001b[2mvalidators\u001b[0m \u001b[32m\u001b[2m------------------------------\u001b[0m\u001b[0m     0 B/42.52 KiB\n",
            "\u001b[2mauthlib   \u001b[0m \u001b[32m\u001b[2m------------------------------\u001b[0m\u001b[0m     0 B/218.58 KiB\n",
            "\u001b[2mprotobuf  \u001b[0m \u001b[32m-------------\u001b[2m-----------------\u001b[0m\u001b[0m 127.19 KiB/312.17 KiB\n",
            "\u001b[2mgrpcio-tools\u001b[0m \u001b[32m\u001b[2m------------------------------\u001b[0m\u001b[0m     0 B/2.31 MiB\n",
            "\u001b[2mcryptography\u001b[0m \u001b[32m\u001b[2m------------------------------\u001b[0m\u001b[0m     0 B/3.96 MiB\n",
            "\u001b[2K\u001b[6A\u001b[37m⠙\u001b[0m \u001b[2mPreparing packages...\u001b[0m (0/9)----\u001b[0m\u001b[0m     0 B/5.63 MiB                      \u001b[6A\n",
            "\u001b[2mvalidators\u001b[0m \u001b[32m\u001b[2m------------------------------\u001b[0m\u001b[0m     0 B/42.52 KiB\n",
            "\u001b[2mauthlib   \u001b[0m \u001b[32m\u001b[2m------------------------------\u001b[0m\u001b[0m     0 B/218.58 KiB\n",
            "\u001b[2mprotobuf  \u001b[0m \u001b[32m-------------\u001b[2m-----------------\u001b[0m\u001b[0m 127.19 KiB/312.17 KiB\n",
            "\u001b[2mweaviate-client\u001b[0m \u001b[32m\u001b[2m------------------------------\u001b[0m\u001b[0m     0 B/317.74 KiB\n",
            "\u001b[2mgrpcio-tools\u001b[0m \u001b[32m\u001b[2m------------------------------\u001b[0m\u001b[0m     0 B/2.31 MiB\n",
            "\u001b[2mcryptography\u001b[0m \u001b[32m\u001b[2m------------------------------\u001b[0m\u001b[0m     0 B/3.96 MiB\n",
            "\u001b[2K\u001b[7A\u001b[37m⠙\u001b[0m \u001b[2mPreparing packages...\u001b[0m (0/9)----\u001b[0m\u001b[0m     0 B/5.63 MiB                      \u001b[7A\n",
            "\u001b[2mvalidators\u001b[0m \u001b[32m\u001b[2m------------------------------\u001b[0m\u001b[0m     0 B/42.52 KiB\n",
            "\u001b[2mauthlib   \u001b[0m \u001b[32m\u001b[2m------------------------------\u001b[0m\u001b[0m     0 B/218.58 KiB\n",
            "\u001b[2mprotobuf  \u001b[0m \u001b[32m--------------\u001b[2m----------------\u001b[0m\u001b[0m 143.19 KiB/312.17 KiB\n",
            "\u001b[2mweaviate-client\u001b[0m \u001b[32m\u001b[2m------------------------------\u001b[0m\u001b[0m     0 B/317.74 KiB\n",
            "\u001b[2mgrpcio-tools\u001b[0m \u001b[32m\u001b[2m------------------------------\u001b[0m\u001b[0m     0 B/2.31 MiB\n",
            "\u001b[2mcryptography\u001b[0m \u001b[32m\u001b[2m------------------------------\u001b[0m\u001b[0m     0 B/3.96 MiB\n",
            "\u001b[2K\u001b[7A\u001b[37m⠙\u001b[0m \u001b[2mPreparing packages...\u001b[0m (0/9)----\u001b[0m\u001b[0m     0 B/5.63 MiB                      \u001b[7A\n",
            "\u001b[2mvalidators\u001b[0m \u001b[32m\u001b[2m------------------------------\u001b[0m\u001b[0m     0 B/42.52 KiB\n",
            "\u001b[2mauthlib   \u001b[0m \u001b[32m\u001b[2m------------------------------\u001b[0m\u001b[0m     0 B/218.58 KiB\n",
            "\u001b[2mprotobuf  \u001b[0m \u001b[32m----------------\u001b[2m--------------\u001b[0m\u001b[0m 159.19 KiB/312.17 KiB\n",
            "\u001b[2mweaviate-client\u001b[0m \u001b[32m\u001b[2m------------------------------\u001b[0m\u001b[0m     0 B/317.74 KiB\n",
            "\u001b[2mgrpcio-tools\u001b[0m \u001b[32m\u001b[2m------------------------------\u001b[0m\u001b[0m     0 B/2.31 MiB\n",
            "\u001b[2mcryptography\u001b[0m \u001b[32m\u001b[2m------------------------------\u001b[0m\u001b[0m     0 B/3.96 MiB\n",
            "\u001b[2K\u001b[7A\u001b[37m⠙\u001b[0m \u001b[2mPreparing packages...\u001b[0m (0/9)----\u001b[0m\u001b[0m     0 B/5.63 MiB                      \u001b[7A\n",
            "\u001b[2mvalidators\u001b[0m \u001b[32m\u001b[2m------------------------------\u001b[0m\u001b[0m     0 B/42.52 KiB\n",
            "\u001b[2mauthlib   \u001b[0m \u001b[32m\u001b[2m------------------------------\u001b[0m\u001b[0m     0 B/218.58 KiB\n",
            "\u001b[2mprotobuf  \u001b[0m \u001b[32m-----------------\u001b[2m-------------\u001b[0m\u001b[0m 175.19 KiB/312.17 KiB\n",
            "\u001b[2mweaviate-client\u001b[0m \u001b[32m\u001b[2m------------------------------\u001b[0m\u001b[0m     0 B/317.74 KiB\n",
            "\u001b[2mgrpcio-tools\u001b[0m \u001b[32m\u001b[2m------------------------------\u001b[0m\u001b[0m     0 B/2.31 MiB\n",
            "\u001b[2mcryptography\u001b[0m \u001b[32m\u001b[2m------------------------------\u001b[0m\u001b[0m     0 B/3.96 MiB\n",
            "\u001b[2K\u001b[7A\u001b[37m⠙\u001b[0m \u001b[2mPreparing packages...\u001b[0m (0/9)----\u001b[0m\u001b[0m     0 B/5.63 MiB                      \u001b[7A\n",
            "\u001b[2mauthlib   \u001b[0m \u001b[32m-----\u001b[2m-------------------------\u001b[0m\u001b[0m 32.00 KiB/218.58 KiB\n",
            "\u001b[2mprotobuf  \u001b[0m \u001b[32m------------------------\u001b[2m------\u001b[0m\u001b[0m 244.56 KiB/312.17 KiB\n",
            "\u001b[2mweaviate-client\u001b[0m \u001b[32m----\u001b[2m--------------------------\u001b[0m\u001b[0m 40.74 KiB/317.74 KiB\n",
            "\u001b[2mgrpcio-tools\u001b[0m \u001b[32m-\u001b[2m-----------------------------\u001b[0m\u001b[0m 40.74 KiB/2.31 MiB\n",
            "\u001b[2mcryptography\u001b[0m \u001b[32m-\u001b[2m-----------------------------\u001b[0m\u001b[0m 61.60 KiB/3.96 MiB\n",
            "\u001b[2K\u001b[6A\u001b[37m⠙\u001b[0m \u001b[2mPreparing packages...\u001b[0m (0/9)----\u001b[0m\u001b[0m 62.73 KiB/5.63 MiB                    \u001b[6A\n",
            "\u001b[2mauthlib   \u001b[0m \u001b[32m-------\u001b[2m-----------------------\u001b[0m\u001b[0m 48.00 KiB/218.58 KiB\n",
            "\u001b[2mprotobuf  \u001b[0m \u001b[32m-------------------------\u001b[2m-----\u001b[0m\u001b[0m 255.19 KiB/312.17 KiB\n",
            "\u001b[2mweaviate-client\u001b[0m \u001b[32m------\u001b[2m------------------------\u001b[0m\u001b[0m 58.70 KiB/317.74 KiB\n",
            "\u001b[2mgrpcio-tools\u001b[0m \u001b[32m-\u001b[2m-----------------------------\u001b[0m\u001b[0m 72.74 KiB/2.31 MiB\n",
            "\u001b[2mcryptography\u001b[0m \u001b[32m-\u001b[2m-----------------------------\u001b[0m\u001b[0m 93.60 KiB/3.96 MiB\n",
            "\u001b[2K\u001b[6A\u001b[37m⠙\u001b[0m \u001b[2mPreparing packages...\u001b[0m (0/9)----\u001b[0m\u001b[0m 78.73 KiB/5.63 MiB                    \u001b[6A\n",
            "\u001b[2mauthlib   \u001b[0m \u001b[32m--------------------\u001b[2m----------\u001b[0m\u001b[0m 144.00 KiB/218.58 KiB\n",
            "\u001b[2mweaviate-client\u001b[0m \u001b[32m---------------\u001b[2m---------------\u001b[0m\u001b[0m 152.74 KiB/317.74 KiB\n",
            "\u001b[2mgrpcio-tools\u001b[0m \u001b[32m---\u001b[2m---------------------------\u001b[0m\u001b[0m 200.74 KiB/2.31 MiB\n",
            "\u001b[2mcryptography\u001b[0m \u001b[32m--\u001b[2m----------------------------\u001b[0m\u001b[0m 237.60 KiB/3.96 MiB\n",
            "\u001b[2K\u001b[5A\u001b[37m⠙\u001b[0m \u001b[2mPreparing packages...\u001b[0m (0/9)----\u001b[0m\u001b[0m 206.73 KiB/5.63 MiB                   \u001b[5A\n",
            "\u001b[2mauthlib   \u001b[0m \u001b[32m---------------------------\u001b[2m---\u001b[0m\u001b[0m 192.00 KiB/218.58 KiB\n",
            "\u001b[2mweaviate-client\u001b[0m \u001b[32m-------------------\u001b[2m-----------\u001b[0m\u001b[0m 198.42 KiB/317.74 KiB\n",
            "\u001b[2mgrpcio-tools\u001b[0m \u001b[32m-----\u001b[2m-------------------------\u001b[0m\u001b[0m 344.74 KiB/2.31 MiB\n",
            "\u001b[2mcryptography\u001b[0m \u001b[32m---\u001b[2m---------------------------\u001b[0m\u001b[0m 381.60 KiB/3.96 MiB\n",
            "\u001b[2K\u001b[5A\u001b[37m⠙\u001b[0m \u001b[2mPreparing packages...\u001b[0m (0/9)----\u001b[0m\u001b[0m 334.73 KiB/5.63 MiB                   \u001b[5A\n",
            "\u001b[2mweaviate-client\u001b[0m \u001b[32m---------------------\u001b[2m---------\u001b[0m\u001b[0m 216.74 KiB/317.74 KiB\n",
            "\u001b[2mgrpcio-tools\u001b[0m \u001b[32m------\u001b[2m------------------------\u001b[0m\u001b[0m 408.74 KiB/2.31 MiB\n",
            "\u001b[2mcryptography\u001b[0m \u001b[32m----\u001b[2m--------------------------\u001b[0m\u001b[0m 413.60 KiB/3.96 MiB\n",
            "\u001b[2K\u001b[4A\u001b[37m⠙\u001b[0m \u001b[2mPreparing packages...\u001b[0m (0/9)----\u001b[0m\u001b[0m 398.73 KiB/5.63 MiB                   \u001b[4A\n",
            "\u001b[2mweaviate-client\u001b[0m \u001b[32m-------------------------\u001b[2m-----\u001b[0m\u001b[0m 264.63 KiB/317.74 KiB\n",
            "\u001b[2mgrpcio-tools\u001b[0m \u001b[32m-------\u001b[2m-----------------------\u001b[0m\u001b[0m 488.74 KiB/2.31 MiB\n",
            "\u001b[2mcryptography\u001b[0m \u001b[32m----\u001b[2m--------------------------\u001b[0m\u001b[0m 477.60 KiB/3.96 MiB\n",
            "\u001b[2K\u001b[4A\u001b[37m⠙\u001b[0m \u001b[2mPreparing packages...\u001b[0m (0/9)----\u001b[0m\u001b[0m 478.73 KiB/5.63 MiB                   \u001b[4A\n",
            "\u001b[2mgrpcio-tools\u001b[0m \u001b[32m---------\u001b[2m---------------------\u001b[0m\u001b[0m 632.74 KiB/2.31 MiB\n",
            "\u001b[2mcryptography\u001b[0m \u001b[32m-----\u001b[2m-------------------------\u001b[0m\u001b[0m 589.49 KiB/3.96 MiB\n",
            "\u001b[2K\u001b[3A\u001b[37m⠹\u001b[0m \u001b[2mPreparing packages...\u001b[0m (5/9)----\u001b[0m\u001b[0m 606.73 KiB/5.63 MiB                   \u001b[3A\n",
            "\u001b[2mgrpcio-tools\u001b[0m \u001b[32m-------------\u001b[2m-----------------\u001b[0m\u001b[0m 1016.74 KiB/2.31 MiB\n",
            "\u001b[2mcryptography\u001b[0m \u001b[32m-------\u001b[2m-----------------------\u001b[0m\u001b[0m 909.60 KiB/3.96 MiB\n",
            "\u001b[2K\u001b[3A\u001b[37m⠹\u001b[0m \u001b[2mPreparing packages...\u001b[0m (5/9)----\u001b[0m\u001b[0m 926.62 KiB/5.63 MiB                   \u001b[3A\n",
            "\u001b[2mgrpcio-tools\u001b[0m \u001b[32m-------------------\u001b[2m-----------\u001b[0m\u001b[0m 1.41 MiB/2.31 MiB\n",
            "\u001b[2mcryptography\u001b[0m \u001b[32m----------\u001b[2m--------------------\u001b[0m\u001b[0m 1.30 MiB/3.96 MiB\n",
            "\u001b[2K\u001b[3A\u001b[37m⠹\u001b[0m \u001b[2mPreparing packages...\u001b[0m (5/9)----\u001b[0m\u001b[0m 1.31 MiB/5.63 MiB                     \u001b[3A\n",
            "\u001b[2mgrpcio-tools\u001b[0m \u001b[32m------------------------\u001b[2m------\u001b[0m\u001b[0m 1.81 MiB/2.31 MiB\n",
            "\u001b[2mcryptography\u001b[0m \u001b[32m--------------\u001b[2m----------------\u001b[0m\u001b[0m 1.76 MiB/3.96 MiB\n",
            "\u001b[2K\u001b[3A\u001b[37m⠹\u001b[0m \u001b[2mPreparing packages...\u001b[0m (5/9)----\u001b[0m\u001b[0m 1.72 MiB/5.63 MiB                     \u001b[3A\n",
            "\u001b[2mgrpcio-tools\u001b[0m \u001b[32m------------------------------\u001b[2m\u001b[0m\u001b[0m 2.28 MiB/2.31 MiB\n",
            "\u001b[2mcryptography\u001b[0m \u001b[32m-----------------\u001b[2m-------------\u001b[0m\u001b[0m 2.21 MiB/3.96 MiB\n",
            "\u001b[2K\u001b[3A\u001b[37m⠹\u001b[0m \u001b[2mPreparing packages...\u001b[0m (5/9)----\u001b[0m\u001b[0m 2.00 MiB/5.63 MiB                     \u001b[3A\n",
            "\u001b[2mcryptography\u001b[0m \u001b[32m------------------\u001b[2m------------\u001b[0m\u001b[0m 2.27 MiB/3.96 MiB\n",
            "\u001b[2K\u001b[2A\u001b[37m⠹\u001b[0m \u001b[2mPreparing packages...\u001b[0m (5/9)----\u001b[0m\u001b[0m 2.00 MiB/5.63 MiB                     \u001b[2A\n",
            "\u001b[2mcryptography\u001b[0m \u001b[32m---------------------\u001b[2m---------\u001b[0m\u001b[0m 2.67 MiB/3.96 MiB\n",
            "\u001b[2K\u001b[2A\u001b[37m⠹\u001b[0m \u001b[2mPreparing packages...\u001b[0m (5/9)----\u001b[0m\u001b[0m 2.50 MiB/5.63 MiB                     \u001b[2A\n",
            "\u001b[2mcryptography\u001b[0m \u001b[32m---------------------\u001b[2m---------\u001b[0m\u001b[0m 2.67 MiB/3.96 MiB\n",
            "\u001b[2K\u001b[2A\u001b[37m⠸\u001b[0m \u001b[2mPreparing packages...\u001b[0m (7/9)----\u001b[0m\u001b[0m 2.58 MiB/5.63 MiB                     \u001b[2A\n",
            "\u001b[2mcryptography\u001b[0m \u001b[32m--------------------------\u001b[2m----\u001b[0m\u001b[0m 3.35 MiB/3.96 MiB\n",
            "\u001b[2K\u001b[2A\u001b[37m⠸\u001b[0m \u001b[2mPreparing packages...\u001b[0m (7/9)----\u001b[0m\u001b[0m 3.28 MiB/5.63 MiB                     \u001b[2A\n",
            "\u001b[2K\u001b[1A\u001b[37m⠸\u001b[0m \u001b[2mPreparing packages...\u001b[0m (7/9)----\u001b[0m\u001b[0m 3.93 MiB/5.63 MiB                     \u001b[1A\n",
            "\u001b[2K\u001b[1A\u001b[37m⠸\u001b[0m \u001b[2mPreparing packages...\u001b[0m (7/9)----\u001b[0m\u001b[0m 3.98 MiB/5.63 MiB                     \u001b[1A\n",
            "\u001b[2K\u001b[2mPrepared \u001b[1m9 packages\u001b[0m \u001b[2min 576ms\u001b[0m\u001b[0m                                                 \u001b[1A\n",
            "\u001b[2K\u001b[2mInstalled \u001b[1m11 packages\u001b[0m \u001b[2min 13ms\u001b[0m\u001b[0m                               \u001b[0m\n",
            " \u001b[32m+\u001b[39m \u001b[1mauthlib\u001b[0m\u001b[2m==1.3.1\u001b[0m\n",
            " \u001b[32m+\u001b[39m \u001b[1mcffi\u001b[0m\u001b[2m==1.17.1\u001b[0m\n",
            " \u001b[32m+\u001b[39m \u001b[1mcryptography\u001b[0m\u001b[2m==44.0.0\u001b[0m\n",
            " \u001b[32m+\u001b[39m \u001b[1mgrpcio\u001b[0m\u001b[2m==1.68.1\u001b[0m\n",
            " \u001b[32m+\u001b[39m \u001b[1mgrpcio-health-checking\u001b[0m\u001b[2m==1.68.1\u001b[0m\n",
            " \u001b[32m+\u001b[39m \u001b[1mgrpcio-tools\u001b[0m\u001b[2m==1.68.1\u001b[0m\n",
            " \u001b[32m+\u001b[39m \u001b[1mprotobuf\u001b[0m\u001b[2m==5.29.2\u001b[0m\n",
            " \u001b[32m+\u001b[39m \u001b[1mpycparser\u001b[0m\u001b[2m==2.22\u001b[0m\n",
            " \u001b[32m+\u001b[39m \u001b[1mvalidators\u001b[0m\u001b[2m==0.34.0\u001b[0m\n",
            " \u001b[32m+\u001b[39m \u001b[1mweaviate-client\u001b[0m\u001b[2m==4.10.2\u001b[0m\n",
            " \u001b[32m+\u001b[39m \u001b[1mweaviate-haystack\u001b[0m\u001b[2m==4.0.2\u001b[0m\n"
          ]
        }
      ],
      "source": [
        "!uv pip install haystack-ai weaviate-haystack\n",
        "!uv pip install -q --upgrade openai # not to get the OpenAI proxies error: https://community.openai.com/t/error-with-openai-1-56-0-client-init-got-an-unexpected-keyword-argument-proxies/1040332/2"
      ]
    },
    {
      "cell_type": "markdown",
      "metadata": {
        "id": "VtYq1ESqMB3K"
      },
      "source": [
        "To get started, first provide your API keys below. We're providing you with a read-only API Key for Weaviate.\n",
        "\n",
        "For this challenge, we've prepared a Weaviate Collection for you which contains lots of movies and their overviews."
      ]
    },
    {
      "cell_type": "code",
      "execution_count": 2,
      "metadata": {
        "colab": {
          "base_uri": "https://localhost:8080/"
        },
        "id": "FL3rTDBtMBOj",
        "outputId": "fbc41d2d-ec98-4c93-c79e-a2b31ad02c58"
      },
      "outputs": [],
      "source": [
        "import os\n",
        "from getpass import getpass\n",
        "\n",
        "os.environ[\"WEAVIATE_API_KEY\"] = \"b3jhGwa4NkLGjaq3v1V1vh1pTrlKjePZSt91\"\n",
        "\n",
        "if \"OPENAI_API_KEY\" not in os.environ:\n",
        "    os.environ[\"OPENAI_API_KEY\"] = getpass(\"Enter OpenAI API key:\")"
      ]
    },
    {
      "cell_type": "markdown",
      "metadata": {
        "id": "PYsyzFI0MvHF"
      },
      "source": [
        "## 2) Weaviate Setup\n",
        "\n",
        "Next, you can connect to the right `WeaviateDocumentStore` (we've already added the right code for you below with the cleint URL in place).\n",
        "\n",
        "In this document store, there are many movies, their titles and ther overviews."
      ]
    },
    {
      "cell_type": "code",
      "execution_count": 3,
      "metadata": {
        "id": "EbTdrvUgZoku"
      },
      "outputs": [
        {
          "name": "stderr",
          "output_type": "stream",
          "text": [
            "/home/kalki/genAI/adventOfHaystack/.venv/lib/python3.12/site-packages/tqdm/auto.py:21: TqdmWarning: IProgress not found. Please update jupyter and ipywidgets. See https://ipywidgets.readthedocs.io/en/stable/user_install.html\n",
            "  from .autonotebook import tqdm as notebook_tqdm\n"
          ]
        }
      ],
      "source": [
        "from haystack_integrations.document_stores.weaviate import WeaviateDocumentStore, AuthApiKey\n",
        "from haystack import Document\n",
        "import os\n",
        "\n",
        "\n",
        "auth_client_secret = AuthApiKey()\n",
        "\n",
        "document_store = WeaviateDocumentStore(url=\"https://zgvjwlycsr6p5j1ziuyea.c0.europe-west3.gcp.weaviate.cloud\",\n",
        "                                       auth_client_secret=auth_client_secret)"
      ]
    },
    {
      "cell_type": "markdown",
      "metadata": {
        "id": "4qTWIDu_OpSF"
      },
      "source": [
        "## 3) The RAG Pipeline\n",
        "\n",
        "Now, you're on your own. Complete the code blocks below.\n",
        "\n",
        "First, create a RAG pipeline that can answer questions based on the overviews of the movies in your `document_store`.\n",
        "\n",
        "⭐️ You should then be able to run the pipeline and answer the questions \"What happens in the film 'A Very Weaviate Christmas'?\"\n",
        "\n",
        "**💚 Hint 1:** The embedding model that was used to populate the vectors was `text-embedding-3-small` by OpenAI.\n",
        "\n",
        "**💙 Hint 2:** We've added an import to the OpenAIGenerator but feel free to use something else!"
      ]
    },
    {
      "cell_type": "code",
      "execution_count": 4,
      "metadata": {
        "id": "aVUii4r1cr3f"
      },
      "outputs": [
        {
          "ename": "AttributeError",
          "evalue": "'str' object has no attribute 'resolve_value'",
          "output_type": "error",
          "traceback": [
            "\u001b[0;31m---------------------------------------------------------------------------\u001b[0m",
            "\u001b[0;31mAttributeError\u001b[0m                            Traceback (most recent call last)",
            "Cell \u001b[0;32mIn[4], line 21\u001b[0m\n\u001b[1;32m      7\u001b[0m template \u001b[38;5;241m=\u001b[39m \u001b[38;5;124m\"\"\"\u001b[39m\n\u001b[1;32m      8\u001b[0m \u001b[38;5;124mGiven the following information, answer the question.\u001b[39m\n\u001b[1;32m      9\u001b[0m \n\u001b[0;32m   (...)\u001b[0m\n\u001b[1;32m     16\u001b[0m \u001b[38;5;124mAnswer:\u001b[39m\n\u001b[1;32m     17\u001b[0m \u001b[38;5;124m\"\"\"\u001b[39m\n\u001b[1;32m     19\u001b[0m rag \u001b[38;5;241m=\u001b[39m Pipeline()\n\u001b[0;32m---> 21\u001b[0m rag\u001b[38;5;241m.\u001b[39madd_component(\u001b[38;5;124m\"\u001b[39m\u001b[38;5;124mtext_embedder\u001b[39m\u001b[38;5;124m\"\u001b[39m, \u001b[43mOpenAITextEmbedder\u001b[49m\u001b[43m(\u001b[49m\u001b[43mapi_key\u001b[49m\u001b[38;5;241;43m=\u001b[39;49m\u001b[43mos\u001b[49m\u001b[38;5;241;43m.\u001b[39;49m\u001b[43mgetenv\u001b[49m\u001b[43m(\u001b[49m\u001b[38;5;124;43m\"\u001b[39;49m\u001b[38;5;124;43mOPENAI_API_KEY\u001b[39;49m\u001b[38;5;124;43m\"\u001b[39;49m\u001b[43m)\u001b[49m\u001b[43m,\u001b[49m\u001b[43m \u001b[49m\u001b[43mmodel\u001b[49m\u001b[38;5;241;43m=\u001b[39;49m\u001b[38;5;124;43m\"\u001b[39;49m\u001b[38;5;124;43mtext-embedding-3-small\u001b[39;49m\u001b[38;5;124;43m\"\u001b[39;49m\u001b[43m)\u001b[49m)\n\u001b[1;32m     23\u001b[0m rag\u001b[38;5;241m.\u001b[39madd_component(\u001b[38;5;124m\"\u001b[39m\u001b[38;5;124mretriever\u001b[39m\u001b[38;5;124m\"\u001b[39m, WeaviateEmbeddingRetriever(document_store\u001b[38;5;241m=\u001b[39mdocument_store))\n\u001b[1;32m     25\u001b[0m rag\u001b[38;5;241m.\u001b[39madd_component(\u001b[38;5;124m\"\u001b[39m\u001b[38;5;124mprompt_builder\u001b[39m\u001b[38;5;124m\"\u001b[39m, PromptBuilder(template\u001b[38;5;241m=\u001b[39mtemplate))\n",
            "File \u001b[0;32m~/genAI/adventOfHaystack/.venv/lib/python3.12/site-packages/haystack/core/component/component.py:266\u001b[0m, in \u001b[0;36mComponentMeta.__call__\u001b[0;34m(cls, *args, **kwargs)\u001b[0m\n\u001b[1;32m    264\u001b[0m pre_init_hook \u001b[38;5;241m=\u001b[39m _COMPONENT_PRE_INIT_HOOK\u001b[38;5;241m.\u001b[39mget()\n\u001b[1;32m    265\u001b[0m \u001b[38;5;28;01mif\u001b[39;00m pre_init_hook \u001b[38;5;129;01mis\u001b[39;00m \u001b[38;5;28;01mNone\u001b[39;00m \u001b[38;5;129;01mor\u001b[39;00m pre_init_hook\u001b[38;5;241m.\u001b[39min_progress:\n\u001b[0;32m--> 266\u001b[0m     instance \u001b[38;5;241m=\u001b[39m \u001b[38;5;28;43msuper\u001b[39;49m\u001b[43m(\u001b[49m\u001b[43m)\u001b[49m\u001b[38;5;241;43m.\u001b[39;49m\u001b[38;5;21;43m__call__\u001b[39;49m\u001b[43m(\u001b[49m\u001b[38;5;241;43m*\u001b[39;49m\u001b[43margs\u001b[49m\u001b[43m,\u001b[49m\u001b[43m \u001b[49m\u001b[38;5;241;43m*\u001b[39;49m\u001b[38;5;241;43m*\u001b[39;49m\u001b[43mkwargs\u001b[49m\u001b[43m)\u001b[49m\n\u001b[1;32m    267\u001b[0m \u001b[38;5;28;01melse\u001b[39;00m:\n\u001b[1;32m    268\u001b[0m     \u001b[38;5;28;01mtry\u001b[39;00m:\n",
            "File \u001b[0;32m~/genAI/adventOfHaystack/.venv/lib/python3.12/site-packages/haystack/components/embedders/openai_text_embedder.py:101\u001b[0m, in \u001b[0;36mOpenAITextEmbedder.__init__\u001b[0;34m(self, api_key, model, dimensions, api_base_url, organization, prefix, suffix, timeout, max_retries)\u001b[0m\n\u001b[1;32m     97\u001b[0m \u001b[38;5;28;01mif\u001b[39;00m max_retries \u001b[38;5;129;01mis\u001b[39;00m \u001b[38;5;28;01mNone\u001b[39;00m:\n\u001b[1;32m     98\u001b[0m     max_retries \u001b[38;5;241m=\u001b[39m \u001b[38;5;28mint\u001b[39m(os\u001b[38;5;241m.\u001b[39menviron\u001b[38;5;241m.\u001b[39mget(\u001b[38;5;124m\"\u001b[39m\u001b[38;5;124mOPENAI_MAX_RETRIES\u001b[39m\u001b[38;5;124m\"\u001b[39m, \u001b[38;5;241m5\u001b[39m))\n\u001b[1;32m    100\u001b[0m \u001b[38;5;28mself\u001b[39m\u001b[38;5;241m.\u001b[39mclient \u001b[38;5;241m=\u001b[39m OpenAI(\n\u001b[0;32m--> 101\u001b[0m     api_key\u001b[38;5;241m=\u001b[39m\u001b[43mapi_key\u001b[49m\u001b[38;5;241;43m.\u001b[39;49m\u001b[43mresolve_value\u001b[49m(),\n\u001b[1;32m    102\u001b[0m     organization\u001b[38;5;241m=\u001b[39morganization,\n\u001b[1;32m    103\u001b[0m     base_url\u001b[38;5;241m=\u001b[39mapi_base_url,\n\u001b[1;32m    104\u001b[0m     timeout\u001b[38;5;241m=\u001b[39mtimeout,\n\u001b[1;32m    105\u001b[0m     max_retries\u001b[38;5;241m=\u001b[39mmax_retries,\n\u001b[1;32m    106\u001b[0m )\n",
            "\u001b[0;31mAttributeError\u001b[0m: 'str' object has no attribute 'resolve_value'"
          ]
        }
      ],
      "source": [
        "from haystack import Pipeline\n",
        "from haystack.components.embedders import OpenAITextEmbedder\n",
        "from haystack.components.builders import PromptBuilder\n",
        "from haystack_integrations.components.retrievers.weaviate import WeaviateEmbeddingRetriever\n",
        "from haystack_integrations.components.generators.ollama import OllamaGenerator\n",
        "\n",
        "template = \"\"\"\n",
        "Given the following information, answer the question.\n",
        "\n",
        "Context:\n",
        "{% for document in documents %}\n",
        "    {{ document.content }}\n",
        "{% endfor %}\n",
        "\n",
        "Question: {{question}}\n",
        "Answer:\n",
        "\"\"\"\n",
        "\n",
        "rag = Pipeline()\n",
        "\n",
        "rag.add_component(\"text_embedder\", OpenAITextEmbedder(api_key=os.getenv(\"OPENAI_API_KEY\"), model=\"text-embedding-3-small\"))\n",
        "\n",
        "rag.add_component(\"retriever\", WeaviateEmbeddingRetriever(document_store=document_store))\n",
        "\n",
        "rag.add_component(\"prompt_builder\", PromptBuilder(template=template))\n",
        "\n",
        "rag.add_component(\"llm\", OllamaGenerator(model=\"llama3.2\"))"
      ]
    },
    {
      "cell_type": "code",
      "execution_count": 6,
      "metadata": {},
      "outputs": [
        {
          "ename": "ValueError",
          "evalue": "Component named text_embedder not found in the pipeline.",
          "output_type": "error",
          "traceback": [
            "\u001b[0;31m---------------------------------------------------------------------------\u001b[0m",
            "\u001b[0;31mKeyError\u001b[0m                                  Traceback (most recent call last)",
            "File \u001b[0;32m~/genAI/adventOfHaystack/.venv/lib/python3.12/site-packages/haystack/core/pipeline/base.py:401\u001b[0m, in \u001b[0;36mPipelineBase.connect\u001b[0;34m(self, sender, receiver)\u001b[0m\n\u001b[1;32m    400\u001b[0m \u001b[38;5;28;01mtry\u001b[39;00m:\n\u001b[0;32m--> 401\u001b[0m     from_sockets \u001b[38;5;241m=\u001b[39m \u001b[38;5;28;43mself\u001b[39;49m\u001b[38;5;241;43m.\u001b[39;49m\u001b[43mgraph\u001b[49m\u001b[38;5;241;43m.\u001b[39;49m\u001b[43mnodes\u001b[49m\u001b[43m[\u001b[49m\u001b[43msender_component_name\u001b[49m\u001b[43m]\u001b[49m[\u001b[38;5;124m\"\u001b[39m\u001b[38;5;124moutput_sockets\u001b[39m\u001b[38;5;124m\"\u001b[39m]\n\u001b[1;32m    402\u001b[0m \u001b[38;5;28;01mexcept\u001b[39;00m \u001b[38;5;167;01mKeyError\u001b[39;00m \u001b[38;5;28;01mas\u001b[39;00m exc:\n",
            "File \u001b[0;32m~/genAI/adventOfHaystack/.venv/lib/python3.12/site-packages/networkx/classes/reportviews.py:196\u001b[0m, in \u001b[0;36mNodeView.__getitem__\u001b[0;34m(self, n)\u001b[0m\n\u001b[1;32m    192\u001b[0m     \u001b[38;5;28;01mraise\u001b[39;00m nx\u001b[38;5;241m.\u001b[39mNetworkXError(\n\u001b[1;32m    193\u001b[0m         \u001b[38;5;124mf\u001b[39m\u001b[38;5;124m\"\u001b[39m\u001b[38;5;132;01m{\u001b[39;00m\u001b[38;5;28mtype\u001b[39m(\u001b[38;5;28mself\u001b[39m)\u001b[38;5;241m.\u001b[39m\u001b[38;5;18m__name__\u001b[39m\u001b[38;5;132;01m}\u001b[39;00m\u001b[38;5;124m does not support slicing, \u001b[39m\u001b[38;5;124m\"\u001b[39m\n\u001b[1;32m    194\u001b[0m         \u001b[38;5;124mf\u001b[39m\u001b[38;5;124m\"\u001b[39m\u001b[38;5;124mtry list(G.nodes)[\u001b[39m\u001b[38;5;132;01m{\u001b[39;00mn\u001b[38;5;241m.\u001b[39mstart\u001b[38;5;132;01m}\u001b[39;00m\u001b[38;5;124m:\u001b[39m\u001b[38;5;132;01m{\u001b[39;00mn\u001b[38;5;241m.\u001b[39mstop\u001b[38;5;132;01m}\u001b[39;00m\u001b[38;5;124m:\u001b[39m\u001b[38;5;132;01m{\u001b[39;00mn\u001b[38;5;241m.\u001b[39mstep\u001b[38;5;132;01m}\u001b[39;00m\u001b[38;5;124m]\u001b[39m\u001b[38;5;124m\"\u001b[39m\n\u001b[1;32m    195\u001b[0m     )\n\u001b[0;32m--> 196\u001b[0m \u001b[38;5;28;01mreturn\u001b[39;00m \u001b[38;5;28;43mself\u001b[39;49m\u001b[38;5;241;43m.\u001b[39;49m\u001b[43m_nodes\u001b[49m\u001b[43m[\u001b[49m\u001b[43mn\u001b[49m\u001b[43m]\u001b[49m\n",
            "\u001b[0;31mKeyError\u001b[0m: 'text_embedder'",
            "\nThe above exception was the direct cause of the following exception:\n",
            "\u001b[0;31mValueError\u001b[0m                                Traceback (most recent call last)",
            "Cell \u001b[0;32mIn[6], line 1\u001b[0m\n\u001b[0;32m----> 1\u001b[0m \u001b[43mrag\u001b[49m\u001b[38;5;241;43m.\u001b[39;49m\u001b[43mconnect\u001b[49m\u001b[43m(\u001b[49m\u001b[38;5;124;43m\"\u001b[39;49m\u001b[38;5;124;43mtext_embedder.embedding\u001b[39;49m\u001b[38;5;124;43m\"\u001b[39;49m\u001b[43m,\u001b[49m\u001b[43m \u001b[49m\u001b[38;5;124;43m\"\u001b[39;49m\u001b[38;5;124;43mretriever.query_embedding\u001b[39;49m\u001b[38;5;124;43m\"\u001b[39;49m\u001b[43m)\u001b[49m\n\u001b[1;32m      2\u001b[0m rag\u001b[38;5;241m.\u001b[39mconnect(\u001b[38;5;124m\"\u001b[39m\u001b[38;5;124mretriever\u001b[39m\u001b[38;5;124m\"\u001b[39m, \u001b[38;5;124m\"\u001b[39m\u001b[38;5;124mprompt_builder.documents\u001b[39m\u001b[38;5;124m\"\u001b[39m)\n\u001b[1;32m      3\u001b[0m rag\u001b[38;5;241m.\u001b[39mconnect(\u001b[38;5;124m\"\u001b[39m\u001b[38;5;124mprompt_builder\u001b[39m\u001b[38;5;124m\"\u001b[39m, \u001b[38;5;124m\"\u001b[39m\u001b[38;5;124mllm\u001b[39m\u001b[38;5;124m\"\u001b[39m)\n",
            "File \u001b[0;32m~/genAI/adventOfHaystack/.venv/lib/python3.12/site-packages/haystack/core/pipeline/base.py:403\u001b[0m, in \u001b[0;36mPipelineBase.connect\u001b[0;34m(self, sender, receiver)\u001b[0m\n\u001b[1;32m    401\u001b[0m     from_sockets \u001b[38;5;241m=\u001b[39m \u001b[38;5;28mself\u001b[39m\u001b[38;5;241m.\u001b[39mgraph\u001b[38;5;241m.\u001b[39mnodes[sender_component_name][\u001b[38;5;124m\"\u001b[39m\u001b[38;5;124moutput_sockets\u001b[39m\u001b[38;5;124m\"\u001b[39m]\n\u001b[1;32m    402\u001b[0m \u001b[38;5;28;01mexcept\u001b[39;00m \u001b[38;5;167;01mKeyError\u001b[39;00m \u001b[38;5;28;01mas\u001b[39;00m exc:\n\u001b[0;32m--> 403\u001b[0m     \u001b[38;5;28;01mraise\u001b[39;00m \u001b[38;5;167;01mValueError\u001b[39;00m(\u001b[38;5;124mf\u001b[39m\u001b[38;5;124m\"\u001b[39m\u001b[38;5;124mComponent named \u001b[39m\u001b[38;5;132;01m{\u001b[39;00msender_component_name\u001b[38;5;132;01m}\u001b[39;00m\u001b[38;5;124m not found in the pipeline.\u001b[39m\u001b[38;5;124m\"\u001b[39m) \u001b[38;5;28;01mfrom\u001b[39;00m \u001b[38;5;21;01mexc\u001b[39;00m\n\u001b[1;32m    404\u001b[0m \u001b[38;5;28;01mtry\u001b[39;00m:\n\u001b[1;32m    405\u001b[0m     to_sockets \u001b[38;5;241m=\u001b[39m \u001b[38;5;28mself\u001b[39m\u001b[38;5;241m.\u001b[39mgraph\u001b[38;5;241m.\u001b[39mnodes[receiver_component_name][\u001b[38;5;124m\"\u001b[39m\u001b[38;5;124minput_sockets\u001b[39m\u001b[38;5;124m\"\u001b[39m]\n",
            "\u001b[0;31mValueError\u001b[0m: Component named text_embedder not found in the pipeline."
          ]
        }
      ],
      "source": [
        "rag.connect(\"text_embedder.embedding\", \"retriever.query_embedding\")\n",
        "rag.connect(\"retriever\", \"prompt_builder.documents\")\n",
        "rag.connect(\"prompt_builder\", \"llm\")"
      ]
    },
    {
      "cell_type": "code",
      "execution_count": null,
      "metadata": {},
      "outputs": [],
      "source": [
        "rag.show()"
      ]
    },
    {
      "cell_type": "code",
      "execution_count": null,
      "metadata": {
        "id": "OsiP8tIVfXqD"
      },
      "outputs": [],
      "source": [
        "query = \"What happens in the film 'A Very Weaviate Christmas'?\"\n",
        "reply = rag.run(...)\n",
        "\n",
        "# print(reply[...])"
      ]
    },
    {
      "cell_type": "markdown",
      "metadata": {
        "id": "iEldTiRmShUk"
      },
      "source": [
        "## 4) Solve the Mystery\n",
        "\n",
        "By this point, you should know what's happening.. There is a Collection where everything has been hidden.\n",
        "\n",
        "Complete the code cell below by providing the right Collection name, and tell us the following:\n",
        "\n",
        "1. Who is the culprit? Watch out, because there may be `decoys`.\n",
        "2. What have they stolen?\n",
        "\n",
        "**💚 Hint:** Once you've connected to the right collection, take a look at all the Objects in there. Then, you may be able to use filters to avoid the decoys!\n",
        "\n",
        "- [Weaviate Documentation: Read all Objects](https://weaviate.io/developers/weaviate/manage-data/read-all-objects)\n",
        "- [Weaviate Documentation: Filters](https://weaviate.io/developers/weaviate/search/filters)"
      ]
    },
    {
      "cell_type": "code",
      "execution_count": null,
      "metadata": {
        "id": "4US7AdElQ2Zk"
      },
      "outputs": [],
      "source": [
        "import weaviate\n",
        "\n",
        "from weaviate.classes.init import Auth\n",
        "\n",
        "headers = {\"X-OpenAI-Api-Key\": os.getenv(\"OPENAI_API_KEY\")}\n",
        "client = weaviate.connect_to_weaviate_cloud(cluster_url=\"https://zgvjwlycsr6p5j1ziuyea.c0.europe-west3.gcp.weaviate.cloud\",\n",
        "                                            auth_credentials=Auth.api_key(os.getenv(\"WEAVIATE_API_KEY\")),\n",
        "                                            headers=headers)\n",
        "\n",
        "# Provide the name of the collection in client.collections.get() below 👇\n",
        "plot = client.collections.get(...)"
      ]
    }
  ],
  "metadata": {
    "colab": {
      "provenance": []
    },
    "kernelspec": {
      "display_name": ".venv",
      "language": "python",
      "name": "python3"
    },
    "language_info": {
      "codemirror_mode": {
        "name": "ipython",
        "version": 3
      },
      "file_extension": ".py",
      "mimetype": "text/x-python",
      "name": "python",
      "nbconvert_exporter": "python",
      "pygments_lexer": "ipython3",
      "version": "3.12.3"
    }
  },
  "nbformat": 4,
  "nbformat_minor": 0
}
