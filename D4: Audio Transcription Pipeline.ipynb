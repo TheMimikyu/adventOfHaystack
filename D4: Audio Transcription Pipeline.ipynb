{
  "cells": [
    {
      "cell_type": "markdown",
      "metadata": {
        "id": "J56MHmKkNy_Q"
      },
      "source": [
        "# Audio Transcription Pipeline (AssemblyAI Integration)\n",
        "\n",
        "Key Tasks:\n",
        "1. **Transcribe Santa's Story**: Convert an audio file to text using AssemblyAI's transcription service\n",
        "2. **Create a Summary**: Generate a concise version of the story for quick reading\n",
        "3. **Adapt for Gen Z**: Transform the story into modern, youth-friendly language using an LLM\n",
        "\n",
        "The goal is to make Santa's story accessible to different audiences by leveraging AI technologies and the Haystack framework.\n",
        "\n",
        "## Prerequisites\n",
        "- AssemblyAI API key\n",
        "- OpenAI API key (or alternative LLM)\n",
        "- Basic understanding of Python and Haystack pipelines\n",
        "\n",
        "## Resources\n",
        "- [Haystack docs - AssemblyAI integration](https://haystack.deepset.ai/integrations/assemblyai)\n",
        "- [Haystack docs - Creating pipelines](https://docs.haystack.deepset.ai/docs/creating-pipelines)"
      ]
    },
    {
      "cell_type": "markdown",
      "metadata": {
        "id": "EkAAtfdW_WGN"
      },
      "source": [
        "## Task 1: Transcribing Santa's Story\n"
      ]
    },
    {
      "cell_type": "markdown",
      "metadata": {},
      "source": [
        "### Setup"
      ]
    },
    {
      "cell_type": "code",
      "execution_count": 2,
      "metadata": {
        "id": "HjHQpUv9YM_Y"
      },
      "outputs": [
        {
          "name": "stderr",
          "output_type": "stream",
          "text": [
            "\u001b[2mAudited \u001b[1m1 package\u001b[0m \u001b[2min 50ms\u001b[0m\u001b[0m\n",
            "\u001b[2mResolved \u001b[1m39 packages\u001b[0m \u001b[2min 1.32s\u001b[0m\u001b[0m\n",
            "\u001b[2mPrepared \u001b[1m2 packages\u001b[0m \u001b[2min 328ms\u001b[0m\u001b[0m\n",
            "\u001b[2mInstalled \u001b[1m3 packages\u001b[0m \u001b[2min 13ms\u001b[0m\u001b[0m\n",
            " \u001b[32m+\u001b[39m \u001b[1massemblyai\u001b[0m\u001b[2m==0.36.0\u001b[0m\n",
            " \u001b[32m+\u001b[39m \u001b[1massemblyai-haystack\u001b[0m\u001b[2m==0.1.1\u001b[0m\n",
            " \u001b[32m+\u001b[39m \u001b[1mwebsockets\u001b[0m\u001b[2m==14.1\u001b[0m\n"
          ]
        }
      ],
      "source": [
        "!uv pip install haystack-ai\n",
        "!uv pip install assemblyai-haystack\n",
        "!uv pip install -q --upgrade openai # not to get the OpenAI proxies error: https://community.openai.com/t/error-with-openai-1-56-0-client-init-got-an-unexpected-keyword-argument-proxies/1040332/2"
      ]
    },
    {
      "cell_type": "code",
      "execution_count": 12,
      "metadata": {
        "id": "Fwg_vRKlBBoA"
      },
      "outputs": [],
      "source": [
        "from getpass import getpass\n",
        "\n",
        "ASSEMBLYAI_API_KEY = getpass(\"Enter AssemblyAI Api key: \")"
      ]
    },
    {
      "cell_type": "markdown",
      "metadata": {
        "id": "bGk0Al5HRydC"
      },
      "source": [
        "### Running the `AssemblyAITranscriber` for a given audio file:"
      ]
    },
    {
      "cell_type": "code",
      "execution_count": 13,
      "metadata": {
        "id": "wgbG9-z-IBD2"
      },
      "outputs": [],
      "source": [
        "from assemblyai_haystack.transcriber import AssemblyAITranscriber\n",
        "\n",
        "audio_file = \"https://assembly.ai/story-of-santa-claus.mp3\"\n",
        "\n",
        "transcriber = AssemblyAITranscriber(api_key=ASSEMBLYAI_API_KEY)\n",
        "\n",
        "result = transcriber.run(audio_file) "
      ]
    },
    {
      "cell_type": "code",
      "execution_count": 14,
      "metadata": {
        "id": "ggBxoBEJJBzE"
      },
      "outputs": [
        {
          "name": "stdout",
          "output_type": "stream",
          "text": [
            "The Story of Santa Claus There once lived a wealthy and rich man named Nicholas who lived in the North Pole. He was a kind, generous man. Nicholas enjoyed surprising people, and he often did things to make others happy. Nicholas had a special hobby. He would carve out pretty wooden toys in his free time. But no one ever saw these toys. It was Christmas time, and Nicholas wanted to do something special for the children around him. While sitting in his chair one morning, he suddenly had an idea. Nicholas was going to carve many beautiful toys for all the little boys and girls. Christmas presents. He would go climb up the chimney of all the houses and drop presents into the stockings that hung near the fireplace. Late that night, while everyone slept, Nicholas crept towards a nearby house and climbed to the top of the roof. He threw a toy into the chimney and quickly climbed back down. Nicholas did this to several houses, but after some time he became tired. He quickly went back to his house and pulled out his sleigh and tied them to his reindeers. Nicholas set back out into the snow and cold, but not for long. His sleigh got stuck in the snow. Nicholas was trying to pull the reindeers out of the snow when suddenly an angel appeared. The angel said, nicholas, you are a good man and I want to help you. The angel touched the reindeers and said, now these reindeers are special. They will be able to fly. The angel then waved her hand and a group of small elves appear. They were dressed in green clothes, wore tall green hats and had long, funny ears. They will deliver gifts and bring happiness to many children. They are also fast and will help you make all kinds of toys. Nicholas was in shock, but was very, very happ. Everyone got into the sleigh and with one shake of the ropes, the reindeer took off into the sky, flying high to spread Christmas love and cheer. Nicholas said, merry Christmas to all and to all a good night. The next morning, the children woke up and ran to the fireplace. They pulled off the gifts from the stockings and screamed with joy. Mummy. Someone magically put a gift in our stocking. It's a beautiful toy. And that is the story of how Nicholas became Santa Claus. He now is the man we know on a Christmas long ago.\n"
          ]
        }
      ],
      "source": [
        "print(result[\"transcription\"][0].content)"
      ]
    },
    {
      "cell_type": "markdown",
      "metadata": {
        "id": "TWTvZDUSSFnv"
      },
      "source": [
        "*“Task one, complete!”*"
      ]
    },
    {
      "cell_type": "markdown",
      "metadata": {
        "id": "9kmvxy-WjvuW"
      },
      "source": [
        "## Task 2: Summarizing Santa's Tale\n",
        "\n",
        "Since the whole text is long to read. We'll have to code in a quick summary.\n",
        "\n",
        "\n",
        "*Implementation:* Enable `summarization` feature of the `AssemblyAITranscriber` to make the story shorter."
      ]
    },
    {
      "cell_type": "markdown",
      "metadata": {
        "id": "lwR72hgZ0K7y"
      },
      "source": [
        "**☝ TODO: Run the transcriber again and fill out the missing parts to enable summarization**"
      ]
    },
    {
      "cell_type": "code",
      "execution_count": 15,
      "metadata": {
        "id": "mUFMIVq8IyYs"
      },
      "outputs": [
        {
          "name": "stdout",
          "output_type": "stream",
          "text": [
            "- The Story of Santa Claus. There once lived a wealthy and rich man named Nicholas who lived in the North Pole. He would climb up the chimney of all the houses and drop presents into the stockings that hung near the fireplace. The next morning, the children woke up and ran to the fireplace to find gifts.\n"
          ]
        }
      ],
      "source": [
        "result = transcriber.run(audio_file, summarization=True)\n",
        "\n",
        "# Printing Content of the Summarization\n",
        "print(result[\"summarization\"][0].content)"
      ]
    },
    {
      "cell_type": "markdown",
      "metadata": {
        "id": "snOZOzIIj1U8"
      },
      "source": [
        "## Task 3: Rewriting for Gen Z Kids\n",
        "\n",
        "To reach a wider audience. We'll be using an LLM and a Haystack pipeline to transform the transcription into GenZ language."
      ]
    },
    {
      "cell_type": "markdown",
      "metadata": {},
      "source": [
        "### Setup"
      ]
    },
    {
      "cell_type": "code",
      "execution_count": 16,
      "metadata": {
        "id": "o2blMx9u6Bqq"
      },
      "outputs": [
        {
          "data": {
            "text/plain": [
              "' from getpass import getpass\\nimport os\\n\\nos.environ[\"OPENAI_API_KEY\"] = getpass(\"Enter OpenAI Api key: \") '"
            ]
          },
          "execution_count": 16,
          "metadata": {},
          "output_type": "execute_result"
        }
      ],
      "source": [
        "from getpass import getpass\n",
        "import os\n",
        "\n",
        "os.environ[\"OPENAI_API_KEY\"] = getpass(\"Enter OpenAI Api key: \")"
      ]
    },
    {
      "cell_type": "markdown",
      "metadata": {},
      "source": [
        "### Pipeline Creation"
      ]
    },
    {
      "cell_type": "code",
      "execution_count": 18,
      "metadata": {
        "id": "RGayaRaCa4C-"
      },
      "outputs": [
        {
          "data": {
            "text/plain": [
              "<haystack.core.pipeline.pipeline.Pipeline object at 0x7fc9356edd30>\n",
              "🚅 Components\n",
              "  - transcriber: AssemblyAITranscriber\n",
              "  - prompt_builder: PromptBuilder\n",
              "  - llm: OpenAIGenerator\n",
              "🛤️ Connections\n",
              "  - transcriber.transcription -> prompt_builder.transcription (List[Document])\n",
              "  - prompt_builder.prompt -> llm.prompt (str)"
            ]
          },
          "execution_count": 18,
          "metadata": {},
          "output_type": "execute_result"
        }
      ],
      "source": [
        "from assemblyai_haystack.transcriber import AssemblyAITranscriber\n",
        "from haystack import Pipeline\n",
        "from haystack.utils import Secret\n",
        "from haystack.components.builders import PromptBuilder\n",
        "from haystack.components.generators import OpenAIGenerator\n",
        "\n",
        "\n",
        "template = \"\"\"\n",
        "Modify the tone of the transcribed story and transform it into Gen Z language.\n",
        "Return only the modified story without a preface.\n",
        "\n",
        "Transcript:\n",
        "{{transcription}}\n",
        "\"\"\"\n",
        "\n",
        "prompt_builder = PromptBuilder(template=template)\n",
        "\n",
        "transcriber = AssemblyAITranscriber(api_key=ASSEMBLYAI_API_KEY)\n",
        "\n",
        "llm = OpenAIGenerator(model=\"gpt-4o-mini\")\n",
        "\n",
        "pipe = Pipeline()\n",
        "pipe.add_component(\"transcriber\", transcriber)\n",
        "pipe.add_component(\"prompt_builder\", prompt_builder)  \n",
        "pipe.add_component(\"llm\", llm) \n",
        "\n",
        "\n",
        "pipe.connect(\"transcriber.transcription\", \"prompt_builder.transcription\")\n",
        "pipe.connect(\"prompt_builder\", \"llm\")"
      ]
    },
    {
      "cell_type": "markdown",
      "metadata": {
        "id": "ULLMbAhOS3r1"
      },
      "source": [
        "*After the Pipeline was configured, Elf Patrick could run the whole pipeline and review the final output:*\n",
        "\n",
        "☝Run the next cell."
      ]
    },
    {
      "cell_type": "code",
      "execution_count": null,
      "metadata": {},
      "outputs": [],
      "source": [
        "### Running the pipeline"
      ]
    },
    {
      "cell_type": "code",
      "execution_count": 19,
      "metadata": {
        "id": "DfHbUO6GyLIs"
      },
      "outputs": [
        {
          "name": "stdout",
          "output_type": "stream",
          "text": [
            "Yo, lemme tell you the tea about Santa Claus. So, there was this mega-rich dude named Nicholas, right? He was living it up in the North, totally vibin’. This guy had mad stacks, but instead of flexing on everyone, he decided to spread some holiday cheer instead. Total legend move. \n",
            "\n",
            "Instead of just chillin’ on his riches, he started this whole vibe of gifting people in his town. Like, imagine opening your door to find a surprise gift? Major wow. The man was just out there putting smiles on faces 'cause he knew what it was like to come from nothing.\n",
            "\n",
            "As the years went by, people started calling him Santa, and he became the OG of gift-giving. Now, we all know him as this jolly guy in a red suit riding a sleigh led by reindeer—total squad goals. Every Christmas, he’d slide down chimneys dropping presents like it’s no big deal. \n",
            "\n",
            "So now, when holiday season rolls around, we’re all hyped about Santa, recognizing that it’s all about giving back and spreading the love. That’s the real vibe check right there!\n"
          ]
        }
      ],
      "source": [
        "audio_file = \"https://assembly.ai/story-of-santa-claus.mp3\"\n",
        "res = pipe.run(\n",
        "    {\n",
        "        \"transcriber\": {\n",
        "            \"file_path\": audio_file,\n",
        "        }\n",
        "    }\n",
        ")\n",
        "\n",
        "print(res[\"llm\"][\"replies\"][0])"
      ]
    },
    {
      "cell_type": "markdown",
      "metadata": {
        "id": "vjMY8UaGTEhJ"
      },
      "source": [
        "## Conclusion\n",
        "\n",
        "*Our fetched outputs are:*\n",
        "\n",
        "1. *The Full Transcription - Transcribed using the [assemblyai-haystack integration](https://github.com/AssemblyAI/assemblyai-haystack) and the `AssemblyAITranscriber`*.\n",
        "2. *The Summary - Also created with the `AssemblyAITranscriber` and `summarization` enabled.*\n",
        "3. *The Gen Z Remix - Generated with a Haystack pipeline consisting of the transcriber, a prompt builder, and an LLM generator.*"
      ]
    }
  ],
  "metadata": {
    "colab": {
      "provenance": []
    },
    "kernelspec": {
      "display_name": ".venv",
      "language": "python",
      "name": "python3"
    },
    "language_info": {
      "codemirror_mode": {
        "name": "ipython",
        "version": 3
      },
      "file_extension": ".py",
      "mimetype": "text/x-python",
      "name": "python",
      "nbconvert_exporter": "python",
      "pygments_lexer": "ipython3",
      "version": "3.12.3"
    }
  },
  "nbformat": 4,
  "nbformat_minor": 0
}
